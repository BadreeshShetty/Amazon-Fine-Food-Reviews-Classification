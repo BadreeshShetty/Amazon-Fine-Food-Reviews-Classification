{
 "cells": [
  {
   "cell_type": "markdown",
   "metadata": {},
   "source": [
    "# [7] Amazon Fine Food Reviews Analysis\n",
    "\n",
    "\n",
    "Data Source: https://www.kaggle.com/snap/amazon-fine-food-reviews\n",
    "\n",
    "The Amazon Fine Food Reviews dataset consists of reviews of fine foods from Amazon.<br>\n",
    "\n",
    "Number of reviews: 568,454<br>\n",
    "Number of users: 256,059<br>\n",
    "Number of products: 74,258<br>\n",
    "Timespan: Oct 1999 - Oct 2012<br>\n",
    "Number of Attributes/Columns in data: 10 \n",
    "\n",
    "Attribute Information:\n",
    "\n",
    "1. Id\n",
    "2. ProductId - unique identifier for the product\n",
    "3. UserId - unqiue identifier for the user\n",
    "4. ProfileName\n",
    "5. HelpfulnessNumerator - number of users who found the review helpful\n",
    "6. HelpfulnessDenominator - number of users who indicated whether they found the review helpful or not\n",
    "7. Score - rating between 1 and 5\n",
    "8. Time - timestamp for the review\n",
    "9. Summary - brief summary of the review\n",
    "10. Text - text of the review\n",
    "\n",
    "\n",
    "#### Objective:\n",
    "Given a review, determine whether the review is positive (Rating of 4 or 5) or negative (rating of 1 or 2).\n",
    "\n",
    "<br>\n",
    "[Q] How to determine if a review is positive or negative?<br>\n",
    "<br> \n",
    "[Ans] We could use the Score/Rating. A rating of 4 or 5 could be cosnidered a positive review. A review of 1 or 2 could be considered negative. A review of 3 is nuetral and ignored. This is an approximate and proxy way of determining the polarity (positivity/negativity) of a review.\n",
    "\n",
    "\n"
   ]
  },
  {
   "cell_type": "markdown",
   "metadata": {},
   "source": [
    "## [7.1] Loading the data\n",
    "\n",
    "The dataset is available in two forms\n",
    "1. .csv file\n",
    "2. SQLite Database\n",
    "\n",
    "In order to load the data, We have used the SQLITE dataset as it easier to query the data and visualise the data efficiently.\n",
    "<br> \n",
    "\n",
    "Here as we only want to get the global sentiment of the recommendations (positive or negative), we will purposefully ignore all Scores equal to 3. If the score id above 3, then the recommendation wil be set to \"positive\". Otherwise, it will be set to \"negative\"."
   ]
  },
  {
   "cell_type": "code",
   "execution_count": 1,
   "metadata": {},
   "outputs": [
    {
     "name": "stderr",
     "output_type": "stream",
     "text": [
      "C:\\Users\\Dell\\Anaconda3\\lib\\site-packages\\gensim\\utils.py:1209: UserWarning: detected Windows; aliasing chunkize to chunkize_serial\n",
      "  warnings.warn(\"detected Windows; aliasing chunkize to chunkize_serial\")\n"
     ]
    }
   ],
   "source": [
    "%matplotlib inline\n",
    "import warnings\n",
    "warnings.filterwarnings(\"ignore\")\n",
    "\n",
    "import sqlite3\n",
    "import pandas as pd\n",
    "import numpy as np\n",
    "import nltk\n",
    "import string\n",
    "import matplotlib.pyplot as plt\n",
    "import seaborn as sns\n",
    "from sklearn.feature_extraction.text import TfidfTransformer\n",
    "from sklearn.feature_extraction.text import TfidfVectorizer\n",
    "\n",
    "from sklearn.feature_extraction.text import CountVectorizer\n",
    "from sklearn.metrics import confusion_matrix, accuracy_score, classification_report\n",
    "from sklearn import metrics\n",
    "from sklearn.metrics import roc_curve, auc\n",
    "from nltk.stem.porter import PorterStemmer\n",
    "\n",
    "import re\n",
    "# Tutorial about Python regular expressions: https://pymotw.com/2/re/\n",
    "import string\n",
    "from nltk.corpus import stopwords\n",
    "from nltk.stem import PorterStemmer\n",
    "from nltk.stem.wordnet import WordNetLemmatizer\n",
    "\n",
    "from gensim.models import Word2Vec\n",
    "from gensim.models import KeyedVectors\n",
    "import pickle\n",
    "\n",
    "\n",
    "\n",
    "# using the SQLite Table to read data.\n",
    "con = sqlite3.connect('../amazon-fine-food-reviews/database.sqlite') \n",
    " \n",
    "\n",
    "\n",
    "\n",
    "#filtering only positive and negative reviews i.e. \n",
    "# not taking into consideration those reviews with Score=3\n",
    "filtered_data = pd.read_sql_query(\"\"\" SELECT * FROM Reviews WHERE Score != 3 \"\"\", con) \n",
    "\n",
    "\n",
    "# Give reviews with Score>3 a positive rating, and reviews with a score<3 a negative rating.\n",
    "def partition(x):\n",
    "    if x < 3:\n",
    "        return 'negative'\n",
    "    return 'positive'\n",
    "\n",
    "#changing reviews with score less than 3 to be positive and vice-versa\n",
    "actualScore = filtered_data['Score']\n",
    "positiveNegative = actualScore.map(partition) \n",
    "filtered_data['Score'] = positiveNegative"
   ]
  },
  {
   "cell_type": "code",
   "execution_count": 2,
   "metadata": {},
   "outputs": [
    {
     "name": "stdout",
     "output_type": "stream",
     "text": [
      "(525814, 10)\n"
     ]
    },
    {
     "data": {
      "text/html": [
       "<div>\n",
       "<style scoped>\n",
       "    .dataframe tbody tr th:only-of-type {\n",
       "        vertical-align: middle;\n",
       "    }\n",
       "\n",
       "    .dataframe tbody tr th {\n",
       "        vertical-align: top;\n",
       "    }\n",
       "\n",
       "    .dataframe thead th {\n",
       "        text-align: right;\n",
       "    }\n",
       "</style>\n",
       "<table border=\"1\" class=\"dataframe\">\n",
       "  <thead>\n",
       "    <tr style=\"text-align: right;\">\n",
       "      <th></th>\n",
       "      <th>Id</th>\n",
       "      <th>ProductId</th>\n",
       "      <th>UserId</th>\n",
       "      <th>ProfileName</th>\n",
       "      <th>HelpfulnessNumerator</th>\n",
       "      <th>HelpfulnessDenominator</th>\n",
       "      <th>Score</th>\n",
       "      <th>Time</th>\n",
       "      <th>Summary</th>\n",
       "      <th>Text</th>\n",
       "    </tr>\n",
       "  </thead>\n",
       "  <tbody>\n",
       "    <tr>\n",
       "      <th>0</th>\n",
       "      <td>1</td>\n",
       "      <td>B001E4KFG0</td>\n",
       "      <td>A3SGXH7AUHU8GW</td>\n",
       "      <td>delmartian</td>\n",
       "      <td>1</td>\n",
       "      <td>1</td>\n",
       "      <td>positive</td>\n",
       "      <td>1303862400</td>\n",
       "      <td>Good Quality Dog Food</td>\n",
       "      <td>I have bought several of the Vitality canned d...</td>\n",
       "    </tr>\n",
       "    <tr>\n",
       "      <th>1</th>\n",
       "      <td>2</td>\n",
       "      <td>B00813GRG4</td>\n",
       "      <td>A1D87F6ZCVE5NK</td>\n",
       "      <td>dll pa</td>\n",
       "      <td>0</td>\n",
       "      <td>0</td>\n",
       "      <td>negative</td>\n",
       "      <td>1346976000</td>\n",
       "      <td>Not as Advertised</td>\n",
       "      <td>Product arrived labeled as Jumbo Salted Peanut...</td>\n",
       "    </tr>\n",
       "    <tr>\n",
       "      <th>2</th>\n",
       "      <td>3</td>\n",
       "      <td>B000LQOCH0</td>\n",
       "      <td>ABXLMWJIXXAIN</td>\n",
       "      <td>Natalia Corres \"Natalia Corres\"</td>\n",
       "      <td>1</td>\n",
       "      <td>1</td>\n",
       "      <td>positive</td>\n",
       "      <td>1219017600</td>\n",
       "      <td>\"Delight\" says it all</td>\n",
       "      <td>This is a confection that has been around a fe...</td>\n",
       "    </tr>\n",
       "    <tr>\n",
       "      <th>3</th>\n",
       "      <td>4</td>\n",
       "      <td>B000UA0QIQ</td>\n",
       "      <td>A395BORC6FGVXV</td>\n",
       "      <td>Karl</td>\n",
       "      <td>3</td>\n",
       "      <td>3</td>\n",
       "      <td>negative</td>\n",
       "      <td>1307923200</td>\n",
       "      <td>Cough Medicine</td>\n",
       "      <td>If you are looking for the secret ingredient i...</td>\n",
       "    </tr>\n",
       "    <tr>\n",
       "      <th>4</th>\n",
       "      <td>5</td>\n",
       "      <td>B006K2ZZ7K</td>\n",
       "      <td>A1UQRSCLF8GW1T</td>\n",
       "      <td>Michael D. Bigham \"M. Wassir\"</td>\n",
       "      <td>0</td>\n",
       "      <td>0</td>\n",
       "      <td>positive</td>\n",
       "      <td>1350777600</td>\n",
       "      <td>Great taffy</td>\n",
       "      <td>Great taffy at a great price.  There was a wid...</td>\n",
       "    </tr>\n",
       "  </tbody>\n",
       "</table>\n",
       "</div>"
      ],
      "text/plain": [
       "   Id   ProductId          UserId                      ProfileName  \\\n",
       "0   1  B001E4KFG0  A3SGXH7AUHU8GW                       delmartian   \n",
       "1   2  B00813GRG4  A1D87F6ZCVE5NK                           dll pa   \n",
       "2   3  B000LQOCH0   ABXLMWJIXXAIN  Natalia Corres \"Natalia Corres\"   \n",
       "3   4  B000UA0QIQ  A395BORC6FGVXV                             Karl   \n",
       "4   5  B006K2ZZ7K  A1UQRSCLF8GW1T    Michael D. Bigham \"M. Wassir\"   \n",
       "\n",
       "   HelpfulnessNumerator  HelpfulnessDenominator     Score        Time  \\\n",
       "0                     1                       1  positive  1303862400   \n",
       "1                     0                       0  negative  1346976000   \n",
       "2                     1                       1  positive  1219017600   \n",
       "3                     3                       3  negative  1307923200   \n",
       "4                     0                       0  positive  1350777600   \n",
       "\n",
       "                 Summary                                               Text  \n",
       "0  Good Quality Dog Food  I have bought several of the Vitality canned d...  \n",
       "1      Not as Advertised  Product arrived labeled as Jumbo Salted Peanut...  \n",
       "2  \"Delight\" says it all  This is a confection that has been around a fe...  \n",
       "3         Cough Medicine  If you are looking for the secret ingredient i...  \n",
       "4            Great taffy  Great taffy at a great price.  There was a wid...  "
      ]
     },
     "execution_count": 2,
     "metadata": {},
     "output_type": "execute_result"
    }
   ],
   "source": [
    "print(filtered_data.shape) #looking at the number of attributes and size of the data\n",
    "filtered_data.head()"
   ]
  },
  {
   "cell_type": "markdown",
   "metadata": {},
   "source": [
    "#  Exploratory Data Analysis\n",
    "\n",
    "## [7.1.2] Data Cleaning: Deduplication\n",
    "\n",
    "It is observed (as shown in the table below) that the reviews data had many duplicate entries. Hence it was necessary to remove duplicates in order to get unbiased results for the analysis of the data.  Following is an example:"
   ]
  },
  {
   "cell_type": "code",
   "execution_count": 3,
   "metadata": {
    "scrolled": false
   },
   "outputs": [
    {
     "data": {
      "text/html": [
       "<div>\n",
       "<style scoped>\n",
       "    .dataframe tbody tr th:only-of-type {\n",
       "        vertical-align: middle;\n",
       "    }\n",
       "\n",
       "    .dataframe tbody tr th {\n",
       "        vertical-align: top;\n",
       "    }\n",
       "\n",
       "    .dataframe thead th {\n",
       "        text-align: right;\n",
       "    }\n",
       "</style>\n",
       "<table border=\"1\" class=\"dataframe\">\n",
       "  <thead>\n",
       "    <tr style=\"text-align: right;\">\n",
       "      <th></th>\n",
       "      <th>Id</th>\n",
       "      <th>ProductId</th>\n",
       "      <th>UserId</th>\n",
       "      <th>ProfileName</th>\n",
       "      <th>HelpfulnessNumerator</th>\n",
       "      <th>HelpfulnessDenominator</th>\n",
       "      <th>Score</th>\n",
       "      <th>Time</th>\n",
       "      <th>Summary</th>\n",
       "      <th>Text</th>\n",
       "    </tr>\n",
       "  </thead>\n",
       "  <tbody>\n",
       "    <tr>\n",
       "      <th>0</th>\n",
       "      <td>78445</td>\n",
       "      <td>B000HDL1RQ</td>\n",
       "      <td>AR5J8UI46CURR</td>\n",
       "      <td>Geetha Krishnan</td>\n",
       "      <td>2</td>\n",
       "      <td>2</td>\n",
       "      <td>5</td>\n",
       "      <td>1199577600</td>\n",
       "      <td>LOACKER QUADRATINI VANILLA WAFERS</td>\n",
       "      <td>DELICIOUS WAFERS. I FIND THAT EUROPEAN WAFERS ...</td>\n",
       "    </tr>\n",
       "    <tr>\n",
       "      <th>1</th>\n",
       "      <td>138317</td>\n",
       "      <td>B000HDOPYC</td>\n",
       "      <td>AR5J8UI46CURR</td>\n",
       "      <td>Geetha Krishnan</td>\n",
       "      <td>2</td>\n",
       "      <td>2</td>\n",
       "      <td>5</td>\n",
       "      <td>1199577600</td>\n",
       "      <td>LOACKER QUADRATINI VANILLA WAFERS</td>\n",
       "      <td>DELICIOUS WAFERS. I FIND THAT EUROPEAN WAFERS ...</td>\n",
       "    </tr>\n",
       "    <tr>\n",
       "      <th>2</th>\n",
       "      <td>138277</td>\n",
       "      <td>B000HDOPYM</td>\n",
       "      <td>AR5J8UI46CURR</td>\n",
       "      <td>Geetha Krishnan</td>\n",
       "      <td>2</td>\n",
       "      <td>2</td>\n",
       "      <td>5</td>\n",
       "      <td>1199577600</td>\n",
       "      <td>LOACKER QUADRATINI VANILLA WAFERS</td>\n",
       "      <td>DELICIOUS WAFERS. I FIND THAT EUROPEAN WAFERS ...</td>\n",
       "    </tr>\n",
       "    <tr>\n",
       "      <th>3</th>\n",
       "      <td>73791</td>\n",
       "      <td>B000HDOPZG</td>\n",
       "      <td>AR5J8UI46CURR</td>\n",
       "      <td>Geetha Krishnan</td>\n",
       "      <td>2</td>\n",
       "      <td>2</td>\n",
       "      <td>5</td>\n",
       "      <td>1199577600</td>\n",
       "      <td>LOACKER QUADRATINI VANILLA WAFERS</td>\n",
       "      <td>DELICIOUS WAFERS. I FIND THAT EUROPEAN WAFERS ...</td>\n",
       "    </tr>\n",
       "    <tr>\n",
       "      <th>4</th>\n",
       "      <td>155049</td>\n",
       "      <td>B000PAQ75C</td>\n",
       "      <td>AR5J8UI46CURR</td>\n",
       "      <td>Geetha Krishnan</td>\n",
       "      <td>2</td>\n",
       "      <td>2</td>\n",
       "      <td>5</td>\n",
       "      <td>1199577600</td>\n",
       "      <td>LOACKER QUADRATINI VANILLA WAFERS</td>\n",
       "      <td>DELICIOUS WAFERS. I FIND THAT EUROPEAN WAFERS ...</td>\n",
       "    </tr>\n",
       "  </tbody>\n",
       "</table>\n",
       "</div>"
      ],
      "text/plain": [
       "       Id   ProductId         UserId      ProfileName  HelpfulnessNumerator  \\\n",
       "0   78445  B000HDL1RQ  AR5J8UI46CURR  Geetha Krishnan                     2   \n",
       "1  138317  B000HDOPYC  AR5J8UI46CURR  Geetha Krishnan                     2   \n",
       "2  138277  B000HDOPYM  AR5J8UI46CURR  Geetha Krishnan                     2   \n",
       "3   73791  B000HDOPZG  AR5J8UI46CURR  Geetha Krishnan                     2   \n",
       "4  155049  B000PAQ75C  AR5J8UI46CURR  Geetha Krishnan                     2   \n",
       "\n",
       "   HelpfulnessDenominator  Score        Time  \\\n",
       "0                       2      5  1199577600   \n",
       "1                       2      5  1199577600   \n",
       "2                       2      5  1199577600   \n",
       "3                       2      5  1199577600   \n",
       "4                       2      5  1199577600   \n",
       "\n",
       "                             Summary  \\\n",
       "0  LOACKER QUADRATINI VANILLA WAFERS   \n",
       "1  LOACKER QUADRATINI VANILLA WAFERS   \n",
       "2  LOACKER QUADRATINI VANILLA WAFERS   \n",
       "3  LOACKER QUADRATINI VANILLA WAFERS   \n",
       "4  LOACKER QUADRATINI VANILLA WAFERS   \n",
       "\n",
       "                                                Text  \n",
       "0  DELICIOUS WAFERS. I FIND THAT EUROPEAN WAFERS ...  \n",
       "1  DELICIOUS WAFERS. I FIND THAT EUROPEAN WAFERS ...  \n",
       "2  DELICIOUS WAFERS. I FIND THAT EUROPEAN WAFERS ...  \n",
       "3  DELICIOUS WAFERS. I FIND THAT EUROPEAN WAFERS ...  \n",
       "4  DELICIOUS WAFERS. I FIND THAT EUROPEAN WAFERS ...  "
      ]
     },
     "execution_count": 3,
     "metadata": {},
     "output_type": "execute_result"
    }
   ],
   "source": [
    "display= pd.read_sql_query(\"\"\"\n",
    "SELECT *\n",
    "FROM Reviews\n",
    "WHERE Score != 3 AND UserId=\"AR5J8UI46CURR\"\n",
    "ORDER BY ProductID\n",
    "\"\"\", con)\n",
    "display.head()"
   ]
  },
  {
   "cell_type": "markdown",
   "metadata": {},
   "source": [
    "As can be seen above the same user has multiple reviews of the with the same values for HelpfulnessNumerator, HelpfulnessDenominator, Score, Time, Summary and Text  and on doing analysis it was found that <br>\n",
    "<br> \n",
    "ProductId=B000HDOPZG was Loacker Quadratini Vanilla Wafer Cookies, 8.82-Ounce Packages (Pack of 8)<br>\n",
    "<br> \n",
    "ProductId=B000HDL1RQ was Loacker Quadratini Lemon Wafer Cookies, 8.82-Ounce Packages (Pack of 8) and so on<br>\n",
    "\n",
    "It was inferred after analysis that reviews with same parameters other than ProductId belonged to the same product just having different flavour or quantity. Hence in order to reduce redundancy it was decided to eliminate the rows having same parameters.<br>\n",
    "\n",
    "The method used for the same was that we first sort the data according to ProductId and then just keep the first similar product review and delelte the others. for eg. in the above just the review for ProductId=B000HDL1RQ remains. This method ensures that there is only one representative for each product and deduplication without sorting would lead to possibility of different representatives still existing for the same product."
   ]
  },
  {
   "cell_type": "code",
   "execution_count": 4,
   "metadata": {
    "collapsed": true
   },
   "outputs": [],
   "source": [
    "#Sorting data according to ProductId in ascending order\n",
    "sorted_data=filtered_data.sort_values('ProductId', axis=0, ascending=True, inplace=False, kind='quicksort', na_position='last')"
   ]
  },
  {
   "cell_type": "code",
   "execution_count": 5,
   "metadata": {},
   "outputs": [
    {
     "data": {
      "text/plain": [
       "(364173, 10)"
      ]
     },
     "execution_count": 5,
     "metadata": {},
     "output_type": "execute_result"
    }
   ],
   "source": [
    "#Deduplication of entries\n",
    "final=sorted_data.drop_duplicates(subset={\"UserId\",\"ProfileName\",\"Time\",\"Text\"}, keep='first', inplace=False)\n",
    "final.shape"
   ]
  },
  {
   "cell_type": "code",
   "execution_count": 6,
   "metadata": {},
   "outputs": [
    {
     "data": {
      "text/plain": [
       "69.25890143662969"
      ]
     },
     "execution_count": 6,
     "metadata": {},
     "output_type": "execute_result"
    }
   ],
   "source": [
    "#Checking to see how much % of data still remains\n",
    "(final['Id'].size*1.0)/(filtered_data['Id'].size*1.0)*100"
   ]
  },
  {
   "cell_type": "markdown",
   "metadata": {},
   "source": [
    "<b>Observation:-</b> It was also seen that in two rows given below the value of HelpfulnessNumerator is greater than HelpfulnessDenominator which is not practically possible hence these two rows too are removed from calcualtions"
   ]
  },
  {
   "cell_type": "code",
   "execution_count": 7,
   "metadata": {},
   "outputs": [
    {
     "data": {
      "text/html": [
       "<div>\n",
       "<style scoped>\n",
       "    .dataframe tbody tr th:only-of-type {\n",
       "        vertical-align: middle;\n",
       "    }\n",
       "\n",
       "    .dataframe tbody tr th {\n",
       "        vertical-align: top;\n",
       "    }\n",
       "\n",
       "    .dataframe thead th {\n",
       "        text-align: right;\n",
       "    }\n",
       "</style>\n",
       "<table border=\"1\" class=\"dataframe\">\n",
       "  <thead>\n",
       "    <tr style=\"text-align: right;\">\n",
       "      <th></th>\n",
       "      <th>Id</th>\n",
       "      <th>ProductId</th>\n",
       "      <th>UserId</th>\n",
       "      <th>ProfileName</th>\n",
       "      <th>HelpfulnessNumerator</th>\n",
       "      <th>HelpfulnessDenominator</th>\n",
       "      <th>Score</th>\n",
       "      <th>Time</th>\n",
       "      <th>Summary</th>\n",
       "      <th>Text</th>\n",
       "    </tr>\n",
       "  </thead>\n",
       "  <tbody>\n",
       "    <tr>\n",
       "      <th>0</th>\n",
       "      <td>64422</td>\n",
       "      <td>B000MIDROQ</td>\n",
       "      <td>A161DK06JJMCYF</td>\n",
       "      <td>J. E. Stephens \"Jeanne\"</td>\n",
       "      <td>3</td>\n",
       "      <td>1</td>\n",
       "      <td>5</td>\n",
       "      <td>1224892800</td>\n",
       "      <td>Bought This for My Son at College</td>\n",
       "      <td>My son loves spaghetti so I didn't hesitate or...</td>\n",
       "    </tr>\n",
       "    <tr>\n",
       "      <th>1</th>\n",
       "      <td>44737</td>\n",
       "      <td>B001EQ55RW</td>\n",
       "      <td>A2V0I904FH7ABY</td>\n",
       "      <td>Ram</td>\n",
       "      <td>3</td>\n",
       "      <td>2</td>\n",
       "      <td>4</td>\n",
       "      <td>1212883200</td>\n",
       "      <td>Pure cocoa taste with crunchy almonds inside</td>\n",
       "      <td>It was almost a 'love at first bite' - the per...</td>\n",
       "    </tr>\n",
       "  </tbody>\n",
       "</table>\n",
       "</div>"
      ],
      "text/plain": [
       "      Id   ProductId          UserId              ProfileName  \\\n",
       "0  64422  B000MIDROQ  A161DK06JJMCYF  J. E. Stephens \"Jeanne\"   \n",
       "1  44737  B001EQ55RW  A2V0I904FH7ABY                      Ram   \n",
       "\n",
       "   HelpfulnessNumerator  HelpfulnessDenominator  Score        Time  \\\n",
       "0                     3                       1      5  1224892800   \n",
       "1                     3                       2      4  1212883200   \n",
       "\n",
       "                                        Summary  \\\n",
       "0             Bought This for My Son at College   \n",
       "1  Pure cocoa taste with crunchy almonds inside   \n",
       "\n",
       "                                                Text  \n",
       "0  My son loves spaghetti so I didn't hesitate or...  \n",
       "1  It was almost a 'love at first bite' - the per...  "
      ]
     },
     "execution_count": 7,
     "metadata": {},
     "output_type": "execute_result"
    }
   ],
   "source": [
    "display= pd.read_sql_query(\"\"\"\n",
    "SELECT *\n",
    "FROM Reviews\n",
    "WHERE Score != 3 AND Id=44737 OR Id=64422\n",
    "ORDER BY ProductID\n",
    "\"\"\", con)\n",
    "\n",
    "display.head()"
   ]
  },
  {
   "cell_type": "code",
   "execution_count": 8,
   "metadata": {
    "collapsed": true
   },
   "outputs": [],
   "source": [
    "final=final[final.HelpfulnessNumerator<=final.HelpfulnessDenominator]"
   ]
  },
  {
   "cell_type": "code",
   "execution_count": 9,
   "metadata": {},
   "outputs": [
    {
     "name": "stdout",
     "output_type": "stream",
     "text": [
      "(364171, 10)\n"
     ]
    },
    {
     "data": {
      "text/plain": [
       "positive    307061\n",
       "negative     57110\n",
       "Name: Score, dtype: int64"
      ]
     },
     "execution_count": 9,
     "metadata": {},
     "output_type": "execute_result"
    }
   ],
   "source": [
    "#Before starting the next phase of preprocessing lets see the number of entries left\n",
    "print(final.shape)\n",
    "\n",
    "#How many positive and negative reviews are present in our dataset?\n",
    "final['Score'].value_counts()"
   ]
  },
  {
   "cell_type": "markdown",
   "metadata": {},
   "source": [
    "## 7.2.3  Text Preprocessing: Stemming, stop-word removal and Lemmatization.\n",
    "\n",
    "Now that we have finished deduplication our data requires some preprocessing before we go on further with analysis and making the prediction model.\n",
    "\n",
    "Hence in the Preprocessing phase we do the following in the order below:-\n",
    "\n",
    "1. Begin by removing the html tags\n",
    "2. Remove any punctuations or limited set of special characters like , or . or # etc.\n",
    "3. Check if the word is made up of english letters and is not alpha-numeric\n",
    "4. Check to see if the length of the word is greater than 2 (as it was researched that there is no adjective in 2-letters)\n",
    "5. Convert the word to lowercase\n",
    "6. Remove Stopwords\n",
    "7. Finally Snowball Stemming the word (it was obsereved to be better than Porter Stemming)<br>\n",
    "\n",
    "After which we collect the words used to describe positive and negative reviews"
   ]
  },
  {
   "cell_type": "code",
   "execution_count": 10,
   "metadata": {},
   "outputs": [
    {
     "name": "stdout",
     "output_type": "stream",
     "text": [
      "6\n",
      "I set aside at least an hour each day to read to my son (3 y/o). At this point, I consider myself a connoisseur of children's books and this is one of the best. Santa Clause put this under the tree. Since then, we've read it perpetually and he loves it.<br /><br />First, this book taught him the months of the year.<br /><br />Second, it's a pleasure to read. Well suited to 1.5 y/o old to 4+.<br /><br />Very few children's books are worth owning. Most should be borrowed from the library. This book, however, deserves a permanent spot on your shelf. Sendak's best.\n"
     ]
    }
   ],
   "source": [
    "# find sentences containing HTML tags\n",
    "import re\n",
    "i=0;\n",
    "for sent in final['Text'].values:\n",
    "    if (len(re.findall('<.*?>', sent))):\n",
    "        print(i)\n",
    "        print(sent)\n",
    "        break;\n",
    "    i += 1;"
   ]
  },
  {
   "cell_type": "code",
   "execution_count": 11,
   "metadata": {},
   "outputs": [
    {
     "name": "stdout",
     "output_type": "stream",
     "text": [
      "{'any', \"hadn't\", 'ourselves', 'up', 'does', 'hasn', 'yours', 'ma', 'yourselves', 'an', \"shouldn't\", 'do', \"shan't\", 'hers', 'll', 'wouldn', 'he', 'here', 'mightn', 'doing', 'they', 't', 'above', 'are', 'have', 'few', 'between', 'before', 'where', \"aren't\", \"hasn't\", 'wasn', 'been', \"mustn't\", 'under', 'will', 'himself', 'them', 'very', 'won', 'shan', 'with', 'or', 'm', 'how', 'whom', 'then', 'only', 'being', 'haven', 'after', 's', 'both', 'because', 'more', 'my', 'own', 'all', 'further', 'a', 're', \"needn't\", 've', 'be', 'same', \"haven't\", 'while', 'her', 'into', 'until', 'y', 'its', 'hadn', 'having', 'you', 'theirs', 'themselves', \"it's\", 'at', 'about', 'doesn', \"couldn't\", 'our', 'in', 'during', 'isn', \"should've\", 'can', 'these', \"didn't\", \"isn't\", 'out', 'there', 'down', 'over', 'herself', 'if', 'below', 'again', 'o', 'ain', 'his', 'now', 'it', 'no', 'as', 'other', 'to', 'couldn', 'their', 'aren', 'of', 'so', 'this', 'for', 'some', 'which', 'ours', 'just', 'than', 'she', 'didn', 'has', \"you'd\", 'who', 'each', 'on', 'those', \"wouldn't\", 'yourself', \"mightn't\", \"weren't\", \"don't\", 'the', 'through', 'd', 'too', 'by', 'were', 'nor', 'i', 'once', 'shouldn', 'did', 'we', \"she's\", 'and', 'is', 'why', \"doesn't\", 'most', \"you're\", 'should', 'but', 'off', 'myself', 'that', \"that'll\", 'from', 'your', 'against', 'am', 'me', 'mustn', 'him', 'what', \"you'll\", \"you've\", 'had', 'not', 'don', 'was', 'needn', \"won't\", 'itself', 'such', 'weren', 'when', \"wasn't\"}\n",
      "************************************\n",
      "tasti\n"
     ]
    }
   ],
   "source": [
    "\n",
    "stop = set(stopwords.words('english')) #set of stopwords\n",
    "sno = nltk.stem.SnowballStemmer('english') #initialising the snowball stemmer\n",
    "\n",
    "def cleanhtml(sentence): #function to clean the word of any html-tags\n",
    "    cleanr = re.compile('<.*?>')\n",
    "    cleantext = re.sub(cleanr, ' ', sentence)\n",
    "    return cleantext\n",
    "def cleanpunc(sentence): #function to clean the word of any punctuation or special characters\n",
    "    cleaned = re.sub(r'[?|!|\\'|\"|#]',r'',sentence)\n",
    "    cleaned = re.sub(r'[.|,|)|(|\\|/]',r' ',cleaned)\n",
    "    return  cleaned\n",
    "print(stop)\n",
    "print('************************************')\n",
    "print(sno.stem('tasty'))"
   ]
  },
  {
   "cell_type": "code",
   "execution_count": 12,
   "metadata": {
    "collapsed": true
   },
   "outputs": [],
   "source": [
    "#Code for implementing step-by-step the checks mentioned in the pre-processing phase\n",
    "# this code takes a while to run as it needs to run on 500k sentences.\n",
    "i=0\n",
    "str1=' '\n",
    "final_string=[]\n",
    "all_positive_words=[] # store words from +ve reviews here\n",
    "all_negative_words=[] # store words from -ve reviews here.\n",
    "s=''\n",
    "for sent in final['Text'].values:\n",
    "    filtered_sentence=[]\n",
    "    #print(sent);\n",
    "    sent=cleanhtml(sent) # remove HTMl tags\n",
    "    for w in sent.split():\n",
    "        for cleaned_words in cleanpunc(w).split():\n",
    "            if((cleaned_words.isalpha()) & (len(cleaned_words)>2)):    \n",
    "                if(cleaned_words.lower() not in stop):\n",
    "                    s=(sno.stem(cleaned_words.lower())).encode('utf8')\n",
    "                    filtered_sentence.append(s)\n",
    "                    if (final['Score'].values)[i] == 'positive': \n",
    "                        all_positive_words.append(s) #list of all words used to describe positive reviews\n",
    "                    if(final['Score'].values)[i] == 'negative':\n",
    "                        all_negative_words.append(s) #list of all words used to describe negative reviews reviews\n",
    "                else:\n",
    "                    continue\n",
    "            else:\n",
    "                continue \n",
    "    #print(filtered_sentence)\n",
    "    str1 = b\" \".join(filtered_sentence) #final string of cleaned words\n",
    "    #print(\"***********************************************************************\")\n",
    "    \n",
    "    final_string.append(str1)\n",
    "    i+=1"
   ]
  },
  {
   "cell_type": "code",
   "execution_count": 13,
   "metadata": {
    "collapsed": true
   },
   "outputs": [],
   "source": [
    "final['CleanedText']=final_string #adding a column of CleanedText which displays the data after pre-processing of the review \n",
    "final['CleanedText']=final['CleanedText'].str.decode(\"utf-8\")"
   ]
  },
  {
   "cell_type": "code",
   "execution_count": 14,
   "metadata": {
    "scrolled": false
   },
   "outputs": [
    {
     "data": {
      "text/html": [
       "<div>\n",
       "<style scoped>\n",
       "    .dataframe tbody tr th:only-of-type {\n",
       "        vertical-align: middle;\n",
       "    }\n",
       "\n",
       "    .dataframe tbody tr th {\n",
       "        vertical-align: top;\n",
       "    }\n",
       "\n",
       "    .dataframe thead th {\n",
       "        text-align: right;\n",
       "    }\n",
       "</style>\n",
       "<table border=\"1\" class=\"dataframe\">\n",
       "  <thead>\n",
       "    <tr style=\"text-align: right;\">\n",
       "      <th></th>\n",
       "      <th>Id</th>\n",
       "      <th>ProductId</th>\n",
       "      <th>UserId</th>\n",
       "      <th>ProfileName</th>\n",
       "      <th>HelpfulnessNumerator</th>\n",
       "      <th>HelpfulnessDenominator</th>\n",
       "      <th>Score</th>\n",
       "      <th>Time</th>\n",
       "      <th>Summary</th>\n",
       "      <th>Text</th>\n",
       "      <th>CleanedText</th>\n",
       "    </tr>\n",
       "  </thead>\n",
       "  <tbody>\n",
       "    <tr>\n",
       "      <th>138706</th>\n",
       "      <td>150524</td>\n",
       "      <td>0006641040</td>\n",
       "      <td>ACITT7DI6IDDL</td>\n",
       "      <td>shari zychinski</td>\n",
       "      <td>0</td>\n",
       "      <td>0</td>\n",
       "      <td>positive</td>\n",
       "      <td>939340800</td>\n",
       "      <td>EVERY book is educational</td>\n",
       "      <td>this witty little book makes my son laugh at l...</td>\n",
       "      <td>witti littl book make son laugh loud recit car...</td>\n",
       "    </tr>\n",
       "    <tr>\n",
       "      <th>138688</th>\n",
       "      <td>150506</td>\n",
       "      <td>0006641040</td>\n",
       "      <td>A2IW4PEEKO2R0U</td>\n",
       "      <td>Tracy</td>\n",
       "      <td>1</td>\n",
       "      <td>1</td>\n",
       "      <td>positive</td>\n",
       "      <td>1194739200</td>\n",
       "      <td>Love the book, miss the hard cover version</td>\n",
       "      <td>I grew up reading these Sendak books, and watc...</td>\n",
       "      <td>grew read sendak book watch realli rosi movi i...</td>\n",
       "    </tr>\n",
       "    <tr>\n",
       "      <th>138689</th>\n",
       "      <td>150507</td>\n",
       "      <td>0006641040</td>\n",
       "      <td>A1S4A3IQ2MU7V4</td>\n",
       "      <td>sally sue \"sally sue\"</td>\n",
       "      <td>1</td>\n",
       "      <td>1</td>\n",
       "      <td>positive</td>\n",
       "      <td>1191456000</td>\n",
       "      <td>chicken soup with rice months</td>\n",
       "      <td>This is a fun way for children to learn their ...</td>\n",
       "      <td>fun way children learn month year learn poem t...</td>\n",
       "    </tr>\n",
       "  </tbody>\n",
       "</table>\n",
       "</div>"
      ],
      "text/plain": [
       "            Id   ProductId          UserId            ProfileName  \\\n",
       "138706  150524  0006641040   ACITT7DI6IDDL        shari zychinski   \n",
       "138688  150506  0006641040  A2IW4PEEKO2R0U                  Tracy   \n",
       "138689  150507  0006641040  A1S4A3IQ2MU7V4  sally sue \"sally sue\"   \n",
       "\n",
       "        HelpfulnessNumerator  HelpfulnessDenominator     Score        Time  \\\n",
       "138706                     0                       0  positive   939340800   \n",
       "138688                     1                       1  positive  1194739200   \n",
       "138689                     1                       1  positive  1191456000   \n",
       "\n",
       "                                           Summary  \\\n",
       "138706                   EVERY book is educational   \n",
       "138688  Love the book, miss the hard cover version   \n",
       "138689               chicken soup with rice months   \n",
       "\n",
       "                                                     Text  \\\n",
       "138706  this witty little book makes my son laugh at l...   \n",
       "138688  I grew up reading these Sendak books, and watc...   \n",
       "138689  This is a fun way for children to learn their ...   \n",
       "\n",
       "                                              CleanedText  \n",
       "138706  witti littl book make son laugh loud recit car...  \n",
       "138688  grew read sendak book watch realli rosi movi i...  \n",
       "138689  fun way children learn month year learn poem t...  "
      ]
     },
     "execution_count": 14,
     "metadata": {},
     "output_type": "execute_result"
    }
   ],
   "source": [
    "final.head(3) #below the processed review can be seen in the CleanedText Column \n",
    "\n",
    "\n",
    "# store final table into an SQlLite table for future.\n",
    "#conn = sqlite3.connect('final.sqlite')\n",
    "#c=conn.cursor()\n",
    "#conn.text_factory = str\n",
    "#final.to_sql('Reviews', conn,  schema=None, if_exists='replace', index=True, index_label=None, chunksize=None, dtype=None)"
   ]
  },
  {
   "cell_type": "code",
   "execution_count": 15,
   "metadata": {
    "collapsed": true
   },
   "outputs": [],
   "source": [
    "# Getting Equal Positive and Negative Reviews\n",
    "final_positive=final[final['Score']=='positive'][0:50000]\n",
    "final_negative=final[final['Score']=='negative'][0:50000]"
   ]
  },
  {
   "cell_type": "code",
   "execution_count": 16,
   "metadata": {},
   "outputs": [
    {
     "data": {
      "text/plain": [
       "(50000, 11)"
      ]
     },
     "execution_count": 16,
     "metadata": {},
     "output_type": "execute_result"
    }
   ],
   "source": [
    "final_positive.shape"
   ]
  },
  {
   "cell_type": "code",
   "execution_count": 17,
   "metadata": {},
   "outputs": [
    {
     "data": {
      "text/plain": [
       "(50000, 11)"
      ]
     },
     "execution_count": 17,
     "metadata": {},
     "output_type": "execute_result"
    }
   ],
   "source": [
    "final_negative.shape"
   ]
  },
  {
   "cell_type": "code",
   "execution_count": 18,
   "metadata": {},
   "outputs": [
    {
     "data": {
      "text/plain": [
       "(100000, 11)"
      ]
     },
     "execution_count": 18,
     "metadata": {},
     "output_type": "execute_result"
    }
   ],
   "source": [
    "# Joining the Reviews\n",
    "final_np=pd.concat([final_positive,final_negative])\n",
    "final_np.shape"
   ]
  },
  {
   "cell_type": "code",
   "execution_count": 19,
   "metadata": {},
   "outputs": [
    {
     "data": {
      "text/plain": [
       "negative    50000\n",
       "positive    50000\n",
       "Name: Score, dtype: int64"
      ]
     },
     "execution_count": 19,
     "metadata": {},
     "output_type": "execute_result"
    }
   ],
   "source": [
    "final_np['Score'].value_counts()"
   ]
  },
  {
   "cell_type": "code",
   "execution_count": 20,
   "metadata": {
    "collapsed": true
   },
   "outputs": [],
   "source": [
    "# Sorting data based on time\n",
    "final_np[\"Time\"] = pd.to_datetime(final_np[\"Time\"], unit = \"s\")\n",
    "final_np = final_np.sort_values(by = \"Time\")\n"
   ]
  },
  {
   "cell_type": "code",
   "execution_count": 21,
   "metadata": {},
   "outputs": [
    {
     "data": {
      "text/html": [
       "<div>\n",
       "<style scoped>\n",
       "    .dataframe tbody tr th:only-of-type {\n",
       "        vertical-align: middle;\n",
       "    }\n",
       "\n",
       "    .dataframe tbody tr th {\n",
       "        vertical-align: top;\n",
       "    }\n",
       "\n",
       "    .dataframe thead th {\n",
       "        text-align: right;\n",
       "    }\n",
       "</style>\n",
       "<table border=\"1\" class=\"dataframe\">\n",
       "  <thead>\n",
       "    <tr style=\"text-align: right;\">\n",
       "      <th></th>\n",
       "      <th>Id</th>\n",
       "      <th>ProductId</th>\n",
       "      <th>UserId</th>\n",
       "      <th>ProfileName</th>\n",
       "      <th>HelpfulnessNumerator</th>\n",
       "      <th>HelpfulnessDenominator</th>\n",
       "      <th>Score</th>\n",
       "      <th>Time</th>\n",
       "      <th>Summary</th>\n",
       "      <th>Text</th>\n",
       "      <th>CleanedText</th>\n",
       "    </tr>\n",
       "  </thead>\n",
       "  <tbody>\n",
       "    <tr>\n",
       "      <th>138706</th>\n",
       "      <td>150524</td>\n",
       "      <td>0006641040</td>\n",
       "      <td>ACITT7DI6IDDL</td>\n",
       "      <td>shari zychinski</td>\n",
       "      <td>0</td>\n",
       "      <td>0</td>\n",
       "      <td>positive</td>\n",
       "      <td>1999-10-08</td>\n",
       "      <td>EVERY book is educational</td>\n",
       "      <td>this witty little book makes my son laugh at l...</td>\n",
       "      <td>witti littl book make son laugh loud recit car...</td>\n",
       "    </tr>\n",
       "    <tr>\n",
       "      <th>138683</th>\n",
       "      <td>150501</td>\n",
       "      <td>0006641040</td>\n",
       "      <td>AJ46FKXOVC7NR</td>\n",
       "      <td>Nicholas A Mesiano</td>\n",
       "      <td>2</td>\n",
       "      <td>2</td>\n",
       "      <td>positive</td>\n",
       "      <td>1999-10-25</td>\n",
       "      <td>This whole series is great way to spend time w...</td>\n",
       "      <td>I can remember seeing the show when it aired o...</td>\n",
       "      <td>rememb see show air televis year ago child sis...</td>\n",
       "    </tr>\n",
       "    <tr>\n",
       "      <th>417839</th>\n",
       "      <td>451856</td>\n",
       "      <td>B00004CXX9</td>\n",
       "      <td>AIUWLEQ1ADEG5</td>\n",
       "      <td>Elizabeth Medina</td>\n",
       "      <td>0</td>\n",
       "      <td>0</td>\n",
       "      <td>positive</td>\n",
       "      <td>1999-12-02</td>\n",
       "      <td>Entertainingl Funny!</td>\n",
       "      <td>Beetlejuice is a well written movie ..... ever...</td>\n",
       "      <td>beetlejuic well written movi everyth excel act...</td>\n",
       "    </tr>\n",
       "    <tr>\n",
       "      <th>346055</th>\n",
       "      <td>374359</td>\n",
       "      <td>B00004CI84</td>\n",
       "      <td>A344SMIA5JECGM</td>\n",
       "      <td>Vincent P. Ross</td>\n",
       "      <td>1</td>\n",
       "      <td>2</td>\n",
       "      <td>positive</td>\n",
       "      <td>1999-12-06</td>\n",
       "      <td>A modern day fairy tale</td>\n",
       "      <td>A twist of rumplestiskin captured on film, sta...</td>\n",
       "      <td>twist rumplestiskin captur film star michael k...</td>\n",
       "    </tr>\n",
       "    <tr>\n",
       "      <th>417838</th>\n",
       "      <td>451855</td>\n",
       "      <td>B00004CXX9</td>\n",
       "      <td>AJH6LUC1UT1ON</td>\n",
       "      <td>The Phantom of the Opera</td>\n",
       "      <td>0</td>\n",
       "      <td>0</td>\n",
       "      <td>positive</td>\n",
       "      <td>2000-01-03</td>\n",
       "      <td>FANTASTIC!</td>\n",
       "      <td>Beetlejuice is an excellent and funny movie. K...</td>\n",
       "      <td>beetlejuic excel funni movi keaton hilari wack...</td>\n",
       "    </tr>\n",
       "  </tbody>\n",
       "</table>\n",
       "</div>"
      ],
      "text/plain": [
       "            Id   ProductId          UserId               ProfileName  \\\n",
       "138706  150524  0006641040   ACITT7DI6IDDL           shari zychinski   \n",
       "138683  150501  0006641040   AJ46FKXOVC7NR        Nicholas A Mesiano   \n",
       "417839  451856  B00004CXX9   AIUWLEQ1ADEG5          Elizabeth Medina   \n",
       "346055  374359  B00004CI84  A344SMIA5JECGM           Vincent P. Ross   \n",
       "417838  451855  B00004CXX9   AJH6LUC1UT1ON  The Phantom of the Opera   \n",
       "\n",
       "        HelpfulnessNumerator  HelpfulnessDenominator     Score       Time  \\\n",
       "138706                     0                       0  positive 1999-10-08   \n",
       "138683                     2                       2  positive 1999-10-25   \n",
       "417839                     0                       0  positive 1999-12-02   \n",
       "346055                     1                       2  positive 1999-12-06   \n",
       "417838                     0                       0  positive 2000-01-03   \n",
       "\n",
       "                                                  Summary  \\\n",
       "138706                          EVERY book is educational   \n",
       "138683  This whole series is great way to spend time w...   \n",
       "417839                               Entertainingl Funny!   \n",
       "346055                            A modern day fairy tale   \n",
       "417838                                         FANTASTIC!   \n",
       "\n",
       "                                                     Text  \\\n",
       "138706  this witty little book makes my son laugh at l...   \n",
       "138683  I can remember seeing the show when it aired o...   \n",
       "417839  Beetlejuice is a well written movie ..... ever...   \n",
       "346055  A twist of rumplestiskin captured on film, sta...   \n",
       "417838  Beetlejuice is an excellent and funny movie. K...   \n",
       "\n",
       "                                              CleanedText  \n",
       "138706  witti littl book make son laugh loud recit car...  \n",
       "138683  rememb see show air televis year ago child sis...  \n",
       "417839  beetlejuic well written movi everyth excel act...  \n",
       "346055  twist rumplestiskin captur film star michael k...  \n",
       "417838  beetlejuic excel funni movi keaton hilari wack...  "
      ]
     },
     "execution_count": 21,
     "metadata": {},
     "output_type": "execute_result"
    }
   ],
   "source": [
    "final_np.head()"
   ]
  },
  {
   "cell_type": "markdown",
   "metadata": {},
   "source": [
    "# Optimal alpha for MultinomialNB and BernoulliNB"
   ]
  },
  {
   "cell_type": "code",
   "execution_count": 22,
   "metadata": {},
   "outputs": [
    {
     "name": "stderr",
     "output_type": "stream",
     "text": [
      "C:\\Users\\Dell\\Anaconda3\\lib\\site-packages\\sklearn\\cross_validation.py:41: DeprecationWarning: This module was deprecated in version 0.18 in favor of the model_selection module into which all the refactored classes and functions are moved. Also note that the interface of the new CV iterators are different from that of this module. This module will be removed in 0.20.\n",
      "  \"This module will be removed in 0.20.\", DeprecationWarning)\n"
     ]
    }
   ],
   "source": [
    "from sklearn.cross_validation import cross_val_score\n",
    "from sklearn.naive_bayes import MultinomialNB\n",
    "from sklearn.naive_bayes import BernoulliNB\n",
    "\n",
    "def optimal_m_naive_bayes(x_train,y_train):\n",
    "   \n",
    "    #creating \n",
    "    alpha_param =[20,15,10,5,1,0.5,0.1,0.05,0.01,0.005,0.001] \n",
    "\n",
    "    #empty list that will hold cv scores\n",
    "    cv_scores = []\n",
    "\n",
    "    #perform 10-fold cross validation\n",
    "    for alpha in alpha_param:\n",
    "        mnb = MultinomialNB(alpha=alpha)\n",
    "        scores = cross_val_score(mnb, x_train, y_train, cv=10,scoring='f1_weighted')\n",
    "        cv_scores.append(scores.mean())\n",
    "        \n",
    "    #changing to misclassification error\n",
    "    MSE=[1-x for x in cv_scores]\n",
    "\n",
    "    #determining best alpha\n",
    "    optimal_alpha = alpha_param[MSE.index(min(MSE))]\n",
    "    print('\\nThe optimal number of alpha is %d.' %optimal_alpha)\n",
    "\n",
    "\n",
    "    plt.figure(figsize=(10,6))\n",
    "    plt.plot(alpha_param,MSE,color='blue', linestyle='-', marker='+',\n",
    "             markerfacecolor='red', markersize=6)\n",
    "    plt.title('Error Rate vs. alpha')\n",
    "    plt.xlabel('Value of alpha')\n",
    "    plt.ylabel('Misclassification Error')\n",
    "    plt.show()\n",
    "\n",
    "    print(\"the misclassification error for each alpha value is : \", np.round(MSE,3))\n",
    "    \n",
    "    return optimal_alpha\n",
    "\n",
    "def optimal_b_naive_bayes(x_train,y_train):\n",
    "   \n",
    "    #creating \n",
    "    alpha_param =[20,15,10,5,1,0.5,0.1,0.05,0.01,0.005,0.001] \n",
    "\n",
    "    #empty list that will hold cv scores\n",
    "    cv_scores = []\n",
    "\n",
    "    #perform 10-fold cross validation\n",
    "    for alpha in alpha_param:\n",
    "        mnb = BernoulliNB(alpha=alpha)\n",
    "        scores = cross_val_score(mnb, x_train, y_train, cv=10,scoring='f1_weighted')\n",
    "        cv_scores.append(scores.mean())\n",
    "        \n",
    "    #changing to misclassification error\n",
    "    MSE=[1-x for x in cv_scores]\n",
    "\n",
    "    #determining best alpha\n",
    "    optimal_alpha =alpha_param[MSE.index(min(MSE))]\n",
    "    print('\\nThe optimal number of alpha is %d.' %optimal_alpha)\n",
    "\n",
    "\n",
    "    plt.figure(figsize=(10,6))\n",
    "    plt.plot(alpha_param,MSE,color='blue', linestyle='-', marker='+',\n",
    "             markerfacecolor='red', markersize=6)\n",
    "    plt.title('Error Rate vs. alpha')\n",
    "    plt.xlabel('Value of alpha')\n",
    "    plt.ylabel('Misclassification Error')\n",
    "    plt.show()\n",
    "\n",
    "    print(\"the misclassification error for each alpha value is : \", np.round(MSE,3))\n",
    "    \n",
    "    return optimal_alpha\n",
    "\n",
    "def confusion_matrix_np(cm):\n",
    "    class_label = [\"negative\", \"positive\"]\n",
    "    df_cm = pd.DataFrame(cm, index=class_label,columns=class_label)\n",
    "    sns.heatmap(df_cm, annot=True, fmt='d')\n",
    "    plt.title(\"Confusion Matrix for MultinomialNB\")\n",
    "    plt.xlabel(\"Predicted Label\")\n",
    "    plt.ylabel(\"True Label\")\n",
    "    plt.show()\n",
    "\n",
    "def show_most_informative_features(vectorizer, clf, n=25):\n",
    "    feature_names = vectorizer.get_feature_names()# Features from Vectorizer\n",
    "    feature_n = clf.feature_log_prob_[0]# Negative feature Probability\n",
    "    feature_p = clf.feature_log_prob_[1]# Positive feature Probability\n",
    "    sorted_feature_n = np.argsort(feature_n)[::-1]# Sorting Negative Features\n",
    "    sorted_feature_p = np.argsort(feature_n)[::-1]# Sorting Positive Features\n",
    "    \n",
    "    print(\"Top 25 Positive Features\")\n",
    "    for i in list(sorted_feature_p[0:n]):\n",
    "        print(\"{}\\t -->\\t{}  \".format(feature_names[i],feature_p[i]))\n",
    "    print(\"\\n\\n\\n\")\n",
    "    print(\"Top 25 Negative Features\")\n",
    "    for i in list(sorted_feature_n[0:n]):\n",
    "        print(\"{}\\t -->\\t{}  \".format(feature_names[i],feature_n[i]))\n"
   ]
  },
  {
   "cell_type": "markdown",
   "metadata": {},
   "source": [
    "# [7.2.2] Bag of Words (BoW)"
   ]
  },
  {
   "cell_type": "code",
   "execution_count": 23,
   "metadata": {},
   "outputs": [
    {
     "name": "stdout",
     "output_type": "stream",
     "text": [
      "shape of X: (100000,)\n"
     ]
    }
   ],
   "source": [
    "# Train Label\n",
    "X = final_np[\"CleanedText\"]\n",
    "print(\"shape of X:\", X.shape)"
   ]
  },
  {
   "cell_type": "code",
   "execution_count": 24,
   "metadata": {},
   "outputs": [
    {
     "name": "stdout",
     "output_type": "stream",
     "text": [
      "shape of y: (100000,)\n"
     ]
    }
   ],
   "source": [
    "# Class label\n",
    "y = final_np[\"Score\"]\n",
    "print(\"shape of y:\", y.shape)"
   ]
  },
  {
   "cell_type": "code",
   "execution_count": 25,
   "metadata": {},
   "outputs": [
    {
     "name": "stdout",
     "output_type": "stream",
     "text": [
      "(70000,) (70000,) (30000,)\n"
     ]
    }
   ],
   "source": [
    "from sklearn.model_selection import train_test_split\n",
    "X_train, X_test, y_train, y_test = train_test_split(X, y, test_size = 0.3, random_state = 42)\n",
    "print(X_train.shape, y_train.shape, X_test.shape)"
   ]
  },
  {
   "cell_type": "code",
   "execution_count": 26,
   "metadata": {
    "collapsed": true
   },
   "outputs": [],
   "source": [
    "#BoW\n",
    "count_vect = CountVectorizer() #in scikit-learn\n",
    "X_train = count_vect.fit_transform(X_train)"
   ]
  },
  {
   "cell_type": "code",
   "execution_count": 27,
   "metadata": {
    "collapsed": true
   },
   "outputs": [],
   "source": [
    "X_test=count_vect.transform(X_test)"
   ]
  },
  {
   "cell_type": "markdown",
   "metadata": {},
   "source": [
    "# MultinomialNB"
   ]
  },
  {
   "cell_type": "code",
   "execution_count": 28,
   "metadata": {},
   "outputs": [
    {
     "name": "stdout",
     "output_type": "stream",
     "text": [
      "\n",
      "The optimal number of alpha is 5.\n"
     ]
    },
    {
     "data": {
      "image/png": "[encoded data removed]",
      "text/plain": [
       "<matplotlib.figure.Figure at 0x1fde915afd0>"
      ]
     },
     "metadata": {},
     "output_type": "display_data"
    },
    {
     "name": "stdout",
     "output_type": "stream",
     "text": [
      "the misclassification error for each alpha value is :  [0.134 0.132 0.131 0.13  0.13  0.13  0.133 0.135 0.139 0.14  0.144]\n"
     ]
    },
    {
     "data": {
      "text/plain": [
       "5"
      ]
     },
     "execution_count": 28,
     "metadata": {},
     "output_type": "execute_result"
    }
   ],
   "source": [
    "#MultinomialNB\n",
    "optimal_a_bow = optimal_m_naive_bayes(X_train, y_train)\n",
    "optimal_a_bow"
   ]
  },
  {
   "cell_type": "code",
   "execution_count": 29,
   "metadata": {
    "collapsed": true
   },
   "outputs": [],
   "source": [
    "#Check for the optimal knn value\n",
    "mnb_optimal= MultinomialNB(alpha=optimal_a_bow)\n",
    "\n",
    "# Fitting the optimal model\n",
    "mnb_optimal.fit(X_train, y_train)\n",
    "\n",
    "# Predict\n",
    "pred = mnb_optimal.predict(X_test)"
   ]
  },
  {
   "cell_type": "code",
   "execution_count": 30,
   "metadata": {},
   "outputs": [
    {
     "name": "stdout",
     "output_type": "stream",
     "text": [
      "Train Accuracy 88.18142857142857\n"
     ]
    }
   ],
   "source": [
    "# Accuracy on train data\n",
    "train_acc_bow = mnb_optimal.score(X_train, y_train)\n",
    "print(\"Train Accuracy\", train_acc_bow*100)"
   ]
  },
  {
   "cell_type": "code",
   "execution_count": 31,
   "metadata": {},
   "outputs": [
    {
     "name": "stdout",
     "output_type": "stream",
     "text": [
      "Test Accuracy  86.89\n"
     ]
    }
   ],
   "source": [
    "# Accuracy on test data\n",
    "test_acc_bow = accuracy_score(y_test, pred) * 100\n",
    "print(\"Test Accuracy \",test_acc_bow)"
   ]
  },
  {
   "cell_type": "code",
   "execution_count": 32,
   "metadata": {},
   "outputs": [
    {
     "data": {
      "text/plain": [
       "array([[13048,  1936],\n",
       "       [ 1997, 13019]], dtype=int64)"
      ]
     },
     "execution_count": 32,
     "metadata": {},
     "output_type": "execute_result"
    }
   ],
   "source": [
    "# Confusion Matrix\n",
    "cm = confusion_matrix(y_test, pred)\n",
    "cm"
   ]
  },
  {
   "cell_type": "code",
   "execution_count": 33,
   "metadata": {},
   "outputs": [
    {
     "name": "stdout",
     "output_type": "stream",
     "text": [
      "             precision    recall  f1-score   support\n",
      "\n",
      "   negative       0.87      0.87      0.87     14984\n",
      "   positive       0.87      0.87      0.87     15016\n",
      "\n",
      "avg / total       0.87      0.87      0.87     30000\n",
      "\n"
     ]
    }
   ],
   "source": [
    "# Classification report\n",
    "print(classification_report(y_test, pred))"
   ]
  },
  {
   "cell_type": "code",
   "execution_count": 34,
   "metadata": {},
   "outputs": [
    {
     "data": {
      "image/png": "[encoded data removed]",
      "text/plain": [
       "<matplotlib.figure.Figure at 0x1fdf0120fd0>"
      ]
     },
     "metadata": {},
     "output_type": "display_data"
    }
   ],
   "source": [
    "confusion_matrix_np(cm)"
   ]
  },
  {
   "cell_type": "code",
   "execution_count": 35,
   "metadata": {},
   "outputs": [
    {
     "name": "stdout",
     "output_type": "stream",
     "text": [
      "Top 25 Positive Features\n",
      "tast\t -->\t-4.738560276252024  \n",
      "like\t -->\t-4.6586204364750206  \n",
      "product\t -->\t-5.001971261549205  \n",
      "one\t -->\t-4.933626909583232  \n",
      "flavor\t -->\t-4.952153105211115  \n",
      "would\t -->\t-5.571902120816192  \n",
      "tri\t -->\t-5.073900455080288  \n",
      "use\t -->\t-4.775986015164246  \n",
      "good\t -->\t-4.8247639305110965  \n",
      "buy\t -->\t-5.543706105905025  \n",
      "coffe\t -->\t-5.887170884084981  \n",
      "get\t -->\t-5.190680254184194  \n",
      "order\t -->\t-5.632334453429074  \n",
      "food\t -->\t-5.309746719091828  \n",
      "tea\t -->\t-4.703319785491926  \n",
      "dont\t -->\t-5.657647331407128  \n",
      "even\t -->\t-5.777107971443735  \n",
      "box\t -->\t-6.000251522757946  \n",
      "amazon\t -->\t-5.643743259376311  \n",
      "time\t -->\t-5.412156263500654  \n",
      "bag\t -->\t-5.754911697046678  \n",
      "make\t -->\t-5.103596765400649  \n",
      "eat\t -->\t-5.539491876665439  \n",
      "much\t -->\t-5.666163077492008  \n",
      "realli\t -->\t-5.563969863612478  \n",
      "\n",
      "\n",
      "\n",
      "\n",
      "Top 25 Negative Features\n",
      "tast\t -->\t-4.355314963357866  \n",
      "like\t -->\t-4.416101856483099  \n",
      "product\t -->\t-4.537137012303569  \n",
      "one\t -->\t-4.8489811211686735  \n",
      "flavor\t -->\t-4.922564516905814  \n",
      "would\t -->\t-4.9901886147110694  \n",
      "tri\t -->\t-5.005649479634597  \n",
      "use\t -->\t-5.150209850560902  \n",
      "good\t -->\t-5.1618829226154155  \n",
      "buy\t -->\t-5.2349363226799905  \n",
      "coffe\t -->\t-5.246692083545652  \n",
      "get\t -->\t-5.26149290725081  \n",
      "order\t -->\t-5.26952605658416  \n",
      "food\t -->\t-5.280461841675731  \n",
      "tea\t -->\t-5.367001599993994  \n",
      "dont\t -->\t-5.396393367823368  \n",
      "even\t -->\t-5.4723172111860645  \n",
      "box\t -->\t-5.487094319643665  \n",
      "amazon\t -->\t-5.5193576721342605  \n",
      "time\t -->\t-5.56460845309649  \n",
      "bag\t -->\t-5.572187991772138  \n",
      "make\t -->\t-5.583331558230638  \n",
      "eat\t -->\t-5.598328890465909  \n",
      "much\t -->\t-5.629716188514815  \n",
      "realli\t -->\t-5.643653081647516  \n"
     ]
    }
   ],
   "source": [
    "show_most_informative_features(count_vect,mnb_optimal)"
   ]
  },
  {
   "cell_type": "markdown",
   "metadata": {},
   "source": [
    "# BernoulliNB"
   ]
  },
  {
   "cell_type": "code",
   "execution_count": 36,
   "metadata": {},
   "outputs": [
    {
     "name": "stdout",
     "output_type": "stream",
     "text": [
      "\n",
      "The optimal number of alpha is 0.\n"
     ]
    },
    {
     "data": {
      "image/png": "[encoded data removed]",
      "text/plain": [
       "<matplotlib.figure.Figure at 0x1fde92b8d68>"
      ]
     },
     "metadata": {},
     "output_type": "display_data"
    },
    {
     "name": "stdout",
     "output_type": "stream",
     "text": [
      "the misclassification error for each alpha value is :  [0.155 0.153 0.152 0.148 0.146 0.146 0.146 0.148 0.152 0.154 0.158]\n"
     ]
    },
    {
     "data": {
      "text/plain": [
       "0.5"
      ]
     },
     "execution_count": 36,
     "metadata": {},
     "output_type": "execute_result"
    }
   ],
   "source": [
    "#BernoulliNB\n",
    "optimal_a_bow = optimal_b_naive_bayes(X_train, y_train)\n",
    "optimal_a_bow"
   ]
  },
  {
   "cell_type": "code",
   "execution_count": 37,
   "metadata": {
    "collapsed": true
   },
   "outputs": [],
   "source": [
    "#Check for the optimal knn value\n",
    "bnb_optimal = BernoulliNB(alpha=optimal_a_bow)\n",
    "\n",
    "# Fitting the optimal model\n",
    "bnb_optimal.fit(X_train, y_train)\n",
    "\n",
    "# Predict\n",
    "pred = bnb_optimal.predict(X_test)"
   ]
  },
  {
   "cell_type": "code",
   "execution_count": 38,
   "metadata": {},
   "outputs": [
    {
     "name": "stdout",
     "output_type": "stream",
     "text": [
      "Train Accuracy 87.79857142857142\n"
     ]
    }
   ],
   "source": [
    "# Accuracy on train data\n",
    "train_acc_bow = bnb_optimal.score(X_train, y_train)\n",
    "print(\"Train Accuracy\", train_acc_bow*100)"
   ]
  },
  {
   "cell_type": "code",
   "execution_count": 39,
   "metadata": {},
   "outputs": [
    {
     "name": "stdout",
     "output_type": "stream",
     "text": [
      "Test Accuracy  85.40666666666667\n"
     ]
    }
   ],
   "source": [
    "# Accuracy on test data\n",
    "test_acc_bow = accuracy_score(y_test, pred) * 100\n",
    "print(\"Test Accuracy \",test_acc_bow)"
   ]
  },
  {
   "cell_type": "code",
   "execution_count": 40,
   "metadata": {},
   "outputs": [
    {
     "data": {
      "text/plain": [
       "array([[12222,  2762],\n",
       "       [ 1616, 13400]], dtype=int64)"
      ]
     },
     "execution_count": 40,
     "metadata": {},
     "output_type": "execute_result"
    }
   ],
   "source": [
    "# Confusion Matrix\n",
    "cm = confusion_matrix(y_test, pred)\n",
    "cm"
   ]
  },
  {
   "cell_type": "code",
   "execution_count": 41,
   "metadata": {},
   "outputs": [
    {
     "name": "stdout",
     "output_type": "stream",
     "text": [
      "             precision    recall  f1-score   support\n",
      "\n",
      "   negative       0.88      0.82      0.85     14984\n",
      "   positive       0.83      0.89      0.86     15016\n",
      "\n",
      "avg / total       0.86      0.85      0.85     30000\n",
      "\n"
     ]
    }
   ],
   "source": [
    "# Classification report\n",
    "print(classification_report(y_test, pred))"
   ]
  },
  {
   "cell_type": "code",
   "execution_count": 42,
   "metadata": {},
   "outputs": [
    {
     "data": {
      "image/png": "[encoded data removed]",
      "text/plain": [
       "<matplotlib.figure.Figure at 0x1fd80146c50>"
      ]
     },
     "metadata": {},
     "output_type": "display_data"
    }
   ],
   "source": [
    "confusion_matrix_np(cm)"
   ]
  },
  {
   "cell_type": "code",
   "execution_count": 43,
   "metadata": {},
   "outputs": [
    {
     "name": "stdout",
     "output_type": "stream",
     "text": [
      "Top 25 Positive Features\n",
      "tast\t -->\t-1.3189549925457094  \n",
      "like\t -->\t-1.2766782285933314  \n",
      "product\t -->\t-1.5677987586680473  \n",
      "one\t -->\t-1.5120770089663544  \n",
      "would\t -->\t-2.067084307523009  \n",
      "tri\t -->\t-1.603098182541892  \n",
      "good\t -->\t-1.3441755088693945  \n",
      "flavor\t -->\t-1.5710943332264566  \n",
      "buy\t -->\t-1.981626932400113  \n",
      "get\t -->\t-1.7037124703263853  \n",
      "use\t -->\t-1.4335564665544673  \n",
      "dont\t -->\t-2.108824283959933  \n",
      "order\t -->\t-2.1494353426848285  \n",
      "even\t -->\t-2.20464089128234  \n",
      "make\t -->\t-1.6189874375265898  \n",
      "time\t -->\t-1.871209241389172  \n",
      "much\t -->\t-2.081186667929135  \n",
      "realli\t -->\t-2.0320202471809985  \n",
      "amazon\t -->\t-2.088313134871303  \n",
      "love\t -->\t-1.282226663068851  \n",
      "look\t -->\t-2.537697947745264  \n",
      "eat\t -->\t-2.079584470287241  \n",
      "bought\t -->\t-2.586605638256553  \n",
      "food\t -->\t-2.1843733940461085  \n",
      "disappoint\t -->\t-3.945742229569155  \n",
      "\n",
      "\n",
      "\n",
      "\n",
      "Top 25 Negative Features\n",
      "tast\t -->\t-1.0087741428440413  \n",
      "like\t -->\t-1.0230499590721944  \n",
      "product\t -->\t-1.1909782391339565  \n",
      "one\t -->\t-1.3646830453063856  \n",
      "would\t -->\t-1.4258772496831362  \n",
      "tri\t -->\t-1.4906812209087352  \n",
      "good\t -->\t-1.562562937438976  \n",
      "flavor\t -->\t-1.5855793889807437  \n",
      "buy\t -->\t-1.5984891311731495  \n",
      "get\t -->\t-1.6816497042513028  \n",
      "use\t -->\t-1.6865731698473247  \n",
      "dont\t -->\t-1.7527222002898473  \n",
      "order\t -->\t-1.8095074933579038  \n",
      "even\t -->\t-1.8397860103617685  \n",
      "make\t -->\t-1.9794355994982258  \n",
      "time\t -->\t-1.9839937758353443  \n",
      "much\t -->\t-1.9885728243192116  \n",
      "realli\t -->\t-2.0390594302834444  \n",
      "amazon\t -->\t-2.0547607700981505  \n",
      "love\t -->\t-2.06102127126133  \n",
      "look\t -->\t-2.0732069122864125  \n",
      "eat\t -->\t-2.0853130446066945  \n",
      "bought\t -->\t-2.0991973356779887  \n",
      "food\t -->\t-2.105274250487513  \n",
      "disappoint\t -->\t-2.105274250487513  \n"
     ]
    }
   ],
   "source": [
    "show_most_informative_features(count_vect,bnb_optimal)"
   ]
  },
  {
   "cell_type": "markdown",
   "metadata": {},
   "source": [
    "# Observations\n",
    "For MultinomialNB the alpha value is 5 and for BernoulliNB the alpha value decreased to 0.5 as well the accuracy decreased from 86 to 85 on the test dataset."
   ]
  },
  {
   "cell_type": "markdown",
   "metadata": {},
   "source": [
    "## [7.2.4] Bi-Grams and n-Grams.\n",
    "\n",
    "**Motivation**\n",
    "\n",
    "Now that we have our list of words describing positive and negative reviews lets analyse them.<br>\n",
    "\n",
    "We begin analysis by getting the frequency distribution of the words as shown below"
   ]
  },
  {
   "cell_type": "code",
   "execution_count": 44,
   "metadata": {},
   "outputs": [
    {
     "name": "stdout",
     "output_type": "stream",
     "text": [
      "Most Common Positive Words :  [(b'like', 139429), (b'tast', 129047), (b'good', 112766), (b'flavor', 109624), (b'love', 107357), (b'use', 103888), (b'great', 103870), (b'one', 96726), (b'product', 91033), (b'tri', 86791), (b'tea', 83888), (b'coffe', 78814), (b'make', 75107), (b'get', 72125), (b'food', 64802), (b'would', 55568), (b'time', 55264), (b'buy', 54198), (b'realli', 52715), (b'eat', 52004)]\n",
      "Most Common Negative Words :  [(b'tast', 34585), (b'like', 32330), (b'product', 28218), (b'one', 20569), (b'flavor', 19575), (b'would', 17972), (b'tri', 17753), (b'use', 15302), (b'good', 15041), (b'coffe', 14716), (b'get', 13786), (b'buy', 13752), (b'order', 12871), (b'food', 12754), (b'dont', 11877), (b'tea', 11665), (b'even', 11085), (b'box', 10844), (b'amazon', 10073), (b'make', 9840)]\n"
     ]
    }
   ],
   "source": [
    "freq_dist_positive=nltk.FreqDist(all_positive_words)\n",
    "freq_dist_negative=nltk.FreqDist(all_negative_words)\n",
    "print(\"Most Common Positive Words : \",freq_dist_positive.most_common(20))\n",
    "print(\"Most Common Negative Words : \",freq_dist_negative.most_common(20))"
   ]
  },
  {
   "cell_type": "markdown",
   "metadata": {},
   "source": [
    "<b>Observation:-</b> From the above it can be seen that the most common positive and the negative words overlap for eg. 'like' could be used as 'not like' etc. <br>\n",
    "So, it is a good idea to consider pairs of consequent words (bi-grams) or q sequnce of n consecutive words (n-grams)"
   ]
  },
  {
   "cell_type": "code",
   "execution_count": 45,
   "metadata": {},
   "outputs": [
    {
     "name": "stdout",
     "output_type": "stream",
     "text": [
      "shape of X: (100000,)\n"
     ]
    }
   ],
   "source": [
    "# Train Label\n",
    "X = final_np[\"CleanedText\"]\n",
    "print(\"shape of X:\", X.shape)"
   ]
  },
  {
   "cell_type": "code",
   "execution_count": 46,
   "metadata": {},
   "outputs": [
    {
     "name": "stdout",
     "output_type": "stream",
     "text": [
      "shape of y: (100000,)\n"
     ]
    }
   ],
   "source": [
    "# Class label\n",
    "y = final_np[\"Score\"]\n",
    "print(\"shape of y:\", y.shape)\n"
   ]
  },
  {
   "cell_type": "code",
   "execution_count": 47,
   "metadata": {},
   "outputs": [
    {
     "name": "stdout",
     "output_type": "stream",
     "text": [
      "(70000,) (70000,) (30000,)\n"
     ]
    }
   ],
   "source": [
    "from sklearn.model_selection import train_test_split\n",
    "X_train, X_test, y_train, y_test = train_test_split(X, y, test_size = 0.3, random_state = 42)\n",
    "print(X_train.shape, y_train.shape, X_test.shape)"
   ]
  },
  {
   "cell_type": "code",
   "execution_count": 48,
   "metadata": {
    "collapsed": true
   },
   "outputs": [],
   "source": [
    "#bi-gram, tri-gram and n-gram\n",
    "\n",
    "#removing stop words like \"not\" should be avoided before building n-grams\n",
    "count_vect = CountVectorizer(ngram_range=(1,2) ) #in scikit-learn\n",
    "X_train = count_vect.fit_transform(X_train)\n"
   ]
  },
  {
   "cell_type": "code",
   "execution_count": 49,
   "metadata": {
    "collapsed": true
   },
   "outputs": [],
   "source": [
    "X_test=count_vect.transform(X_test)"
   ]
  },
  {
   "cell_type": "markdown",
   "metadata": {},
   "source": [
    "# MultinomialNB"
   ]
  },
  {
   "cell_type": "code",
   "execution_count": 50,
   "metadata": {},
   "outputs": [
    {
     "name": "stdout",
     "output_type": "stream",
     "text": [
      "\n",
      "The optimal number of alpha is 1.\n"
     ]
    },
    {
     "data": {
      "image/png": "[encoded data removed]",
      "text/plain": [
       "<matplotlib.figure.Figure at 0x1fd85eb7a20>"
      ]
     },
     "metadata": {},
     "output_type": "display_data"
    },
    {
     "name": "stdout",
     "output_type": "stream",
     "text": [
      "the misclassification error for each alpha value is :  [0.13  0.125 0.12  0.112 0.105 0.107 0.113 0.117 0.128 0.132 0.141]\n"
     ]
    },
    {
     "data": {
      "text/plain": [
       "1"
      ]
     },
     "execution_count": 50,
     "metadata": {},
     "output_type": "execute_result"
    }
   ],
   "source": [
    "#MultinomialNB\n",
    "optimal_a_bigram = optimal_m_naive_bayes(X_train, y_train)\n",
    "optimal_a_bigram"
   ]
  },
  {
   "cell_type": "code",
   "execution_count": 51,
   "metadata": {
    "collapsed": true
   },
   "outputs": [],
   "source": [
    "#Check for the optimal knn value\n",
    "mnb_optimal= MultinomialNB(alpha=optimal_a_bigram)"
   ]
  },
  {
   "cell_type": "code",
   "execution_count": 52,
   "metadata": {},
   "outputs": [
    {
     "data": {
      "text/plain": [
       "MultinomialNB(alpha=1, class_prior=None, fit_prior=True)"
      ]
     },
     "execution_count": 52,
     "metadata": {},
     "output_type": "execute_result"
    }
   ],
   "source": [
    "# Fitting the optimal model\n",
    "mnb_optimal.fit(X_train, y_train)"
   ]
  },
  {
   "cell_type": "code",
   "execution_count": 53,
   "metadata": {
    "collapsed": true
   },
   "outputs": [],
   "source": [
    "# Predict\n",
    "pred = mnb_optimal.predict(X_test)"
   ]
  },
  {
   "cell_type": "code",
   "execution_count": 54,
   "metadata": {},
   "outputs": [
    {
     "name": "stdout",
     "output_type": "stream",
     "text": [
      "Train Accuracy 98.00142857142858\n"
     ]
    }
   ],
   "source": [
    "# Accuracy on train data\n",
    "train_acc_bigram = mnb_optimal.score(X_train, y_train)\n",
    "print(\"Train Accuracy\", train_acc_bigram*100)\n"
   ]
  },
  {
   "cell_type": "code",
   "execution_count": 55,
   "metadata": {},
   "outputs": [
    {
     "name": "stdout",
     "output_type": "stream",
     "text": [
      "Test Accuracy  89.22\n"
     ]
    }
   ],
   "source": [
    "# Accuracy on test data\n",
    "test_acc_bigram = accuracy_score(y_test, pred) * 100\n",
    "print(\"Test Accuracy \",test_acc_bigram)"
   ]
  },
  {
   "cell_type": "code",
   "execution_count": 56,
   "metadata": {},
   "outputs": [
    {
     "data": {
      "text/plain": [
       "array([[13406,  1578],\n",
       "       [ 1656, 13360]], dtype=int64)"
      ]
     },
     "execution_count": 56,
     "metadata": {},
     "output_type": "execute_result"
    }
   ],
   "source": [
    "# Confusion Matrix\n",
    "cm = confusion_matrix(y_test, pred)\n",
    "cm"
   ]
  },
  {
   "cell_type": "code",
   "execution_count": 57,
   "metadata": {},
   "outputs": [
    {
     "name": "stdout",
     "output_type": "stream",
     "text": [
      "             precision    recall  f1-score   support\n",
      "\n",
      "   negative       0.89      0.89      0.89     14984\n",
      "   positive       0.89      0.89      0.89     15016\n",
      "\n",
      "avg / total       0.89      0.89      0.89     30000\n",
      "\n"
     ]
    }
   ],
   "source": [
    "# Classification report\n",
    "print(classification_report(y_test, pred))"
   ]
  },
  {
   "cell_type": "code",
   "execution_count": 58,
   "metadata": {},
   "outputs": [
    {
     "data": {
      "image/png": "[encoded data removed]",
      "text/plain": [
       "<matplotlib.figure.Figure at 0x1fd8b7743c8>"
      ]
     },
     "metadata": {},
     "output_type": "display_data"
    }
   ],
   "source": [
    "confusion_matrix_np(cm)"
   ]
  },
  {
   "cell_type": "code",
   "execution_count": 59,
   "metadata": {},
   "outputs": [
    {
     "name": "stdout",
     "output_type": "stream",
     "text": [
      "Top 25 Positive Features\n",
      "tast\t -->\t-5.636754780864148  \n",
      "like\t -->\t-5.556790760683276  \n",
      "product\t -->\t-5.900260620435441  \n",
      "one\t -->\t-5.831889208442162  \n",
      "flavor\t -->\t-5.850422557450747  \n",
      "would\t -->\t-6.470506181462175  \n",
      "tri\t -->\t-5.972220364050873  \n",
      "use\t -->\t-5.674192522335204  \n",
      "good\t -->\t-5.722986770812929  \n",
      "buy\t -->\t-6.442290023868788  \n",
      "coffe\t -->\t-6.786043502894765  \n",
      "get\t -->\t-6.0890546917350115  \n",
      "order\t -->\t-6.530983648737777  \n",
      "food\t -->\t-6.208183716316148  \n",
      "tea\t -->\t-5.601503391815809  \n",
      "dont\t -->\t-6.556316258270309  \n",
      "even\t -->\t-6.6758770721726926  \n",
      "box\t -->\t-6.899243068154709  \n",
      "amazon\t -->\t-6.542401286076391  \n",
      "time\t -->\t-6.310653364014945  \n",
      "bag\t -->\t-6.653661267939992  \n",
      "make\t -->\t-6.001929942487452  \n",
      "eat\t -->\t-6.438072832589681  \n",
      "much\t -->\t-6.564838755598185  \n",
      "realli\t -->\t-6.462568200036575  \n",
      "\n",
      "\n",
      "\n",
      "\n",
      "Top 25 Negative Features\n",
      "tast\t -->\t-5.2372510654605335  \n",
      "like\t -->\t-5.298050240749724  \n",
      "product\t -->\t-5.419112192283139  \n",
      "one\t -->\t-5.731042322768484  \n",
      "flavor\t -->\t-5.804650237806499  \n",
      "would\t -->\t-5.872298517371831  \n",
      "tri\t -->\t-5.8877651445170045  \n",
      "use\t -->\t-6.032383932718904  \n",
      "good\t -->\t-6.044062100909766  \n",
      "buy\t -->\t-6.117148782012299  \n",
      "coffe\t -->\t-6.1289101293498724  \n",
      "get\t -->\t-6.143718080660877  \n",
      "order\t -->\t-6.151755142919603  \n",
      "food\t -->\t-6.162696305602038  \n",
      "tea\t -->\t-6.24928075946505  \n",
      "dont\t -->\t-6.2786886093587295  \n",
      "even\t -->\t-6.354656251796708  \n",
      "box\t -->\t-6.369442278568579  \n",
      "amazon\t -->\t-6.401725567088368  \n",
      "time\t -->\t-6.447005416113054  \n",
      "bag\t -->\t-6.454589953707959  \n",
      "make\t -->\t-6.465740938854864  \n",
      "eat\t -->\t-6.480748386861158  \n",
      "much\t -->\t-6.512157353560445  \n",
      "realli\t -->\t-6.526104088581956  \n"
     ]
    }
   ],
   "source": [
    "show_most_informative_features(count_vect,mnb_optimal)"
   ]
  },
  {
   "cell_type": "markdown",
   "metadata": {},
   "source": [
    "# BernoulliNB"
   ]
  },
  {
   "cell_type": "code",
   "execution_count": 60,
   "metadata": {},
   "outputs": [
    {
     "name": "stdout",
     "output_type": "stream",
     "text": [
      "\n",
      "The optimal number of alpha is 0.\n"
     ]
    },
    {
     "data": {
      "image/png": "[encoded data removed]",
      "text/plain": [
       "<matplotlib.figure.Figure at 0x1fd8b2105c0>"
      ]
     },
     "metadata": {},
     "output_type": "display_data"
    },
    {
     "name": "stdout",
     "output_type": "stream",
     "text": [
      "the misclassification error for each alpha value is :  [0.179 0.174 0.167 0.153 0.131 0.126 0.124 0.126 0.133 0.136 0.143]\n"
     ]
    },
    {
     "data": {
      "text/plain": [
       "0.1"
      ]
     },
     "execution_count": 60,
     "metadata": {},
     "output_type": "execute_result"
    }
   ],
   "source": [
    "#BernoulliNB\n",
    "optimal_a_bigram = optimal_b_naive_bayes(X_train, y_train)\n",
    "optimal_a_bigram"
   ]
  },
  {
   "cell_type": "code",
   "execution_count": 61,
   "metadata": {
    "collapsed": true
   },
   "outputs": [],
   "source": [
    "#Check for the optimal knn value\n",
    "bnb_optimal = BernoulliNB(alpha=optimal_a_bigram)"
   ]
  },
  {
   "cell_type": "code",
   "execution_count": 62,
   "metadata": {},
   "outputs": [
    {
     "data": {
      "text/plain": [
       "BernoulliNB(alpha=0.1, binarize=0.0, class_prior=None, fit_prior=True)"
      ]
     },
     "execution_count": 62,
     "metadata": {},
     "output_type": "execute_result"
    }
   ],
   "source": [
    "# Fitting the optimal model\n",
    "bnb_optimal.fit(X_train, y_train)"
   ]
  },
  {
   "cell_type": "code",
   "execution_count": 63,
   "metadata": {
    "collapsed": true
   },
   "outputs": [],
   "source": [
    "# Predict\n",
    "pred = bnb_optimal.predict(X_test)"
   ]
  },
  {
   "cell_type": "code",
   "execution_count": 64,
   "metadata": {},
   "outputs": [
    {
     "name": "stdout",
     "output_type": "stream",
     "text": [
      "Train Accuracy 99.07285714285715\n"
     ]
    }
   ],
   "source": [
    "# Accuracy on train data\n",
    "train_acc_bigram = bnb_optimal.score(X_train, y_train)\n",
    "print(\"Train Accuracy\", train_acc_bigram*100)"
   ]
  },
  {
   "cell_type": "code",
   "execution_count": 65,
   "metadata": {},
   "outputs": [
    {
     "name": "stdout",
     "output_type": "stream",
     "text": [
      "Test Accuracy  87.35666666666667\n"
     ]
    }
   ],
   "source": [
    "# Accuracy on test data\n",
    "test_acc_bigram = accuracy_score(y_test, pred) * 100\n",
    "print(\"Test Accuracy \",test_acc_bigram)"
   ]
  },
  {
   "cell_type": "code",
   "execution_count": 66,
   "metadata": {},
   "outputs": [
    {
     "data": {
      "text/plain": [
       "array([[12428,  2556],\n",
       "       [ 1237, 13779]], dtype=int64)"
      ]
     },
     "execution_count": 66,
     "metadata": {},
     "output_type": "execute_result"
    }
   ],
   "source": [
    "# Confusion Matrix\n",
    "cm = confusion_matrix(y_test, pred)\n",
    "cm"
   ]
  },
  {
   "cell_type": "code",
   "execution_count": 67,
   "metadata": {},
   "outputs": [
    {
     "name": "stdout",
     "output_type": "stream",
     "text": [
      "             precision    recall  f1-score   support\n",
      "\n",
      "   negative       0.91      0.83      0.87     14984\n",
      "   positive       0.84      0.92      0.88     15016\n",
      "\n",
      "avg / total       0.88      0.87      0.87     30000\n",
      "\n"
     ]
    }
   ],
   "source": [
    "# Classification report\n",
    "print(classification_report(y_test, pred))"
   ]
  },
  {
   "cell_type": "code",
   "execution_count": 68,
   "metadata": {},
   "outputs": [
    {
     "data": {
      "image/png": "[encoded data removed]",
      "text/plain": [
       "<matplotlib.figure.Figure at 0x1fd8ac84588>"
      ]
     },
     "metadata": {},
     "output_type": "display_data"
    }
   ],
   "source": [
    "confusion_matrix_np(cm)"
   ]
  },
  {
   "cell_type": "code",
   "execution_count": 69,
   "metadata": {},
   "outputs": [
    {
     "name": "stdout",
     "output_type": "stream",
     "text": [
      "Top 25 Positive Features\n",
      "tast\t -->\t-1.3189748818536398  \n",
      "like\t -->\t-1.2766963479350757  \n",
      "product\t -->\t-1.5678307288023756  \n",
      "one\t -->\t-1.5121060069642756  \n",
      "would\t -->\t-2.0671517888380553  \n",
      "tri\t -->\t-1.6031321230292406  \n",
      "good\t -->\t-1.3441964902557881  \n",
      "flavor\t -->\t-1.5711264843844202  \n",
      "buy\t -->\t-1.981687013166617  \n",
      "get\t -->\t-1.7037524240979014  \n",
      "use\t -->\t-1.4335815477575622  \n",
      "dont\t -->\t-2.108895616411745  \n",
      "order\t -->\t-2.1495105796180205  \n",
      "even\t -->\t-2.2047216966799272  \n",
      "make\t -->\t-1.619022287881302  \n",
      "time\t -->\t-1.8712606504553655  \n",
      "much\t -->\t-2.081255432456839  \n",
      "realli\t -->\t-2.0320846152720247  \n",
      "amazon\t -->\t-2.0883825547721226  \n",
      "love\t -->\t-1.2822450104585155  \n",
      "look\t -->\t-2.5378197303078407  \n",
      "eat\t -->\t-2.0796530881136377  \n",
      "bought\t -->\t-2.5867346717093866  \n",
      "disappoint\t -->\t-3.9463108158789364  \n",
      "food\t -->\t-2.1844521193036073  \n",
      "\n",
      "\n",
      "\n",
      "\n",
      "Top 25 Negative Features\n",
      "tast\t -->\t-1.0087826216682334  \n",
      "like\t -->\t-1.023058888302618  \n",
      "product\t -->\t-1.19099297868698  \n",
      "one\t -->\t-1.364704915218903  \n",
      "would\t -->\t-1.425901941495594  \n",
      "tri\t -->\t-1.490709095471935  \n",
      "good\t -->\t-1.5625945922422684  \n",
      "flavor\t -->\t-1.585612312789161  \n",
      "buy\t -->\t-1.5985227796472792  \n",
      "get\t -->\t-1.6816882518937675  \n",
      "use\t -->\t-1.6866120205154687  \n",
      "dont\t -->\t-1.7527652703019232  \n",
      "order\t -->\t-1.8095544148982405  \n",
      "even\t -->\t-1.8398350767526033  \n",
      "make\t -->\t-1.979495443948334  \n",
      "time\t -->\t-1.984053998080535  \n",
      "much\t -->\t-1.9886334278274482  \n",
      "realli\t -->\t-2.0391243552443967  \n",
      "amazon\t -->\t-2.0548270841235983  \n",
      "love\t -->\t-2.0610881452511833  \n",
      "look\t -->\t-2.0732748863139676  \n",
      "eat\t -->\t-2.0853821248502644  \n",
      "bought\t -->\t-2.0992677012181016  \n",
      "disappoint\t -->\t-2.1053451842193205  \n",
      "food\t -->\t-2.1053451842193205  \n"
     ]
    }
   ],
   "source": [
    "show_most_informative_features(count_vect,bnb_optimal)"
   ]
  },
  {
   "cell_type": "markdown",
   "metadata": {},
   "source": [
    "# Observations\n",
    "For MultinomialNB the alpha value is 1 and for BernoulliNB the alpha value decreased to 0.1 but the accuracy increased on train set i.e from 98 to 99 whereas the accuracy on test set decreased from 87 to 85."
   ]
  },
  {
   "cell_type": "markdown",
   "metadata": {},
   "source": [
    "# [7.2.5] TF-IDF"
   ]
  },
  {
   "cell_type": "code",
   "execution_count": 70,
   "metadata": {},
   "outputs": [
    {
     "name": "stdout",
     "output_type": "stream",
     "text": [
      "shape of X: (100000,)\n"
     ]
    }
   ],
   "source": [
    "# Train Label\n",
    "X = final_np[\"CleanedText\"]\n",
    "print(\"shape of X:\", X.shape)\n"
   ]
  },
  {
   "cell_type": "code",
   "execution_count": 71,
   "metadata": {},
   "outputs": [
    {
     "name": "stdout",
     "output_type": "stream",
     "text": [
      "shape of y: (100000,)\n"
     ]
    }
   ],
   "source": [
    "# Class label\n",
    "y = final_np[\"Score\"]\n",
    "print(\"shape of y:\", y.shape)"
   ]
  },
  {
   "cell_type": "code",
   "execution_count": 72,
   "metadata": {},
   "outputs": [
    {
     "name": "stdout",
     "output_type": "stream",
     "text": [
      "(70000,) (70000,) (30000,)\n"
     ]
    }
   ],
   "source": [
    "from sklearn.model_selection import train_test_split\n",
    "X_train, X_test, y_train, y_test = train_test_split(X, y, test_size = 0.3, random_state = 42)\n",
    "print(X_train.shape, y_train.shape, X_test.shape)"
   ]
  },
  {
   "cell_type": "code",
   "execution_count": 73,
   "metadata": {},
   "outputs": [
    {
     "data": {
      "text/plain": [
       "<70000x32804 sparse matrix of type '<class 'numpy.float64'>'\n",
       "\twith 2216810 stored elements in Compressed Sparse Row format>"
      ]
     },
     "execution_count": 73,
     "metadata": {},
     "output_type": "execute_result"
    }
   ],
   "source": [
    "tf_idf_vect = TfidfVectorizer()\n",
    "X_train = tf_idf_vect.fit_transform(X_train)\n",
    "X_train"
   ]
  },
  {
   "cell_type": "code",
   "execution_count": 74,
   "metadata": {},
   "outputs": [
    {
     "data": {
      "text/plain": [
       "<30000x32804 sparse matrix of type '<class 'numpy.float64'>'\n",
       "\twith 950862 stored elements in Compressed Sparse Row format>"
      ]
     },
     "execution_count": 74,
     "metadata": {},
     "output_type": "execute_result"
    }
   ],
   "source": [
    "X_test = tf_idf_vect.transform(X_test)\n",
    "X_test"
   ]
  },
  {
   "cell_type": "markdown",
   "metadata": {},
   "source": [
    "# MultinomialNB"
   ]
  },
  {
   "cell_type": "code",
   "execution_count": 75,
   "metadata": {},
   "outputs": [
    {
     "name": "stdout",
     "output_type": "stream",
     "text": [
      "\n",
      "The optimal number of alpha is 5.\n"
     ]
    },
    {
     "data": {
      "image/png": "[encoded data removed]",
      "text/plain": [
       "<matplotlib.figure.Figure at 0x1fd85ab2dd8>"
      ]
     },
     "metadata": {},
     "output_type": "display_data"
    },
    {
     "name": "stdout",
     "output_type": "stream",
     "text": [
      "the misclassification error for each alpha value is :  [0.131 0.13  0.129 0.129 0.13  0.131 0.136 0.138 0.145 0.148 0.152]\n"
     ]
    },
    {
     "data": {
      "text/plain": [
       "5"
      ]
     },
     "execution_count": 75,
     "metadata": {},
     "output_type": "execute_result"
    }
   ],
   "source": [
    "#MultinomialNB\n",
    "optimal_a_tfidf = optimal_m_naive_bayes(X_train, y_train)\n",
    "optimal_a_tfidf"
   ]
  },
  {
   "cell_type": "code",
   "execution_count": 76,
   "metadata": {
    "collapsed": true
   },
   "outputs": [],
   "source": [
    "#Check for the optimal alpha value\n",
    "mnb_optimal= MultinomialNB(alpha=optimal_a_tfidf)"
   ]
  },
  {
   "cell_type": "code",
   "execution_count": 77,
   "metadata": {},
   "outputs": [
    {
     "data": {
      "text/plain": [
       "MultinomialNB(alpha=5, class_prior=None, fit_prior=True)"
      ]
     },
     "execution_count": 77,
     "metadata": {},
     "output_type": "execute_result"
    }
   ],
   "source": [
    "# Fitting the optimal model\n",
    "mnb_optimal.fit(X_train, y_train)"
   ]
  },
  {
   "cell_type": "code",
   "execution_count": 78,
   "metadata": {
    "collapsed": true
   },
   "outputs": [],
   "source": [
    "# Predict\n",
    "pred = mnb_optimal.predict(X_test)"
   ]
  },
  {
   "cell_type": "code",
   "execution_count": 79,
   "metadata": {},
   "outputs": [
    {
     "name": "stdout",
     "output_type": "stream",
     "text": [
      "Train Accuracy 88.27000000000001\n"
     ]
    }
   ],
   "source": [
    "# Accuracy on train data\n",
    "train_acc_tfidf = mnb_optimal.score(X_train, y_train)\n",
    "print(\"Train Accuracy\", train_acc_tfidf*100)"
   ]
  },
  {
   "cell_type": "code",
   "execution_count": 80,
   "metadata": {},
   "outputs": [
    {
     "name": "stdout",
     "output_type": "stream",
     "text": [
      "Test Accuracy  87.03\n"
     ]
    }
   ],
   "source": [
    "# Accuracy on test data\n",
    "test_acc_tfidf = accuracy_score(y_test, pred) * 100\n",
    "print(\"Test Accuracy \",test_acc_tfidf)"
   ]
  },
  {
   "cell_type": "code",
   "execution_count": 81,
   "metadata": {},
   "outputs": [
    {
     "data": {
      "text/plain": [
       "array([[13159,  1825],\n",
       "       [ 2066, 12950]], dtype=int64)"
      ]
     },
     "execution_count": 81,
     "metadata": {},
     "output_type": "execute_result"
    }
   ],
   "source": [
    "# Confusion Matrix\n",
    "cm = confusion_matrix(y_test, pred)\n",
    "cm"
   ]
  },
  {
   "cell_type": "code",
   "execution_count": 82,
   "metadata": {},
   "outputs": [
    {
     "name": "stdout",
     "output_type": "stream",
     "text": [
      "             precision    recall  f1-score   support\n",
      "\n",
      "   negative       0.86      0.88      0.87     14984\n",
      "   positive       0.88      0.86      0.87     15016\n",
      "\n",
      "avg / total       0.87      0.87      0.87     30000\n",
      "\n"
     ]
    }
   ],
   "source": [
    "# Classification report\n",
    "print(classification_report(y_test, pred))"
   ]
  },
  {
   "cell_type": "code",
   "execution_count": 83,
   "metadata": {},
   "outputs": [
    {
     "data": {
      "image/png": "[encoded data removed]",
      "text/plain": [
       "<matplotlib.figure.Figure at 0x1fd8751c470>"
      ]
     },
     "metadata": {},
     "output_type": "display_data"
    }
   ],
   "source": [
    "confusion_matrix_np(cm)"
   ]
  },
  {
   "cell_type": "code",
   "execution_count": 84,
   "metadata": {},
   "outputs": [
    {
     "name": "stdout",
     "output_type": "stream",
     "text": [
      "Top 25 Positive Features\n",
      "tast\t -->\t-5.95163608430605  \n",
      "like\t -->\t-5.968511841571702  \n",
      "product\t -->\t-6.042725718984907  \n",
      "flavor\t -->\t-6.032940120083073  \n",
      "coffe\t -->\t-6.620606426550865  \n",
      "would\t -->\t-6.682019937643783  \n",
      "one\t -->\t-6.160422223417808  \n",
      "tri\t -->\t-6.221271917646872  \n",
      "buy\t -->\t-6.440597573376524  \n",
      "order\t -->\t-6.447197426959379  \n",
      "good\t -->\t-5.838098989106352  \n",
      "tea\t -->\t-5.589513619335299  \n",
      "box\t -->\t-6.94356579191625  \n",
      "dont\t -->\t-6.736881074080613  \n",
      "get\t -->\t-6.29165044772102  \n",
      "use\t -->\t-5.941715266781483  \n",
      "food\t -->\t-6.3823657996898735  \n",
      "bag\t -->\t-6.674635105674765  \n",
      "disappoint\t -->\t-8.304903335426602  \n",
      "even\t -->\t-6.833784042627605  \n",
      "amazon\t -->\t-6.487556595960102  \n",
      "eat\t -->\t-6.461548100315457  \n",
      "purchas\t -->\t-6.974339938223491  \n",
      "packag\t -->\t-7.081673107086324  \n",
      "dog\t -->\t-6.2748206596217715  \n",
      "\n",
      "\n",
      "\n",
      "\n",
      "Top 25 Negative Features\n",
      "tast\t -->\t-5.530731624470017  \n",
      "like\t -->\t-5.671362286460646  \n",
      "product\t -->\t-5.7146791424041785  \n",
      "flavor\t -->\t-5.987923868016145  \n",
      "coffe\t -->\t-5.994328679811792  \n",
      "would\t -->\t-6.035864614219362  \n",
      "one\t -->\t-6.042116198342456  \n",
      "tri\t -->\t-6.137019662341638  \n",
      "buy\t -->\t-6.152970516552603  \n",
      "order\t -->\t-6.1552879766798245  \n",
      "good\t -->\t-6.257638647014943  \n",
      "tea\t -->\t-6.2742709680117175  \n",
      "box\t -->\t-6.307320247920601  \n",
      "dont\t -->\t-6.352417043487045  \n",
      "get\t -->\t-6.355270307356313  \n",
      "use\t -->\t-6.356527207416392  \n",
      "food\t -->\t-6.396720951694191  \n",
      "bag\t -->\t-6.442186100698949  \n",
      "disappoint\t -->\t-6.443415295486492  \n",
      "even\t -->\t-6.461357572607631  \n",
      "amazon\t -->\t-6.4921346150519845  \n",
      "eat\t -->\t-6.5242424591159836  \n",
      "purchas\t -->\t-6.539254638706653  \n",
      "packag\t -->\t-6.556147428368811  \n",
      "dog\t -->\t-6.557829195331317  \n"
     ]
    }
   ],
   "source": [
    "show_most_informative_features(tf_idf_vect,mnb_optimal)"
   ]
  },
  {
   "cell_type": "markdown",
   "metadata": {},
   "source": [
    "# BernoulliNB"
   ]
  },
  {
   "cell_type": "code",
   "execution_count": 85,
   "metadata": {},
   "outputs": [
    {
     "name": "stdout",
     "output_type": "stream",
     "text": [
      "\n",
      "The optimal number of alpha is 0.\n"
     ]
    },
    {
     "data": {
      "image/png": "[encoded data removed]",
      "text/plain": [
       "<matplotlib.figure.Figure at 0x1fd83169550>"
      ]
     },
     "metadata": {},
     "output_type": "display_data"
    },
    {
     "name": "stdout",
     "output_type": "stream",
     "text": [
      "the misclassification error for each alpha value is :  [0.155 0.153 0.152 0.148 0.146 0.146 0.146 0.148 0.152 0.154 0.158]\n"
     ]
    },
    {
     "data": {
      "text/plain": [
       "0.5"
      ]
     },
     "execution_count": 85,
     "metadata": {},
     "output_type": "execute_result"
    }
   ],
   "source": [
    "#BernoulliNB\n",
    "optimal_a_tfidf = optimal_b_naive_bayes(X_train, y_train)\n",
    "optimal_a_tfidf"
   ]
  },
  {
   "cell_type": "code",
   "execution_count": 86,
   "metadata": {
    "collapsed": true
   },
   "outputs": [],
   "source": [
    "#Check for the optimal knn value\n",
    "bnb_optimal = BernoulliNB(alpha=optimal_a_tfidf)"
   ]
  },
  {
   "cell_type": "code",
   "execution_count": 87,
   "metadata": {},
   "outputs": [
    {
     "data": {
      "text/plain": [
       "BernoulliNB(alpha=0.5, binarize=0.0, class_prior=None, fit_prior=True)"
      ]
     },
     "execution_count": 87,
     "metadata": {},
     "output_type": "execute_result"
    }
   ],
   "source": [
    "# Fitting the optimal model\n",
    "bnb_optimal.fit(X_train, y_train)"
   ]
  },
  {
   "cell_type": "code",
   "execution_count": 88,
   "metadata": {
    "collapsed": true
   },
   "outputs": [],
   "source": [
    "# Predict\n",
    "pred = bnb_optimal.predict(X_test)"
   ]
  },
  {
   "cell_type": "code",
   "execution_count": 89,
   "metadata": {},
   "outputs": [
    {
     "name": "stdout",
     "output_type": "stream",
     "text": [
      "Train Accuracy 87.79857142857142\n"
     ]
    }
   ],
   "source": [
    "# Accuracy on train data\n",
    "train_acc_tfidf = bnb_optimal.score(X_train, y_train)\n",
    "print(\"Train Accuracy\", train_acc_tfidf*100)"
   ]
  },
  {
   "cell_type": "code",
   "execution_count": 90,
   "metadata": {},
   "outputs": [
    {
     "name": "stdout",
     "output_type": "stream",
     "text": [
      "Test Accuracy  85.40666666666667\n"
     ]
    }
   ],
   "source": [
    "# Accuracy on test data\n",
    "test_acc_tfidf = accuracy_score(y_test, pred) * 100\n",
    "print(\"Test Accuracy \",test_acc_tfidf)"
   ]
  },
  {
   "cell_type": "code",
   "execution_count": 91,
   "metadata": {},
   "outputs": [
    {
     "data": {
      "text/plain": [
       "array([[12222,  2762],\n",
       "       [ 1616, 13400]], dtype=int64)"
      ]
     },
     "execution_count": 91,
     "metadata": {},
     "output_type": "execute_result"
    }
   ],
   "source": [
    "# Confusion Matrix\n",
    "cm = confusion_matrix(y_test, pred)\n",
    "cm"
   ]
  },
  {
   "cell_type": "code",
   "execution_count": 92,
   "metadata": {},
   "outputs": [
    {
     "name": "stdout",
     "output_type": "stream",
     "text": [
      "             precision    recall  f1-score   support\n",
      "\n",
      "   negative       0.88      0.82      0.85     14984\n",
      "   positive       0.83      0.89      0.86     15016\n",
      "\n",
      "avg / total       0.86      0.85      0.85     30000\n",
      "\n"
     ]
    }
   ],
   "source": [
    "# Classification report\n",
    "print(classification_report(y_test, pred))"
   ]
  },
  {
   "cell_type": "code",
   "execution_count": 93,
   "metadata": {},
   "outputs": [
    {
     "data": {
      "image/png": "[encoded data removed]",
      "text/plain": [
       "<matplotlib.figure.Figure at 0x1fd82486f98>"
      ]
     },
     "metadata": {},
     "output_type": "display_data"
    }
   ],
   "source": [
    "confusion_matrix_np(cm)"
   ]
  },
  {
   "cell_type": "code",
   "execution_count": 94,
   "metadata": {},
   "outputs": [
    {
     "name": "stdout",
     "output_type": "stream",
     "text": [
      "Top 25 Positive Features\n",
      "tast\t -->\t-1.3189549925457094  \n",
      "like\t -->\t-1.2766782285933314  \n",
      "product\t -->\t-1.5677987586680473  \n",
      "one\t -->\t-1.5120770089663544  \n",
      "would\t -->\t-2.067084307523009  \n",
      "tri\t -->\t-1.603098182541892  \n",
      "good\t -->\t-1.3441755088693945  \n",
      "flavor\t -->\t-1.5710943332264566  \n",
      "buy\t -->\t-1.981626932400113  \n",
      "get\t -->\t-1.7037124703263853  \n",
      "use\t -->\t-1.4335564665544673  \n",
      "dont\t -->\t-2.108824283959933  \n",
      "order\t -->\t-2.1494353426848285  \n",
      "even\t -->\t-2.20464089128234  \n",
      "make\t -->\t-1.6189874375265898  \n",
      "time\t -->\t-1.871209241389172  \n",
      "much\t -->\t-2.081186667929135  \n",
      "realli\t -->\t-2.0320202471809985  \n",
      "amazon\t -->\t-2.088313134871303  \n",
      "love\t -->\t-1.282226663068851  \n",
      "look\t -->\t-2.537697947745264  \n",
      "eat\t -->\t-2.079584470287241  \n",
      "bought\t -->\t-2.586605638256553  \n",
      "food\t -->\t-2.1843733940461085  \n",
      "disappoint\t -->\t-3.945742229569155  \n",
      "\n",
      "\n",
      "\n",
      "\n",
      "Top 25 Negative Features\n",
      "tast\t -->\t-1.0087741428440413  \n",
      "like\t -->\t-1.0230499590721944  \n",
      "product\t -->\t-1.1909782391339565  \n",
      "one\t -->\t-1.3646830453063856  \n",
      "would\t -->\t-1.4258772496831362  \n",
      "tri\t -->\t-1.4906812209087352  \n",
      "good\t -->\t-1.562562937438976  \n",
      "flavor\t -->\t-1.5855793889807437  \n",
      "buy\t -->\t-1.5984891311731495  \n",
      "get\t -->\t-1.6816497042513028  \n",
      "use\t -->\t-1.6865731698473247  \n",
      "dont\t -->\t-1.7527222002898473  \n",
      "order\t -->\t-1.8095074933579038  \n",
      "even\t -->\t-1.8397860103617685  \n",
      "make\t -->\t-1.9794355994982258  \n",
      "time\t -->\t-1.9839937758353443  \n",
      "much\t -->\t-1.9885728243192116  \n",
      "realli\t -->\t-2.0390594302834444  \n",
      "amazon\t -->\t-2.0547607700981505  \n",
      "love\t -->\t-2.06102127126133  \n",
      "look\t -->\t-2.0732069122864125  \n",
      "eat\t -->\t-2.0853130446066945  \n",
      "bought\t -->\t-2.0991973356779887  \n",
      "food\t -->\t-2.105274250487513  \n",
      "disappoint\t -->\t-2.105274250487513  \n"
     ]
    }
   ],
   "source": [
    "show_most_informative_features(tf_idf_vect,bnb_optimal)"
   ]
  },
  {
   "cell_type": "markdown",
   "metadata": {},
   "source": [
    "# Observations\n",
    "The optimal alpha value for MultinomialNB from 5 decresed to 0.5 for BernoulliNB.The accuracy score for MultinomialNB performs better than BernoulliNB in this case. "
   ]
  },
  {
   "cell_type": "code",
   "execution_count": 95,
   "metadata": {},
   "outputs": [
    {
     "name": "stdout",
     "output_type": "stream",
     "text": [
      "Performance Table\n",
      "+-------------+---------------+-------+----------------+---------------+-----------+\n",
      "|  Vectorizer |   Algorithm   | alpha | Train Accuracy | Test Accuracy | F-1 Score |\n",
      "+-------------+---------------+-------+----------------+---------------+-----------+\n",
      "| Unigram BOW | MultinomialNB |   5   |     88.18      |     86.89     |    0.87   |\n",
      "| Unigram BOW |  BernoulliNB  |  0.5  |     87.79      |      85.4     |    0.85   |\n",
      "|  Bigram BOW | MultinomialNB |   1   |      98.0      |     89.22     |    0.89   |\n",
      "|  Bigram BOW |  BernoulliNB  |  0.1  |     99.07      |     87.35     |    0.87   |\n",
      "|    TF-IDF   | MultinomialNB |   5   |     88.27      |     87.03     |    0.87   |\n",
      "|    TF-IDF   |  BernoulliNB  |  0.5  |     87.79      |      85.4     |    0.85   |\n",
      "+-------------+---------------+-------+----------------+---------------+-----------+\n"
     ]
    }
   ],
   "source": [
    "from prettytable import PrettyTable\n",
    "x = PrettyTable()\n",
    "\n",
    "x.field_names = [\"Vectorizer\",\"Algorithm\",\"alpha\",\"Train Accuracy\",\"Test Accuracy\",\"F-1 Score\"]\n",
    "\n",
    "x.add_row([\"Unigram BOW\", \"MultinomialNB\",5,88.18,86.89,0.87])\n",
    "x.add_row([\"Unigram BOW\", \"BernoulliNB\",0.5,87.79,85.40,0.85])\n",
    "x.add_row([\"Bigram BOW\", \"MultinomialNB\",1,98.00,89.22,0.89])\n",
    "x.add_row([\"Bigram BOW\", \"BernoulliNB\",0.1,99.07,87.35,0.87])\n",
    "x.add_row([\"TF-IDF\", \"MultinomialNB\",5,88.27,87.03,0.87])\n",
    "x.add_row([\"TF-IDF\", \"BernoulliNB\",0.5,87.79,85.4,0.85])\n",
    "print(\"Performance Table\")\n",
    "print(x)"
   ]
  },
  {
   "cell_type": "markdown",
   "metadata": {},
   "source": [
    "# Conclusion\n",
    "* Bigram BOW performs the best with accuracy equal to 89.22 and f1-score 0.89\n",
    "* Accuracy for Avg-W2V and TF-IDF-W2V falls comparatively so we skip it."
   ]
  }
 ],
 "metadata": {
  "kernelspec": {
   "display_name": "Python 3",
   "language": "python",
   "name": "python3"
  },
  "language_info": {
   "codemirror_mode": {
    "name": "ipython",
    "version": 3
   },
   "file_extension": ".py",
   "mimetype": "text/x-python",
   "name": "python",
   "nbconvert_exporter": "python",
   "pygments_lexer": "ipython3",
   "version": "3.6.3"
  }
 },
 "nbformat": 4,
 "nbformat_minor": 2
}

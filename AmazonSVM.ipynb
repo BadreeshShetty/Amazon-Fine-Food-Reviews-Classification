{
 "cells": [
  {
   "cell_type": "markdown",
   "metadata": {},
   "source": [
    "# [7] Amazon Fine Food Reviews Analysis\n",
    "\n",
    "\n",
    "Data Source: https://www.kaggle.com/snap/amazon-fine-food-reviews\n",
    "\n",
    "The Amazon Fine Food Reviews dataset consists of reviews of fine foods from Amazon.<br>\n",
    "\n",
    "Number of reviews: 568,454<br>\n",
    "Number of users: 256,059<br>\n",
    "Number of products: 74,258<br>\n",
    "Timespan: Oct 1999 - Oct 2012<br>\n",
    "Number of Attributes/Columns in data: 10 \n",
    "\n",
    "Attribute Information:\n",
    "\n",
    "1. Id\n",
    "2. ProductId - unique identifier for the product\n",
    "3. UserId - unqiue identifier for the user\n",
    "4. ProfileName\n",
    "5. HelpfulnessNumerator - number of users who found the review helpful\n",
    "6. HelpfulnessDenominator - number of users who indicated whether they found the review helpful or not\n",
    "7. Score - rating between 1 and 5\n",
    "8. Time - timestamp for the review\n",
    "9. Summary - brief summary of the review\n",
    "10. Text - text of the review\n",
    "\n",
    "\n",
    "#### Objective:\n",
    "Given a review, determine whether the review is positive (Rating of 4 or 5) or negative (rating of 1 or 2).\n",
    "\n",
    "<br>\n",
    "[Q] How to determine if a review is positive or negative?<br>\n",
    "<br> \n",
    "[Ans] We could use the Score/Rating. A rating of 4 or 5 could be cosnidered a positive review. A review of 1 or 2 could be considered negative. A review of 3 is nuetral and ignored. This is an approximate and proxy way of determining the polarity (positivity/negativity) of a review.\n",
    "\n",
    "\n"
   ]
  },
  {
   "cell_type": "markdown",
   "metadata": {},
   "source": [
    "## [7.1] Loading the data\n",
    "\n",
    "The dataset is available in two forms\n",
    "1. .csv file\n",
    "2. SQLite Database\n",
    "\n",
    "In order to load the data, We have used the SQLITE dataset as it easier to query the data and visualise the data efficiently.\n",
    "<br> \n",
    "\n",
    "Here as we only want to get the global sentiment of the recommendations (positive or negative), we will purposefully ignore all Scores equal to 3. If the score id above 3, then the recommendation wil be set to \"positive\". Otherwise, it will be set to \"negative\"."
   ]
  },
  {
   "cell_type": "code",
   "execution_count": 1,
   "metadata": {},
   "outputs": [
    {
     "name": "stderr",
     "output_type": "stream",
     "text": [
      "C:\\Users\\Dell\\Anaconda3\\lib\\site-packages\\gensim\\utils.py:1209: UserWarning: detected Windows; aliasing chunkize to chunkize_serial\n",
      "  warnings.warn(\"detected Windows; aliasing chunkize to chunkize_serial\")\n"
     ]
    }
   ],
   "source": [
    "%matplotlib inline\n",
    "import warnings\n",
    "warnings.filterwarnings(\"ignore\")\n",
    "\n",
    "import sqlite3\n",
    "import pandas as pd\n",
    "import numpy as np\n",
    "import nltk\n",
    "import string\n",
    "import matplotlib.pyplot as plt\n",
    "import seaborn as sns\n",
    "from sklearn.feature_extraction.text import TfidfTransformer\n",
    "from sklearn.feature_extraction.text import TfidfVectorizer\n",
    "\n",
    "from sklearn.feature_extraction.text import CountVectorizer\n",
    "from sklearn.metrics import confusion_matrix,accuracy_score, classification_report\n",
    "from sklearn import metrics\n",
    "from sklearn.metrics import roc_curve, auc\n",
    "from nltk.stem.porter import PorterStemmer\n",
    "\n",
    "import re\n",
    "# Tutorial about Python regular expressions: https://pymotw.com/2/re/\n",
    "import string\n",
    "from nltk.corpus import stopwords\n",
    "from nltk.stem import PorterStemmer\n",
    "from nltk.stem.wordnet import WordNetLemmatizer\n",
    "\n",
    "from gensim.models import Word2Vec\n",
    "from gensim.models import KeyedVectors\n",
    "import pickle\n",
    "\n",
    "from tqdm import tqdm\n",
    "import os"
   ]
  },
  {
   "cell_type": "code",
   "execution_count": 2,
   "metadata": {},
   "outputs": [
    {
     "name": "stdout",
     "output_type": "stream",
     "text": [
      "Number of data points in our data (525814, 10)\n"
     ]
    },
    {
     "data": {
      "text/html": [
       "<div>\n",
       "<style scoped>\n",
       "    .dataframe tbody tr th:only-of-type {\n",
       "        vertical-align: middle;\n",
       "    }\n",
       "\n",
       "    .dataframe tbody tr th {\n",
       "        vertical-align: top;\n",
       "    }\n",
       "\n",
       "    .dataframe thead th {\n",
       "        text-align: right;\n",
       "    }\n",
       "</style>\n",
       "<table border=\"1\" class=\"dataframe\">\n",
       "  <thead>\n",
       "    <tr style=\"text-align: right;\">\n",
       "      <th></th>\n",
       "      <th>Id</th>\n",
       "      <th>ProductId</th>\n",
       "      <th>UserId</th>\n",
       "      <th>ProfileName</th>\n",
       "      <th>HelpfulnessNumerator</th>\n",
       "      <th>HelpfulnessDenominator</th>\n",
       "      <th>Score</th>\n",
       "      <th>Time</th>\n",
       "      <th>Summary</th>\n",
       "      <th>Text</th>\n",
       "    </tr>\n",
       "  </thead>\n",
       "  <tbody>\n",
       "    <tr>\n",
       "      <th>0</th>\n",
       "      <td>1</td>\n",
       "      <td>B001E4KFG0</td>\n",
       "      <td>A3SGXH7AUHU8GW</td>\n",
       "      <td>delmartian</td>\n",
       "      <td>1</td>\n",
       "      <td>1</td>\n",
       "      <td>positive</td>\n",
       "      <td>1303862400</td>\n",
       "      <td>Good Quality Dog Food</td>\n",
       "      <td>I have bought several of the Vitality canned d...</td>\n",
       "    </tr>\n",
       "    <tr>\n",
       "      <th>1</th>\n",
       "      <td>2</td>\n",
       "      <td>B00813GRG4</td>\n",
       "      <td>A1D87F6ZCVE5NK</td>\n",
       "      <td>dll pa</td>\n",
       "      <td>0</td>\n",
       "      <td>0</td>\n",
       "      <td>negative</td>\n",
       "      <td>1346976000</td>\n",
       "      <td>Not as Advertised</td>\n",
       "      <td>Product arrived labeled as Jumbo Salted Peanut...</td>\n",
       "    </tr>\n",
       "    <tr>\n",
       "      <th>2</th>\n",
       "      <td>3</td>\n",
       "      <td>B000LQOCH0</td>\n",
       "      <td>ABXLMWJIXXAIN</td>\n",
       "      <td>Natalia Corres \"Natalia Corres\"</td>\n",
       "      <td>1</td>\n",
       "      <td>1</td>\n",
       "      <td>positive</td>\n",
       "      <td>1219017600</td>\n",
       "      <td>\"Delight\" says it all</td>\n",
       "      <td>This is a confection that has been around a fe...</td>\n",
       "    </tr>\n",
       "  </tbody>\n",
       "</table>\n",
       "</div>"
      ],
      "text/plain": [
       "   Id   ProductId          UserId                      ProfileName  \\\n",
       "0   1  B001E4KFG0  A3SGXH7AUHU8GW                       delmartian   \n",
       "1   2  B00813GRG4  A1D87F6ZCVE5NK                           dll pa   \n",
       "2   3  B000LQOCH0   ABXLMWJIXXAIN  Natalia Corres \"Natalia Corres\"   \n",
       "\n",
       "   HelpfulnessNumerator  HelpfulnessDenominator     Score        Time  \\\n",
       "0                     1                       1  positive  1303862400   \n",
       "1                     0                       0  negative  1346976000   \n",
       "2                     1                       1  positive  1219017600   \n",
       "\n",
       "                 Summary                                               Text  \n",
       "0  Good Quality Dog Food  I have bought several of the Vitality canned d...  \n",
       "1      Not as Advertised  Product arrived labeled as Jumbo Salted Peanut...  \n",
       "2  \"Delight\" says it all  This is a confection that has been around a fe...  "
      ]
     },
     "execution_count": 2,
     "metadata": {},
     "output_type": "execute_result"
    }
   ],
   "source": [
    "\n",
    "# using the SQLite Table to read data.\n",
    "con = sqlite3.connect('../amazon-fine-food-reviews/database.sqlite') \n",
    "#filtering only positive and negative reviews i.e. \n",
    "# not taking into consideration those reviews with Score=3\n",
    "filtered_data = pd.read_sql_query(\"\"\" SELECT * FROM Reviews WHERE Score != 3 \"\"\", con) \n",
    "\n",
    "\n",
    "# Give reviews with Score>3 a positive rating, and reviews with a score<3 a negative rating.\n",
    "def partition(x):\n",
    "    if x < 3:\n",
    "        return 'negative'\n",
    "    return 'positive'\n",
    "\n",
    "#changing reviews with score less than 3 to be positive and vice-versa\n",
    "actualScore = filtered_data['Score']\n",
    "positiveNegative = actualScore.map(partition) \n",
    "filtered_data['Score'] = positiveNegative\n",
    "print(\"Number of data points in our data\", filtered_data.shape)\n",
    "filtered_data.head(3)"
   ]
  },
  {
   "cell_type": "markdown",
   "metadata": {},
   "source": [
    "#  Exploratory Data Analysis\n",
    "\n",
    "## [7.1.2] Data Cleaning: Deduplication\n",
    "\n",
    "It is observed (as shown in the table below) that the reviews data had many duplicate entries. Hence it was necessary to remove duplicates in order to get unbiased results for the analysis of the data.  Following is an example:"
   ]
  },
  {
   "cell_type": "code",
   "execution_count": 3,
   "metadata": {
    "scrolled": false
   },
   "outputs": [
    {
     "data": {
      "text/html": [
       "<div>\n",
       "<style scoped>\n",
       "    .dataframe tbody tr th:only-of-type {\n",
       "        vertical-align: middle;\n",
       "    }\n",
       "\n",
       "    .dataframe tbody tr th {\n",
       "        vertical-align: top;\n",
       "    }\n",
       "\n",
       "    .dataframe thead th {\n",
       "        text-align: right;\n",
       "    }\n",
       "</style>\n",
       "<table border=\"1\" class=\"dataframe\">\n",
       "  <thead>\n",
       "    <tr style=\"text-align: right;\">\n",
       "      <th></th>\n",
       "      <th>Id</th>\n",
       "      <th>ProductId</th>\n",
       "      <th>UserId</th>\n",
       "      <th>ProfileName</th>\n",
       "      <th>HelpfulnessNumerator</th>\n",
       "      <th>HelpfulnessDenominator</th>\n",
       "      <th>Score</th>\n",
       "      <th>Time</th>\n",
       "      <th>Summary</th>\n",
       "      <th>Text</th>\n",
       "    </tr>\n",
       "  </thead>\n",
       "  <tbody>\n",
       "    <tr>\n",
       "      <th>0</th>\n",
       "      <td>78445</td>\n",
       "      <td>B000HDL1RQ</td>\n",
       "      <td>AR5J8UI46CURR</td>\n",
       "      <td>Geetha Krishnan</td>\n",
       "      <td>2</td>\n",
       "      <td>2</td>\n",
       "      <td>5</td>\n",
       "      <td>1199577600</td>\n",
       "      <td>LOACKER QUADRATINI VANILLA WAFERS</td>\n",
       "      <td>DELICIOUS WAFERS. I FIND THAT EUROPEAN WAFERS ...</td>\n",
       "    </tr>\n",
       "    <tr>\n",
       "      <th>1</th>\n",
       "      <td>138317</td>\n",
       "      <td>B000HDOPYC</td>\n",
       "      <td>AR5J8UI46CURR</td>\n",
       "      <td>Geetha Krishnan</td>\n",
       "      <td>2</td>\n",
       "      <td>2</td>\n",
       "      <td>5</td>\n",
       "      <td>1199577600</td>\n",
       "      <td>LOACKER QUADRATINI VANILLA WAFERS</td>\n",
       "      <td>DELICIOUS WAFERS. I FIND THAT EUROPEAN WAFERS ...</td>\n",
       "    </tr>\n",
       "    <tr>\n",
       "      <th>2</th>\n",
       "      <td>138277</td>\n",
       "      <td>B000HDOPYM</td>\n",
       "      <td>AR5J8UI46CURR</td>\n",
       "      <td>Geetha Krishnan</td>\n",
       "      <td>2</td>\n",
       "      <td>2</td>\n",
       "      <td>5</td>\n",
       "      <td>1199577600</td>\n",
       "      <td>LOACKER QUADRATINI VANILLA WAFERS</td>\n",
       "      <td>DELICIOUS WAFERS. I FIND THAT EUROPEAN WAFERS ...</td>\n",
       "    </tr>\n",
       "    <tr>\n",
       "      <th>3</th>\n",
       "      <td>73791</td>\n",
       "      <td>B000HDOPZG</td>\n",
       "      <td>AR5J8UI46CURR</td>\n",
       "      <td>Geetha Krishnan</td>\n",
       "      <td>2</td>\n",
       "      <td>2</td>\n",
       "      <td>5</td>\n",
       "      <td>1199577600</td>\n",
       "      <td>LOACKER QUADRATINI VANILLA WAFERS</td>\n",
       "      <td>DELICIOUS WAFERS. I FIND THAT EUROPEAN WAFERS ...</td>\n",
       "    </tr>\n",
       "    <tr>\n",
       "      <th>4</th>\n",
       "      <td>155049</td>\n",
       "      <td>B000PAQ75C</td>\n",
       "      <td>AR5J8UI46CURR</td>\n",
       "      <td>Geetha Krishnan</td>\n",
       "      <td>2</td>\n",
       "      <td>2</td>\n",
       "      <td>5</td>\n",
       "      <td>1199577600</td>\n",
       "      <td>LOACKER QUADRATINI VANILLA WAFERS</td>\n",
       "      <td>DELICIOUS WAFERS. I FIND THAT EUROPEAN WAFERS ...</td>\n",
       "    </tr>\n",
       "  </tbody>\n",
       "</table>\n",
       "</div>"
      ],
      "text/plain": [
       "       Id   ProductId         UserId      ProfileName  HelpfulnessNumerator  \\\n",
       "0   78445  B000HDL1RQ  AR5J8UI46CURR  Geetha Krishnan                     2   \n",
       "1  138317  B000HDOPYC  AR5J8UI46CURR  Geetha Krishnan                     2   \n",
       "2  138277  B000HDOPYM  AR5J8UI46CURR  Geetha Krishnan                     2   \n",
       "3   73791  B000HDOPZG  AR5J8UI46CURR  Geetha Krishnan                     2   \n",
       "4  155049  B000PAQ75C  AR5J8UI46CURR  Geetha Krishnan                     2   \n",
       "\n",
       "   HelpfulnessDenominator  Score        Time  \\\n",
       "0                       2      5  1199577600   \n",
       "1                       2      5  1199577600   \n",
       "2                       2      5  1199577600   \n",
       "3                       2      5  1199577600   \n",
       "4                       2      5  1199577600   \n",
       "\n",
       "                             Summary  \\\n",
       "0  LOACKER QUADRATINI VANILLA WAFERS   \n",
       "1  LOACKER QUADRATINI VANILLA WAFERS   \n",
       "2  LOACKER QUADRATINI VANILLA WAFERS   \n",
       "3  LOACKER QUADRATINI VANILLA WAFERS   \n",
       "4  LOACKER QUADRATINI VANILLA WAFERS   \n",
       "\n",
       "                                                Text  \n",
       "0  DELICIOUS WAFERS. I FIND THAT EUROPEAN WAFERS ...  \n",
       "1  DELICIOUS WAFERS. I FIND THAT EUROPEAN WAFERS ...  \n",
       "2  DELICIOUS WAFERS. I FIND THAT EUROPEAN WAFERS ...  \n",
       "3  DELICIOUS WAFERS. I FIND THAT EUROPEAN WAFERS ...  \n",
       "4  DELICIOUS WAFERS. I FIND THAT EUROPEAN WAFERS ...  "
      ]
     },
     "execution_count": 3,
     "metadata": {},
     "output_type": "execute_result"
    }
   ],
   "source": [
    "display= pd.read_sql_query(\"\"\"\n",
    "SELECT *\n",
    "FROM Reviews\n",
    "WHERE Score != 3 AND UserId=\"AR5J8UI46CURR\"\n",
    "ORDER BY ProductID\n",
    "\"\"\", con)\n",
    "display.head()"
   ]
  },
  {
   "cell_type": "markdown",
   "metadata": {},
   "source": [
    "As can be seen above the same user has multiple reviews of the with the same values for HelpfulnessNumerator, HelpfulnessDenominator, Score, Time, Summary and Text  and on doing analysis it was found that <br>\n",
    "<br> \n",
    "ProductId=B000HDOPZG was Loacker Quadratini Vanilla Wafer Cookies, 8.82-Ounce Packages (Pack of 8)<br>\n",
    "<br> \n",
    "ProductId=B000HDL1RQ was Loacker Quadratini Lemon Wafer Cookies, 8.82-Ounce Packages (Pack of 8) and so on<br>\n",
    "\n",
    "It was inferred after analysis that reviews with same parameters other than ProductId belonged to the same product just having different flavour or quantity. Hence in order to reduce redundancy it was decided to eliminate the rows having same parameters.<br>\n",
    "\n",
    "The method used for the same was that we first sort the data according to ProductId and then just keep the first similar product review and delelte the others. for eg. in the above just the review for ProductId=B000HDL1RQ remains. This method ensures that there is only one representative for each product and deduplication without sorting would lead to possibility of different representatives still existing for the same product."
   ]
  },
  {
   "cell_type": "code",
   "execution_count": 4,
   "metadata": {
    "collapsed": true
   },
   "outputs": [],
   "source": [
    "#Sorting data according to ProductId in ascending order\n",
    "sorted_data=filtered_data.sort_values('ProductId', axis=0, ascending=True, inplace=False, kind='quicksort', na_position='last')"
   ]
  },
  {
   "cell_type": "code",
   "execution_count": 5,
   "metadata": {},
   "outputs": [
    {
     "data": {
      "text/plain": [
       "(364173, 10)"
      ]
     },
     "execution_count": 5,
     "metadata": {},
     "output_type": "execute_result"
    }
   ],
   "source": [
    "#Deduplication of entries\n",
    "final=sorted_data.drop_duplicates(subset={\"UserId\",\"ProfileName\",\"Time\",\"Text\"}, keep='first', inplace=False)\n",
    "final.shape"
   ]
  },
  {
   "cell_type": "code",
   "execution_count": 6,
   "metadata": {},
   "outputs": [
    {
     "data": {
      "text/plain": [
       "69.25890143662969"
      ]
     },
     "execution_count": 6,
     "metadata": {},
     "output_type": "execute_result"
    }
   ],
   "source": [
    "#Checking to see how much % of data still remains\n",
    "(final['Id'].size*1.0)/(filtered_data['Id'].size*1.0)*100"
   ]
  },
  {
   "cell_type": "markdown",
   "metadata": {},
   "source": [
    "<b>Observation:-</b> It was also seen that in two rows given below the value of HelpfulnessNumerator is greater than HelpfulnessDenominator which is not practically possible hence these two rows too are removed from calcualtions"
   ]
  },
  {
   "cell_type": "code",
   "execution_count": 7,
   "metadata": {},
   "outputs": [
    {
     "data": {
      "text/html": [
       "<div>\n",
       "<style scoped>\n",
       "    .dataframe tbody tr th:only-of-type {\n",
       "        vertical-align: middle;\n",
       "    }\n",
       "\n",
       "    .dataframe tbody tr th {\n",
       "        vertical-align: top;\n",
       "    }\n",
       "\n",
       "    .dataframe thead th {\n",
       "        text-align: right;\n",
       "    }\n",
       "</style>\n",
       "<table border=\"1\" class=\"dataframe\">\n",
       "  <thead>\n",
       "    <tr style=\"text-align: right;\">\n",
       "      <th></th>\n",
       "      <th>Id</th>\n",
       "      <th>ProductId</th>\n",
       "      <th>UserId</th>\n",
       "      <th>ProfileName</th>\n",
       "      <th>HelpfulnessNumerator</th>\n",
       "      <th>HelpfulnessDenominator</th>\n",
       "      <th>Score</th>\n",
       "      <th>Time</th>\n",
       "      <th>Summary</th>\n",
       "      <th>Text</th>\n",
       "    </tr>\n",
       "  </thead>\n",
       "  <tbody>\n",
       "    <tr>\n",
       "      <th>0</th>\n",
       "      <td>64422</td>\n",
       "      <td>B000MIDROQ</td>\n",
       "      <td>A161DK06JJMCYF</td>\n",
       "      <td>J. E. Stephens \"Jeanne\"</td>\n",
       "      <td>3</td>\n",
       "      <td>1</td>\n",
       "      <td>5</td>\n",
       "      <td>1224892800</td>\n",
       "      <td>Bought This for My Son at College</td>\n",
       "      <td>My son loves spaghetti so I didn't hesitate or...</td>\n",
       "    </tr>\n",
       "    <tr>\n",
       "      <th>1</th>\n",
       "      <td>44737</td>\n",
       "      <td>B001EQ55RW</td>\n",
       "      <td>A2V0I904FH7ABY</td>\n",
       "      <td>Ram</td>\n",
       "      <td>3</td>\n",
       "      <td>2</td>\n",
       "      <td>4</td>\n",
       "      <td>1212883200</td>\n",
       "      <td>Pure cocoa taste with crunchy almonds inside</td>\n",
       "      <td>It was almost a 'love at first bite' - the per...</td>\n",
       "    </tr>\n",
       "  </tbody>\n",
       "</table>\n",
       "</div>"
      ],
      "text/plain": [
       "      Id   ProductId          UserId              ProfileName  \\\n",
       "0  64422  B000MIDROQ  A161DK06JJMCYF  J. E. Stephens \"Jeanne\"   \n",
       "1  44737  B001EQ55RW  A2V0I904FH7ABY                      Ram   \n",
       "\n",
       "   HelpfulnessNumerator  HelpfulnessDenominator  Score        Time  \\\n",
       "0                     3                       1      5  1224892800   \n",
       "1                     3                       2      4  1212883200   \n",
       "\n",
       "                                        Summary  \\\n",
       "0             Bought This for My Son at College   \n",
       "1  Pure cocoa taste with crunchy almonds inside   \n",
       "\n",
       "                                                Text  \n",
       "0  My son loves spaghetti so I didn't hesitate or...  \n",
       "1  It was almost a 'love at first bite' - the per...  "
      ]
     },
     "execution_count": 7,
     "metadata": {},
     "output_type": "execute_result"
    }
   ],
   "source": [
    "display= pd.read_sql_query(\"\"\"\n",
    "SELECT *\n",
    "FROM Reviews\n",
    "WHERE Score != 3 AND Id=44737 OR Id=64422\n",
    "ORDER BY ProductID\n",
    "\"\"\", con)\n",
    "\n",
    "display.head()"
   ]
  },
  {
   "cell_type": "code",
   "execution_count": 8,
   "metadata": {
    "collapsed": true
   },
   "outputs": [],
   "source": [
    "final=final[final.HelpfulnessNumerator<=final.HelpfulnessDenominator]"
   ]
  },
  {
   "cell_type": "code",
   "execution_count": 9,
   "metadata": {},
   "outputs": [
    {
     "name": "stdout",
     "output_type": "stream",
     "text": [
      "(364171, 10)\n"
     ]
    },
    {
     "data": {
      "text/plain": [
       "positive    307061\n",
       "negative     57110\n",
       "Name: Score, dtype: int64"
      ]
     },
     "execution_count": 9,
     "metadata": {},
     "output_type": "execute_result"
    }
   ],
   "source": [
    "#Before starting the next phase of preprocessing lets see the number of entries left\n",
    "print(final.shape)\n",
    "\n",
    "#How many positive and negative reviews are present in our dataset?\n",
    "final['Score'].value_counts()"
   ]
  },
  {
   "cell_type": "markdown",
   "metadata": {},
   "source": [
    "## 7.2.3  Text Preprocessing: Stemming, stop-word removal and Lemmatization.\n",
    "\n",
    "Now that we have finished deduplication our data requires some preprocessing before we go on further with analysis and making the prediction model.\n",
    "\n",
    "Hence in the Preprocessing phase we do the following in the order below:-\n",
    "\n",
    "1. Begin by removing the html tags\n",
    "2. Remove any punctuations or limited set of special characters like , or . or # etc.\n",
    "3. Check if the word is made up of english letters and is not alpha-numeric\n",
    "4. Check to see if the length of the word is greater than 2 (as it was researched that there is no adjective in 2-letters)\n",
    "5. Convert the word to lowercase\n",
    "6. Remove Stopwords\n",
    "7. Finally Snowball Stemming the word (it was obsereved to be better than Porter Stemming)<br>\n",
    "\n",
    "After which we collect the words used to describe positive and negative reviews"
   ]
  },
  {
   "cell_type": "code",
   "execution_count": 10,
   "metadata": {},
   "outputs": [
    {
     "name": "stdout",
     "output_type": "stream",
     "text": [
      "6\n",
      "I set aside at least an hour each day to read to my son (3 y/o). At this point, I consider myself a connoisseur of children's books and this is one of the best. Santa Clause put this under the tree. Since then, we've read it perpetually and he loves it.<br /><br />First, this book taught him the months of the year.<br /><br />Second, it's a pleasure to read. Well suited to 1.5 y/o old to 4+.<br /><br />Very few children's books are worth owning. Most should be borrowed from the library. This book, however, deserves a permanent spot on your shelf. Sendak's best.\n"
     ]
    }
   ],
   "source": [
    "# find sentences containing HTML tags\n",
    "import re\n",
    "i=0;\n",
    "for sent in final['Text'].values:\n",
    "    if (len(re.findall('<.*?>', sent))):\n",
    "        print(i)\n",
    "        print(sent)\n",
    "        break;\n",
    "    i += 1;"
   ]
  },
  {
   "cell_type": "code",
   "execution_count": 11,
   "metadata": {},
   "outputs": [
    {
     "name": "stdout",
     "output_type": "stream",
     "text": [
      "{'only', 'by', 'under', 'while', \"couldn't\", 'me', 'herself', 'yourselves', 'a', 'until', 'both', 'does', 'on', 'she', 'myself', 'having', 'most', \"mustn't\", 'hasn', 'was', 'as', \"aren't\", 'should', \"you'd\", 'these', 'so', 'between', 'no', 'it', 'how', 'have', 'did', 'can', 'my', 'your', 'we', \"you'll\", 'him', 'too', 'its', \"didn't\", 'very', 'more', 'you', 'm', 'hers', 'why', 'again', 'for', 'in', 'there', 'y', 'the', \"hadn't\", 'at', 'didn', \"shan't\", 'our', \"wouldn't\", 'what', 'when', 'doesn', 'yourself', 'but', 'of', 'during', 'all', 'hadn', 'theirs', 'don', 'himself', 'those', 'further', 'ourselves', \"you've\", \"she's\", 'before', 'same', 'ma', 'will', 're', 've', 'his', 'shan', 'themselves', 't', 'needn', 'yours', 'doing', 'are', 'being', 'each', 'd', 'them', 'above', 'and', 'wasn', 'here', 'any', 'into', \"won't\", \"wasn't\", 'mustn', 'up', \"shouldn't\", 'from', 'had', 'which', 'do', 'about', 'mightn', \"isn't\", 'shouldn', 'just', 'isn', 'out', 'or', 'been', 'couldn', 'were', 'this', 'through', 'aren', 'be', 'not', 'o', 'once', \"doesn't\", 'haven', 'i', 'nor', 'than', 'down', 'weren', 'they', 'with', 'some', 'own', 'their', 'am', 'to', 'whom', \"hasn't\", 'ain', 'below', 'off', 'that', \"weren't\", \"mightn't\", 'wouldn', 'ours', \"that'll\", 'after', 'over', \"needn't\", 's', \"don't\", 'll', 'where', \"should've\", \"haven't\", 'he', 'against', 'because', 'other', \"it's\", 'who', 'won', 'now', 'has', 'itself', 'such', 'if', 'an', 'then', 'few', 'her', 'is', \"you're\"}\n",
      "************************************\n",
      "tasti\n"
     ]
    }
   ],
   "source": [
    "\n",
    "stop = set(stopwords.words('english')) #set of stopwords\n",
    "sno = nltk.stem.SnowballStemmer('english') #initialising the snowball stemmer\n",
    "\n",
    "def cleanhtml(sentence): #function to clean the word of any html-tags\n",
    "    cleanr = re.compile('<.*?>')\n",
    "    cleantext = re.sub(cleanr, ' ', sentence)\n",
    "    return cleantext\n",
    "def cleanpunc(sentence): #function to clean the word of any punctuation or special characters\n",
    "    cleaned = re.sub(r'[?|!|\\'|\"|#]',r'',sentence)\n",
    "    cleaned = re.sub(r'[.|,|)|(|\\|/]',r' ',cleaned)\n",
    "    return  cleaned\n",
    "print(stop)\n",
    "print('************************************')\n",
    "print(sno.stem('tasty'))"
   ]
  },
  {
   "cell_type": "code",
   "execution_count": 12,
   "metadata": {},
   "outputs": [
    {
     "name": "stderr",
     "output_type": "stream",
     "text": [
      "100%|████████████████████████████████████| 364171/364171 [11:04<00:00, 548.13it/s]\n"
     ]
    }
   ],
   "source": [
    "#Code for implementing step-by-step the checks mentioned in the pre-processing phase\n",
    "# this code takes a while to run as it needs to run on 500k sentences.\n",
    "#if not os.path.isfile('final.sqlite'):\n",
    "i=0\n",
    "str1=' '\n",
    "final_string=[]\n",
    "all_positive_words=[] # store words from +ve reviews here\n",
    "all_negative_words=[] # store words from -ve reviews here.\n",
    "s=''\n",
    "for sent in tqdm(final['Text'].values):\n",
    "    filtered_sentence=[]\n",
    "    #print(sent);\n",
    "    sent=cleanhtml(sent) # remove HTMl tags\n",
    "    for w in sent.split():\n",
    "        for cleaned_words in cleanpunc(w).split():\n",
    "            if((cleaned_words.isalpha()) & (len(cleaned_words)>2)):    \n",
    "                if(cleaned_words.lower() not in stop):\n",
    "                    s=(sno.stem(cleaned_words.lower())).encode('utf8')\n",
    "                    filtered_sentence.append(s)\n",
    "                    if (final['Score'].values)[i] == 'positive': \n",
    "                        all_positive_words.append(s) #list of all words used to describe positive reviews\n",
    "                    if(final['Score'].values)[i] == 'negative':\n",
    "                        all_negative_words.append(s) #list of all words used to describe negative reviews reviews\n",
    "                else:\n",
    "                    continue\n",
    "            else:\n",
    "                continue \n",
    "    #print(filtered_sentence)\n",
    "    str1 = b\" \".join(filtered_sentence) #final string of cleaned words\n",
    "    #print(\"***********************************************************************\")\n",
    "\n",
    "    final_string.append(str1)\n",
    "    i+=1\n",
    "\n",
    "#############---- storing the data into .sqlite file ------########################\n",
    "#final['CleanedText']=final_string #adding a column of CleanedText which displays the data after pre-processing of the review \n",
    "#final['CleanedText']=final['CleanedText'].str.decode(\"utf-8\")\n",
    "    # store final table into an SQlLite table for future.\n",
    "#conn = sqlite3.connect('final.sqlite')\n",
    "#c=conn.cursor()\n",
    "#conn.text_factory = str\n",
    "#final.to_sql('Reviews', conn,  schema=None, if_exists='replace', \\\n",
    "           #  index=True, index_label=None, chunksize=None, dtype=None)\n",
    "#conn.close()\n",
    "\n",
    "\n",
    "#with open('positive_words.pkl', 'wb') as f:\n",
    "  #  pickle.dump(all_positive_words, f)\n",
    "#with open('negitive_words.pkl', 'wb') as f:\n",
    "  #  pickle.dump(all_negative_words, f)"
   ]
  },
  {
   "cell_type": "code",
   "execution_count": 13,
   "metadata": {
    "collapsed": true
   },
   "outputs": [],
   "source": [
    "final['CleanedText']=final_string #adding a column of CleanedText which displays the data after pre-processing of the review \n",
    "final['CleanedText']=final['CleanedText'].str.decode(\"utf-8\")"
   ]
  },
  {
   "cell_type": "code",
   "execution_count": 14,
   "metadata": {
    "collapsed": true
   },
   "outputs": [],
   "source": [
    "# Getting Equal Positive and Negative Reviews\n",
    "final_positive=final[final['Score']=='positive'][0:50000]\n",
    "final_negative=final[final['Score']=='negative'][0:50000]"
   ]
  },
  {
   "cell_type": "code",
   "execution_count": 15,
   "metadata": {},
   "outputs": [
    {
     "data": {
      "text/plain": [
       "(100000, 11)"
      ]
     },
     "execution_count": 15,
     "metadata": {},
     "output_type": "execute_result"
    }
   ],
   "source": [
    "# Joining the Reviews\n",
    "final_np=pd.concat([final_positive,final_negative])\n",
    "final_np.shape"
   ]
  },
  {
   "cell_type": "code",
   "execution_count": 16,
   "metadata": {
    "collapsed": true
   },
   "outputs": [],
   "source": [
    "final_np=final.head(100000)"
   ]
  },
  {
   "cell_type": "code",
   "execution_count": 17,
   "metadata": {},
   "outputs": [
    {
     "data": {
      "text/plain": [
       "positive    85197\n",
       "negative    14803\n",
       "Name: Score, dtype: int64"
      ]
     },
     "execution_count": 17,
     "metadata": {},
     "output_type": "execute_result"
    }
   ],
   "source": [
    "final_np['Score'].value_counts()"
   ]
  },
  {
   "cell_type": "code",
   "execution_count": 18,
   "metadata": {
    "collapsed": true
   },
   "outputs": [],
   "source": [
    "# Sorting data based on time\n",
    "final_np[\"Time\"] = pd.to_datetime(final_np[\"Time\"], unit = \"s\")\n",
    "final_np = final_np.sort_values(by = \"Time\")"
   ]
  },
  {
   "cell_type": "code",
   "execution_count": 19,
   "metadata": {},
   "outputs": [
    {
     "data": {
      "text/html": [
       "<div>\n",
       "<style scoped>\n",
       "    .dataframe tbody tr th:only-of-type {\n",
       "        vertical-align: middle;\n",
       "    }\n",
       "\n",
       "    .dataframe tbody tr th {\n",
       "        vertical-align: top;\n",
       "    }\n",
       "\n",
       "    .dataframe thead th {\n",
       "        text-align: right;\n",
       "    }\n",
       "</style>\n",
       "<table border=\"1\" class=\"dataframe\">\n",
       "  <thead>\n",
       "    <tr style=\"text-align: right;\">\n",
       "      <th></th>\n",
       "      <th>Id</th>\n",
       "      <th>ProductId</th>\n",
       "      <th>UserId</th>\n",
       "      <th>ProfileName</th>\n",
       "      <th>HelpfulnessNumerator</th>\n",
       "      <th>HelpfulnessDenominator</th>\n",
       "      <th>Score</th>\n",
       "      <th>Time</th>\n",
       "      <th>Summary</th>\n",
       "      <th>Text</th>\n",
       "      <th>CleanedText</th>\n",
       "    </tr>\n",
       "  </thead>\n",
       "  <tbody>\n",
       "    <tr>\n",
       "      <th>138706</th>\n",
       "      <td>150524</td>\n",
       "      <td>0006641040</td>\n",
       "      <td>ACITT7DI6IDDL</td>\n",
       "      <td>shari zychinski</td>\n",
       "      <td>0</td>\n",
       "      <td>0</td>\n",
       "      <td>positive</td>\n",
       "      <td>1999-10-08</td>\n",
       "      <td>EVERY book is educational</td>\n",
       "      <td>this witty little book makes my son laugh at l...</td>\n",
       "      <td>witti littl book make son laugh loud recit car...</td>\n",
       "    </tr>\n",
       "    <tr>\n",
       "      <th>138683</th>\n",
       "      <td>150501</td>\n",
       "      <td>0006641040</td>\n",
       "      <td>AJ46FKXOVC7NR</td>\n",
       "      <td>Nicholas A Mesiano</td>\n",
       "      <td>2</td>\n",
       "      <td>2</td>\n",
       "      <td>positive</td>\n",
       "      <td>1999-10-25</td>\n",
       "      <td>This whole series is great way to spend time w...</td>\n",
       "      <td>I can remember seeing the show when it aired o...</td>\n",
       "      <td>rememb see show air televis year ago child sis...</td>\n",
       "    </tr>\n",
       "    <tr>\n",
       "      <th>417839</th>\n",
       "      <td>451856</td>\n",
       "      <td>B00004CXX9</td>\n",
       "      <td>AIUWLEQ1ADEG5</td>\n",
       "      <td>Elizabeth Medina</td>\n",
       "      <td>0</td>\n",
       "      <td>0</td>\n",
       "      <td>positive</td>\n",
       "      <td>1999-12-02</td>\n",
       "      <td>Entertainingl Funny!</td>\n",
       "      <td>Beetlejuice is a well written movie ..... ever...</td>\n",
       "      <td>beetlejuic well written movi everyth excel act...</td>\n",
       "    </tr>\n",
       "    <tr>\n",
       "      <th>346055</th>\n",
       "      <td>374359</td>\n",
       "      <td>B00004CI84</td>\n",
       "      <td>A344SMIA5JECGM</td>\n",
       "      <td>Vincent P. Ross</td>\n",
       "      <td>1</td>\n",
       "      <td>2</td>\n",
       "      <td>positive</td>\n",
       "      <td>1999-12-06</td>\n",
       "      <td>A modern day fairy tale</td>\n",
       "      <td>A twist of rumplestiskin captured on film, sta...</td>\n",
       "      <td>twist rumplestiskin captur film star michael k...</td>\n",
       "    </tr>\n",
       "    <tr>\n",
       "      <th>417838</th>\n",
       "      <td>451855</td>\n",
       "      <td>B00004CXX9</td>\n",
       "      <td>AJH6LUC1UT1ON</td>\n",
       "      <td>The Phantom of the Opera</td>\n",
       "      <td>0</td>\n",
       "      <td>0</td>\n",
       "      <td>positive</td>\n",
       "      <td>2000-01-03</td>\n",
       "      <td>FANTASTIC!</td>\n",
       "      <td>Beetlejuice is an excellent and funny movie. K...</td>\n",
       "      <td>beetlejuic excel funni movi keaton hilari wack...</td>\n",
       "    </tr>\n",
       "  </tbody>\n",
       "</table>\n",
       "</div>"
      ],
      "text/plain": [
       "            Id   ProductId          UserId               ProfileName  \\\n",
       "138706  150524  0006641040   ACITT7DI6IDDL           shari zychinski   \n",
       "138683  150501  0006641040   AJ46FKXOVC7NR        Nicholas A Mesiano   \n",
       "417839  451856  B00004CXX9   AIUWLEQ1ADEG5          Elizabeth Medina   \n",
       "346055  374359  B00004CI84  A344SMIA5JECGM           Vincent P. Ross   \n",
       "417838  451855  B00004CXX9   AJH6LUC1UT1ON  The Phantom of the Opera   \n",
       "\n",
       "        HelpfulnessNumerator  HelpfulnessDenominator     Score       Time  \\\n",
       "138706                     0                       0  positive 1999-10-08   \n",
       "138683                     2                       2  positive 1999-10-25   \n",
       "417839                     0                       0  positive 1999-12-02   \n",
       "346055                     1                       2  positive 1999-12-06   \n",
       "417838                     0                       0  positive 2000-01-03   \n",
       "\n",
       "                                                  Summary  \\\n",
       "138706                          EVERY book is educational   \n",
       "138683  This whole series is great way to spend time w...   \n",
       "417839                               Entertainingl Funny!   \n",
       "346055                            A modern day fairy tale   \n",
       "417838                                         FANTASTIC!   \n",
       "\n",
       "                                                     Text  \\\n",
       "138706  this witty little book makes my son laugh at l...   \n",
       "138683  I can remember seeing the show when it aired o...   \n",
       "417839  Beetlejuice is a well written movie ..... ever...   \n",
       "346055  A twist of rumplestiskin captured on film, sta...   \n",
       "417838  Beetlejuice is an excellent and funny movie. K...   \n",
       "\n",
       "                                              CleanedText  \n",
       "138706  witti littl book make son laugh loud recit car...  \n",
       "138683  rememb see show air televis year ago child sis...  \n",
       "417839  beetlejuic well written movi everyth excel act...  \n",
       "346055  twist rumplestiskin captur film star michael k...  \n",
       "417838  beetlejuic excel funni movi keaton hilari wack...  "
      ]
     },
     "execution_count": 19,
     "metadata": {},
     "output_type": "execute_result"
    }
   ],
   "source": [
    "final_np.head()"
   ]
  },
  {
   "cell_type": "markdown",
   "metadata": {},
   "source": [
    "# Optimal Parameters from GridSearchCV and RandomizedSearchCV"
   ]
  },
  {
   "cell_type": "code",
   "execution_count": 20,
   "metadata": {
    "collapsed": true
   },
   "outputs": [],
   "source": [
    "from sklearn.model_selection import GridSearchCV\n",
    "from sklearn.model_selection import  RandomizedSearchCV\n",
    "from sklearn.linear_model import SGDClassifier\n",
    "from sklearn.calibration import CalibratedClassifierCV\n",
    "from sklearn.model_selection import TimeSeriesSplit\n",
    "tscv = TimeSeriesSplit(n_splits=10)\n",
    "\n",
    "def svm_grid(X_train,y_train):\n",
    "    clf = SGDClassifier(loss='hinge', class_weight='balanced')\n",
    "    #params we need to try on classifier\n",
    "    param_dist = {'alpha':[10,5,1,0.5,0.1,0.05,0.01,0.005,0.001]} \n",
    "    gscv = GridSearchCV(clf,param_dist,cv=tscv,verbose=1,scoring='f1_micro',n_jobs=-1)\n",
    "    gscv_fit=gscv.fit(X_train,y_train)\n",
    "    # Plotting HyperParameter Graph\n",
    "    m_t_s=[i for i in gscv.cv_results_['mean_test_score']]\n",
    "    al=[i for i in gscv.cv_results_['param_alpha']]\n",
    "    plt.xlabel(\"alpha\")\n",
    "    plt.ylabel(\"Accuracy Score\")\n",
    "    plt.title('Accuracy v/s alpha')\n",
    "    plt.plot(al,m_t_s,'b')\n",
    "    plt.show()\n",
    "    print(pd.DataFrame(gscv_fit.cv_results_).sort_values('mean_test_score', ascending=False).head())\n",
    "    print('Best alpha(1/C):', gscv_fit.best_estimator_.get_params()['alpha'])\n",
    "    print(\"Best Accuracy: %.2f%%\"%(gscv.best_score_*100))\n",
    "    "
   ]
  },
  {
   "cell_type": "code",
   "execution_count": 21,
   "metadata": {
    "collapsed": true
   },
   "outputs": [],
   "source": [
    "def confusion_matrix_np(cm):\n",
    "    class_label = [\"negative\", \"positive\"]\n",
    "    df_cm = pd.DataFrame(cm, index=class_label,columns=class_label)\n",
    "    sns.heatmap(df_cm, annot=True, fmt='d')\n",
    "    plt.title(\"Confusion Matrix\")\n",
    "    plt.xlabel(\"Predicted Label\")\n",
    "    plt.ylabel(\"True Label\")\n",
    "    plt.show()"
   ]
  },
  {
   "cell_type": "code",
   "execution_count": 22,
   "metadata": {
    "collapsed": true
   },
   "outputs": [],
   "source": [
    "def show_most_informative_features(vectorizer, clf, n=25):\n",
    "    feature_names = vectorizer.get_feature_names()\n",
    "    coefs_with_fns = sorted(zip(clf.coef_[0], feature_names))\n",
    "    top = zip(coefs_with_fns[:n], coefs_with_fns[:-(n + 1):-1])\n",
    "    print(\"\\t\\t\\tNegative\\t\\t\\t\\t\\t\\tPositive\")\n",
    "    print(\"________________________________________________________________________________________________\")\n",
    "    for (coef_1, fn_1), (coef_2, fn_2) in top:\n",
    "        print(\"\\t%.4f\\t%-15s\\t\\t\\t\\t%.4f\\t%-15s\" % (coef_1, fn_1, coef_2, fn_2))\n",
    "        \n",
    "#Code Reference:https://stackoverflow.com/questions/11116697/how-to-get-most-informative-features-for-scikit-learn-classifiers"
   ]
  },
  {
   "cell_type": "markdown",
   "metadata": {},
   "source": [
    "# [7.2.2] Bag of Words (BoW)"
   ]
  },
  {
   "cell_type": "code",
   "execution_count": 23,
   "metadata": {},
   "outputs": [
    {
     "name": "stdout",
     "output_type": "stream",
     "text": [
      "shape of X: (100000,)\n"
     ]
    }
   ],
   "source": [
    "# Train Label\n",
    "X = final_np[\"CleanedText\"]\n",
    "print(\"shape of X:\", X.shape)"
   ]
  },
  {
   "cell_type": "code",
   "execution_count": 24,
   "metadata": {},
   "outputs": [
    {
     "name": "stdout",
     "output_type": "stream",
     "text": [
      "shape of y: (100000,)\n"
     ]
    }
   ],
   "source": [
    "# Class label\n",
    "y = final_np[\"Score\"]\n",
    "print(\"shape of y:\", y.shape)"
   ]
  },
  {
   "cell_type": "code",
   "execution_count": 25,
   "metadata": {},
   "outputs": [
    {
     "name": "stdout",
     "output_type": "stream",
     "text": [
      "(70000,) (70000,) (30000,)\n"
     ]
    }
   ],
   "source": [
    "from sklearn.model_selection import train_test_split\n",
    "X_train, X_test, y_train, y_test = train_test_split(X, y, test_size = 0.3, random_state = 42)\n",
    "print(X_train.shape, y_train.shape, X_test.shape)"
   ]
  },
  {
   "cell_type": "code",
   "execution_count": 26,
   "metadata": {
    "collapsed": true
   },
   "outputs": [],
   "source": [
    "#BoW\n",
    "from sklearn.feature_extraction.text import CountVectorizer\n",
    "count_vect = CountVectorizer()\n",
    "X_train=count_vect.fit_transform(X_train)"
   ]
  },
  {
   "cell_type": "code",
   "execution_count": 27,
   "metadata": {
    "collapsed": true
   },
   "outputs": [],
   "source": [
    "X_test=count_vect.transform(X_test)"
   ]
  },
  {
   "cell_type": "markdown",
   "metadata": {},
   "source": [
    "# GridSearchCV"
   ]
  },
  {
   "cell_type": "code",
   "execution_count": 28,
   "metadata": {},
   "outputs": [
    {
     "name": "stdout",
     "output_type": "stream",
     "text": [
      "Fitting 10 folds for each of 9 candidates, totalling 90 fits\n"
     ]
    },
    {
     "name": "stderr",
     "output_type": "stream",
     "text": [
      "[Parallel(n_jobs=-1)]: Done  42 tasks      | elapsed:   33.2s\n",
      "[Parallel(n_jobs=-1)]: Done  90 out of  90 | elapsed:   43.6s finished\n"
     ]
    },
    {
     "data": {
      "image/png": "[encoded data removed]",
      "text/plain": [
       "<matplotlib.figure.Figure at 0x2075a8b0470>"
      ]
     },
     "metadata": {},
     "output_type": "display_data"
    },
    {
     "name": "stdout",
     "output_type": "stream",
     "text": [
      "   mean_fit_time  std_fit_time  mean_score_time  std_score_time param_alpha  \\\n",
      "8       0.320816      0.113066         0.061765        0.010022       0.001   \n",
      "7       0.302726      0.126555         0.059666        0.009073       0.005   \n",
      "6       0.400870      0.241470         0.065663        0.016003        0.01   \n",
      "5       0.368388      0.193100         0.064063        0.012374        0.05   \n",
      "4       0.317618      0.143003         0.055968        0.010152         0.1   \n",
      "\n",
      "             params  split0_test_score  split1_test_score  split2_test_score  \\\n",
      "8  {'alpha': 0.001}           0.891403           0.899261           0.907119   \n",
      "7  {'alpha': 0.005}           0.894075           0.899261           0.901933   \n",
      "6   {'alpha': 0.01}           0.891875           0.894389           0.900204   \n",
      "5   {'alpha': 0.05}           0.862643           0.861386           0.860758   \n",
      "4    {'alpha': 0.1}           0.851485           0.847556           0.848656   \n",
      "\n",
      "   split3_test_score       ...         split2_train_score  split3_train_score  \\\n",
      "8           0.913563       ...                   0.944020            0.938175   \n",
      "7           0.903033       ...                   0.917155            0.913154   \n",
      "6           0.898318       ...                   0.909457            0.903256   \n",
      "5           0.867830       ...                   0.864370            0.861149   \n",
      "4           0.858714       ...                   0.850806            0.849405   \n",
      "\n",
      "   split4_train_score  split5_train_score  split6_train_score  \\\n",
      "8            0.928980            0.930706            0.928078   \n",
      "7            0.915593            0.911195            0.911040   \n",
      "6            0.903086            0.896425            0.898738   \n",
      "5            0.862611            0.861804            0.862441   \n",
      "4            0.851015            0.849679            0.851104   \n",
      "\n",
      "   split7_train_score  split8_train_score  split9_train_score  \\\n",
      "8            0.926755            0.922792            0.923346   \n",
      "7            0.908703            0.907410            0.906124   \n",
      "6            0.898450            0.896794            0.896491   \n",
      "5            0.859834            0.864389            0.861134   \n",
      "4            0.851466            0.852725            0.852853   \n",
      "\n",
      "   mean_train_score  std_train_score  \n",
      "8          0.936104         0.013360  \n",
      "7          0.916365         0.011219  \n",
      "6          0.905367         0.011142  \n",
      "5          0.864067         0.004389  \n",
      "4          0.851776         0.002073  \n",
      "\n",
      "[5 rows x 31 columns]\n",
      "Best alpha(1/C): 0.001\n",
      "Best Accuracy: 90.82%\n"
     ]
    }
   ],
   "source": [
    "#SVMGrid\n",
    "svm_bow= svm_grid(X_train, y_train)\n",
    "svm_bow"
   ]
  },
  {
   "cell_type": "code",
   "execution_count": 29,
   "metadata": {
    "collapsed": true
   },
   "outputs": [],
   "source": [
    "svm = SGDClassifier(loss='hinge',alpha=0.001,,class_weight='balanced')\n",
    "svm.fit(X_train,y_train)\n",
    "y_pred = svm.predict(X_test)"
   ]
  },
  {
   "cell_type": "code",
   "execution_count": 30,
   "metadata": {},
   "outputs": [
    {
     "name": "stdout",
     "output_type": "stream",
     "text": [
      "Train Accuracy 92.57714285714286\n"
     ]
    }
   ],
   "source": [
    "# Accuracy on train data\n",
    "train_acc_bow = svm.score(X_train, y_train)\n",
    "print(\"Train Accuracy\", train_acc_bow*100)\n"
   ]
  },
  {
   "cell_type": "code",
   "execution_count": 31,
   "metadata": {},
   "outputs": [
    {
     "name": "stdout",
     "output_type": "stream",
     "text": [
      "Test Accuracy  91.59\n"
     ]
    }
   ],
   "source": [
    "# Accuracy on test data\n",
    "test_acc_bow = accuracy_score(y_test,y_pred) * 100\n",
    "print(\"Test Accuracy \",test_acc_bow)"
   ]
  },
  {
   "cell_type": "code",
   "execution_count": 32,
   "metadata": {},
   "outputs": [
    {
     "data": {
      "text/plain": [
       "array([[ 2372,  2015],\n",
       "       [  508, 25105]], dtype=int64)"
      ]
     },
     "execution_count": 32,
     "metadata": {},
     "output_type": "execute_result"
    }
   ],
   "source": [
    "# Confusion Matrix\n",
    "cm = confusion_matrix(y_test, y_pred)\n",
    "cm\n"
   ]
  },
  {
   "cell_type": "code",
   "execution_count": 33,
   "metadata": {
    "scrolled": true
   },
   "outputs": [
    {
     "name": "stdout",
     "output_type": "stream",
     "text": [
      "             precision    recall  f1-score   support\n",
      "\n",
      "   negative       0.82      0.54      0.65      4387\n",
      "   positive       0.93      0.98      0.95     25613\n",
      "\n",
      "avg / total       0.91      0.92      0.91     30000\n",
      "\n"
     ]
    }
   ],
   "source": [
    "# Classification report\n",
    "print(classification_report(y_test, y_pred))"
   ]
  },
  {
   "cell_type": "code",
   "execution_count": 34,
   "metadata": {},
   "outputs": [
    {
     "data": {
      "image/png": "[encoded data removed]",
      "text/plain": [
       "<matplotlib.figure.Figure at 0x2072e392160>"
      ]
     },
     "metadata": {},
     "output_type": "display_data"
    }
   ],
   "source": [
    "confusion_matrix_np(cm)"
   ]
  },
  {
   "cell_type": "code",
   "execution_count": 35,
   "metadata": {},
   "outputs": [
    {
     "name": "stdout",
     "output_type": "stream",
     "text": [
      "\t\t\tNegative\t\t\t\t\t\tPositive\n",
      "________________________________________________________________________________________________\n",
      "\t-0.9795\tworst          \t\t\t\t0.5597\tdelici         \n",
      "\t-0.8481\tdisappoint     \t\t\t\t0.5540\tamaz           \n",
      "\t-0.8396\tterribl        \t\t\t\t0.5340\tgreat          \n",
      "\t-0.7710\taw             \t\t\t\t0.5312\texcel          \n",
      "\t-0.7653\treturn         \t\t\t\t0.4940\tbest           \n",
      "\t-0.7482\thorribl        \t\t\t\t0.4855\tawesom         \n",
      "\t-0.6939\tthrew          \t\t\t\t0.4683\tperfect        \n",
      "\t-0.6340\twors           \t\t\t\t0.4455\taddict         \n",
      "\t-0.6340\tstale          \t\t\t\t0.4169\tsatisfi        \n",
      "\t-0.6111\trefund         \t\t\t\t0.4141\tnice           \n",
      "\t-0.6026\tbland          \t\t\t\t0.3998\thappi          \n",
      "\t-0.5997\ttasteless      \t\t\t\t0.3969\tyummi          \n",
      "\t-0.5911\tunfortun       \t\t\t\t0.3827\tbeat           \n",
      "\t-0.5740\tmoney          \t\t\t\t0.3827\tsmooth         \n",
      "\t-0.5683\tdisgust        \t\t\t\t0.3770\tlove           \n",
      "\t-0.5569\tpoor           \t\t\t\t0.3513\tfantast        \n",
      "\t-0.5340\tsorri          \t\t\t\t0.3484\tglad           \n",
      "\t-0.5254\tgross          \t\t\t\t0.3341\teasi           \n",
      "\t-0.5112\tmislead        \t\t\t\t0.3198\tuniqu          \n",
      "\t-0.5055\twast           \t\t\t\t0.3170\tfavorit        \n",
      "\t-0.4683\tunpleas        \t\t\t\t0.3141\thook           \n",
      "\t-0.4626\tyuck           \t\t\t\t0.3084\tdelight        \n",
      "\t-0.4569\tcancel         \t\t\t\t0.3056\ttasti          \n",
      "\t-0.4426\tweak           \t\t\t\t0.2998\tworri          \n",
      "\t-0.4369\tbare           \t\t\t\t0.2913\twonder         \n"
     ]
    }
   ],
   "source": [
    "show_most_informative_features(count_vect,svm)"
   ]
  },
  {
   "cell_type": "markdown",
   "metadata": {},
   "source": [
    "## [7.2.4] Bi-Grams and n-Grams.\n",
    "\n",
    "**Motivation**\n",
    "\n",
    "Now that we have our list of words describing positive and negative reviews lets analyse them.<br>\n",
    "\n",
    "We begin analysis by getting the frequency distribution of the words as shown below"
   ]
  },
  {
   "cell_type": "code",
   "execution_count": 36,
   "metadata": {},
   "outputs": [
    {
     "name": "stdout",
     "output_type": "stream",
     "text": [
      "Most Common Positive Words :  [(b'like', 139429), (b'tast', 129047), (b'good', 112766), (b'flavor', 109624), (b'love', 107357), (b'use', 103888), (b'great', 103870), (b'one', 96726), (b'product', 91033), (b'tri', 86791), (b'tea', 83888), (b'coffe', 78814), (b'make', 75107), (b'get', 72125), (b'food', 64802), (b'would', 55568), (b'time', 55264), (b'buy', 54198), (b'realli', 52715), (b'eat', 52004)]\n",
      "Most Common Negative Words :  [(b'tast', 34585), (b'like', 32330), (b'product', 28218), (b'one', 20569), (b'flavor', 19575), (b'would', 17972), (b'tri', 17753), (b'use', 15302), (b'good', 15041), (b'coffe', 14716), (b'get', 13786), (b'buy', 13752), (b'order', 12871), (b'food', 12754), (b'dont', 11877), (b'tea', 11665), (b'even', 11085), (b'box', 10844), (b'amazon', 10073), (b'make', 9840)]\n"
     ]
    }
   ],
   "source": [
    "freq_dist_positive=nltk.FreqDist(all_positive_words)\n",
    "freq_dist_negative=nltk.FreqDist(all_negative_words)\n",
    "print(\"Most Common Positive Words : \",freq_dist_positive.most_common(20))\n",
    "print(\"Most Common Negative Words : \",freq_dist_negative.most_common(20))"
   ]
  },
  {
   "cell_type": "markdown",
   "metadata": {},
   "source": [
    "<b>Observation:-</b> From the above it can be seen that the most common positive and the negative words overlap for eg. 'like' could be used as 'not like' etc. <br>\n",
    "So, it is a good idea to consider pairs of consequent words (bi-grams) or q sequnce of n consecutive words (n-grams)"
   ]
  },
  {
   "cell_type": "code",
   "execution_count": 37,
   "metadata": {},
   "outputs": [
    {
     "name": "stdout",
     "output_type": "stream",
     "text": [
      "shape of X: (100000,)\n"
     ]
    }
   ],
   "source": [
    "# Train Label\n",
    "X = final_np[\"CleanedText\"]\n",
    "print(\"shape of X:\", X.shape)"
   ]
  },
  {
   "cell_type": "code",
   "execution_count": 38,
   "metadata": {},
   "outputs": [
    {
     "name": "stdout",
     "output_type": "stream",
     "text": [
      "shape of y: (100000,)\n"
     ]
    }
   ],
   "source": [
    "# Class label\n",
    "y = final_np[\"Score\"]\n",
    "print(\"shape of y:\", y.shape)"
   ]
  },
  {
   "cell_type": "code",
   "execution_count": 39,
   "metadata": {},
   "outputs": [
    {
     "name": "stdout",
     "output_type": "stream",
     "text": [
      "(70000,) (70000,) (30000,)\n"
     ]
    }
   ],
   "source": [
    "from sklearn.model_selection import train_test_split\n",
    "X_train, X_test, y_train, y_test = train_test_split(X, y, test_size = 0.3, random_state = 42)\n",
    "print(X_train.shape, y_train.shape, X_test.shape)"
   ]
  },
  {
   "cell_type": "code",
   "execution_count": 40,
   "metadata": {
    "collapsed": true
   },
   "outputs": [],
   "source": [
    "count_vect = CountVectorizer(ngram_range=(1,2)) #in scikit-learn\n",
    "X_train = count_vect.fit_transform(X_train)\n",
    "X_test=count_vect.transform(X_test)"
   ]
  },
  {
   "cell_type": "code",
   "execution_count": 41,
   "metadata": {},
   "outputs": [
    {
     "name": "stdout",
     "output_type": "stream",
     "text": [
      "Fitting 10 folds for each of 9 candidates, totalling 90 fits\n"
     ]
    },
    {
     "name": "stderr",
     "output_type": "stream",
     "text": [
      "[Parallel(n_jobs=-1)]: Done  42 tasks      | elapsed:   24.8s\n",
      "[Parallel(n_jobs=-1)]: Done  90 out of  90 | elapsed:   47.8s finished\n"
     ]
    },
    {
     "data": {
      "image/png": "[encoded data removed]",
      "text/plain": [
       "<matplotlib.figure.Figure at 0x20707a19b38>"
      ]
     },
     "metadata": {},
     "output_type": "display_data"
    },
    {
     "name": "stdout",
     "output_type": "stream",
     "text": [
      "   mean_fit_time  std_fit_time  mean_score_time  std_score_time param_alpha  \\\n",
      "8       1.162434      0.347244         0.084352        0.016796       0.001   \n",
      "7       1.251083      0.457504         0.084252        0.015885       0.005   \n",
      "6       1.241289      0.409740         0.076556        0.009195        0.01   \n",
      "5       1.293059      0.419141         0.076057        0.012260        0.05   \n",
      "4       1.341932      0.460071         0.078555        0.013682         0.1   \n",
      "\n",
      "             params  split0_test_score  split1_test_score  split2_test_score  \\\n",
      "8  {'alpha': 0.001}           0.899419           0.902876           0.906805   \n",
      "7  {'alpha': 0.005}           0.897690           0.899733           0.903505   \n",
      "6   {'alpha': 0.01}           0.896747           0.894704           0.901304   \n",
      "5   {'alpha': 0.05}           0.868144           0.863586           0.862015   \n",
      "4    {'alpha': 0.1}           0.852114           0.847556           0.848971   \n",
      "\n",
      "   split3_test_score       ...         split2_train_score  split3_train_score  \\\n",
      "8           0.915292       ...                   0.987275            0.979418   \n",
      "7           0.909791       ...                   0.946429            0.939471   \n",
      "6           0.900990       ...                   0.928571            0.919675   \n",
      "5           0.874587       ...                   0.868245            0.870419   \n",
      "4           0.858872       ...                   0.851330            0.851094   \n",
      "\n",
      "   split4_train_score  split5_train_score  split6_train_score  \\\n",
      "8            0.976997            0.972764            0.965206   \n",
      "7            0.935045            0.927354            0.931108   \n",
      "6            0.918578            0.915962            0.911444   \n",
      "5            0.867513            0.867723            0.867020   \n",
      "4            0.851769            0.850334            0.851755   \n",
      "\n",
      "   split7_train_score  split8_train_score  split9_train_score  \\\n",
      "8            0.967119            0.963037            0.961485   \n",
      "7            0.925281            0.923002            0.919905   \n",
      "6            0.907289            0.906851            0.907664   \n",
      "5            0.866021            0.865733            0.866068   \n",
      "4            0.852134            0.853406            0.853387   \n",
      "\n",
      "   mean_train_score  std_train_score  \n",
      "8          0.976584         0.012440  \n",
      "7          0.939969         0.020147  \n",
      "6          0.922676         0.018688  \n",
      "5          0.870665         0.008132  \n",
      "4          0.853012         0.002929  \n",
      "\n",
      "[5 rows x 31 columns]\n",
      "Best alpha(1/C): 0.001\n",
      "Best Accuracy: 91.43%\n"
     ]
    }
   ],
   "source": [
    "#SVMGrid\n",
    "svm_bow= svm_grid(X_train, y_train)\n",
    "svm_bow"
   ]
  },
  {
   "cell_type": "code",
   "execution_count": 42,
   "metadata": {
    "collapsed": true
   },
   "outputs": [],
   "source": [
    "svm = SGDClassifier(loss='hinge',alpha=0.001,class_weight='balanced')\n",
    "svm.fit(X_train,y_train)\n",
    "y_pred = svm.predict(X_test)\n"
   ]
  },
  {
   "cell_type": "code",
   "execution_count": 43,
   "metadata": {},
   "outputs": [
    {
     "name": "stdout",
     "output_type": "stream",
     "text": [
      "Train Accuracy 95.72428571428571\n"
     ]
    }
   ],
   "source": [
    "# Accuracy on train data\n",
    "train_acc_bow = svm.score(X_train, y_train)\n",
    "print(\"Train Accuracy\", train_acc_bow*100)"
   ]
  },
  {
   "cell_type": "code",
   "execution_count": 44,
   "metadata": {},
   "outputs": [
    {
     "name": "stdout",
     "output_type": "stream",
     "text": [
      "Test Accuracy  92.35666666666667\n"
     ]
    }
   ],
   "source": [
    "# Accuracy on test data\n",
    "test_acc_bow = accuracy_score(y_test,y_pred) * 100\n",
    "print(\"Test Accuracy \",test_acc_bow)"
   ]
  },
  {
   "cell_type": "code",
   "execution_count": 45,
   "metadata": {},
   "outputs": [
    {
     "data": {
      "text/plain": [
       "array([[ 2525,  1862],\n",
       "       [  431, 25182]], dtype=int64)"
      ]
     },
     "execution_count": 45,
     "metadata": {},
     "output_type": "execute_result"
    }
   ],
   "source": [
    "# Confusion Matrix\n",
    "cm = confusion_matrix(y_test, y_pred)\n",
    "cm"
   ]
  },
  {
   "cell_type": "code",
   "execution_count": 46,
   "metadata": {},
   "outputs": [
    {
     "name": "stdout",
     "output_type": "stream",
     "text": [
      "             precision    recall  f1-score   support\n",
      "\n",
      "   negative       0.85      0.58      0.69      4387\n",
      "   positive       0.93      0.98      0.96     25613\n",
      "\n",
      "avg / total       0.92      0.92      0.92     30000\n",
      "\n"
     ]
    }
   ],
   "source": [
    "# Classification report\n",
    "print(classification_report(y_test, y_pred))\n"
   ]
  },
  {
   "cell_type": "code",
   "execution_count": 47,
   "metadata": {},
   "outputs": [
    {
     "data": {
      "image/png": "[encoded data removed]",
      "text/plain": [
       "<matplotlib.figure.Figure at 0x20707a24eb8>"
      ]
     },
     "metadata": {},
     "output_type": "display_data"
    }
   ],
   "source": [
    "confusion_matrix_np(cm)"
   ]
  },
  {
   "cell_type": "code",
   "execution_count": 48,
   "metadata": {},
   "outputs": [
    {
     "name": "stdout",
     "output_type": "stream",
     "text": [
      "\t\t\tNegative\t\t\t\t\t\tPositive\n",
      "________________________________________________________________________________________________\n",
      "\t-0.8253\tworst          \t\t\t\t0.5254\tdelici         \n",
      "\t-0.7882\tdisappoint     \t\t\t\t0.5055\thigh recommend \n",
      "\t-0.6797\tterribl        \t\t\t\t0.4997\twont disappoint\n",
      "\t-0.6568\thorribl        \t\t\t\t0.4598\texcel          \n",
      "\t-0.6111\treturn         \t\t\t\t0.4512\tamaz           \n",
      "\t-0.6083\taw             \t\t\t\t0.4483\tbest           \n",
      "\t-0.5740\tstale          \t\t\t\t0.4369\tperfect        \n",
      "\t-0.5597\tthrew          \t\t\t\t0.4169\tawesom         \n",
      "\t-0.5197\tbland          \t\t\t\t0.3884\tnice           \n",
      "\t-0.5026\twors           \t\t\t\t0.3855\tgreat          \n",
      "\t-0.5026\trefund         \t\t\t\t0.3741\tyummi          \n",
      "\t-0.4997\ttasteless      \t\t\t\t0.3684\taddict         \n",
      "\t-0.4912\twont buy       \t\t\t\t0.3398\tfantast        \n",
      "\t-0.4855\tmislead        \t\t\t\t0.3398\tsatisfi        \n",
      "\t-0.4855\tdisgust        \t\t\t\t0.3313\tnever disappoint\n",
      "\t-0.4655\tmoney          \t\t\t\t0.3313\tsmooth         \n",
      "\t-0.4655\tunfortun       \t\t\t\t0.3284\tlove           \n",
      "\t-0.4398\tgross          \t\t\t\t0.3170\thappi          \n",
      "\t-0.4226\tsorri          \t\t\t\t0.3113\teven better    \n",
      "\t-0.4198\tweak           \t\t\t\t0.3113\tbeat           \n",
      "\t-0.4198\tcancel         \t\t\t\t0.2998\twonder         \n",
      "\t-0.4198\tnever buy      \t\t\t\t0.2856\teasi           \n",
      "\t-0.4112\tpoor           \t\t\t\t0.2856\ttasti          \n",
      "\t-0.4027\tyuck           \t\t\t\t0.2827\tfavorit        \n",
      "\t-0.4027\twast money     \t\t\t\t0.2799\tuniqu          \n"
     ]
    }
   ],
   "source": [
    "show_most_informative_features(count_vect,svm)"
   ]
  },
  {
   "cell_type": "markdown",
   "metadata": {},
   "source": [
    "# [7.2.5] TF-IDF"
   ]
  },
  {
   "cell_type": "code",
   "execution_count": 49,
   "metadata": {},
   "outputs": [
    {
     "name": "stdout",
     "output_type": "stream",
     "text": [
      "shape of X: (100000,)\n"
     ]
    }
   ],
   "source": [
    "# Train Label\n",
    "X = final_np[\"CleanedText\"]\n",
    "print(\"shape of X:\", X.shape)\n"
   ]
  },
  {
   "cell_type": "code",
   "execution_count": 50,
   "metadata": {},
   "outputs": [
    {
     "name": "stdout",
     "output_type": "stream",
     "text": [
      "shape of y: (100000,)\n"
     ]
    }
   ],
   "source": [
    "# Class label\n",
    "y = final_np[\"Score\"]\n",
    "print(\"shape of y:\", y.shape)"
   ]
  },
  {
   "cell_type": "code",
   "execution_count": 51,
   "metadata": {},
   "outputs": [
    {
     "name": "stdout",
     "output_type": "stream",
     "text": [
      "(70000,) (70000,) (30000,)\n"
     ]
    }
   ],
   "source": [
    "from sklearn.model_selection import train_test_split\n",
    "X_train, X_test, y_train, y_test = train_test_split(X, y, test_size = 0.3, random_state = 42)\n",
    "print(X_train.shape, y_train.shape, X_test.shape)"
   ]
  },
  {
   "cell_type": "code",
   "execution_count": 52,
   "metadata": {
    "collapsed": true
   },
   "outputs": [],
   "source": [
    "tf_idf_vect = TfidfVectorizer()\n",
    "X_train = tf_idf_vect.fit_transform(X_train)\n",
    "X_test = tf_idf_vect.transform(X_test)\n"
   ]
  },
  {
   "cell_type": "markdown",
   "metadata": {},
   "source": [
    "# GridSearchCV"
   ]
  },
  {
   "cell_type": "code",
   "execution_count": 53,
   "metadata": {},
   "outputs": [
    {
     "name": "stdout",
     "output_type": "stream",
     "text": [
      "Fitting 10 folds for each of 9 candidates, totalling 90 fits\n"
     ]
    },
    {
     "name": "stderr",
     "output_type": "stream",
     "text": [
      "[Parallel(n_jobs=-1)]: Done  42 tasks      | elapsed:   11.6s\n",
      "[Parallel(n_jobs=-1)]: Done  90 out of  90 | elapsed:   20.8s finished\n"
     ]
    },
    {
     "data": {
      "image/png": "[encoded data removed]",
      "text/plain": [
       "<matplotlib.figure.Figure at 0x207079e97f0>"
      ]
     },
     "metadata": {},
     "output_type": "display_data"
    },
    {
     "name": "stdout",
     "output_type": "stream",
     "text": [
      "   mean_fit_time  std_fit_time  mean_score_time  std_score_time param_alpha  \\\n",
      "8       0.242362      0.102726         0.060465        0.008353       0.001   \n",
      "0       0.232366      0.105133         0.056867        0.009968          10   \n",
      "1       0.246659      0.112291         0.057867        0.008521           5   \n",
      "2       0.252755      0.113788         0.053669        0.004689           1   \n",
      "3       0.235965      0.106645         0.057467        0.008305         0.5   \n",
      "\n",
      "             params  split0_test_score  split1_test_score  split2_test_score  \\\n",
      "8  {'alpha': 0.001}           0.848656           0.845985           0.845985   \n",
      "0     {'alpha': 10}           0.847399           0.845513           0.845670   \n",
      "1      {'alpha': 5}           0.847399           0.845513           0.845670   \n",
      "2      {'alpha': 1}           0.847399           0.845513           0.845670   \n",
      "3    {'alpha': 0.5}           0.847399           0.845513           0.845670   \n",
      "\n",
      "   split3_test_score       ...         split2_train_score  split3_train_score  \\\n",
      "8           0.857457       ...                   0.848188            0.847598   \n",
      "0           0.857457       ...                   0.847926            0.847362   \n",
      "1           0.857457       ...                   0.847926            0.847362   \n",
      "2           0.857457       ...                   0.847926            0.847362   \n",
      "3           0.857457       ...                   0.847926            0.847362   \n",
      "\n",
      "   split4_train_score  split5_train_score  split6_train_score  \\\n",
      "8            0.849507            0.848344             0.84987   \n",
      "0            0.849381            0.848239             0.84978   \n",
      "1            0.849381            0.848239             0.84978   \n",
      "2            0.849381            0.848239             0.84978   \n",
      "3            0.849381            0.848239             0.84978   \n",
      "\n",
      "   split7_train_score  split8_train_score  split9_train_score  \\\n",
      "8            0.850268            0.851486            0.851769   \n",
      "0            0.850190            0.851399            0.851643   \n",
      "1            0.850190            0.851399            0.851643   \n",
      "2            0.850190            0.851399            0.851643   \n",
      "3            0.850190            0.851399            0.851643   \n",
      "\n",
      "   mean_train_score  std_train_score  \n",
      "8          0.849899         0.001533  \n",
      "0          0.849592         0.001390  \n",
      "1          0.849592         0.001390  \n",
      "2          0.849592         0.001390  \n",
      "3          0.849592         0.001390  \n",
      "\n",
      "[5 rows x 31 columns]\n",
      "Best alpha(1/C): 0.001\n",
      "Best Accuracy: 85.16%\n"
     ]
    }
   ],
   "source": [
    "#SVMGrid\n",
    "svm_tfidf= svm_grid(X_train, y_train)\n",
    "svm_tfidf"
   ]
  },
  {
   "cell_type": "code",
   "execution_count": 54,
   "metadata": {
    "collapsed": true
   },
   "outputs": [],
   "source": [
    "svm = SGDClassifier(loss='hinge',alpha=0.001,class_weight='balanced')\n",
    "svm.fit(X_train,y_train)\n",
    "y_pred = svm.predict(X_test)"
   ]
  },
  {
   "cell_type": "code",
   "execution_count": 55,
   "metadata": {},
   "outputs": [
    {
     "name": "stdout",
     "output_type": "stream",
     "text": [
      "Train Accuracy 85.13571428571429\n"
     ]
    }
   ],
   "source": [
    "# Accuracy on train data\n",
    "train_acc_tfidf = svm.score(X_train, y_train)\n",
    "print(\"Train Accuracy\", train_acc_tfidf*100)"
   ]
  },
  {
   "cell_type": "code",
   "execution_count": 56,
   "metadata": {},
   "outputs": [
    {
     "name": "stdout",
     "output_type": "stream",
     "text": [
      "Test Accuracy  85.38\n"
     ]
    }
   ],
   "source": [
    "# Accuracy on test data\n",
    "test_acc_tfidf = accuracy_score(y_test,y_pred) * 100\n",
    "print(\"Test Accuracy \",test_acc_tfidf)"
   ]
  },
  {
   "cell_type": "code",
   "execution_count": 57,
   "metadata": {},
   "outputs": [
    {
     "data": {
      "text/plain": [
       "array([[    1,  4386],\n",
       "       [    0, 25613]], dtype=int64)"
      ]
     },
     "execution_count": 57,
     "metadata": {},
     "output_type": "execute_result"
    }
   ],
   "source": [
    "# Confusion Matrix\n",
    "cm = confusion_matrix(y_test, y_pred)\n",
    "cm\n"
   ]
  },
  {
   "cell_type": "code",
   "execution_count": 58,
   "metadata": {},
   "outputs": [
    {
     "name": "stdout",
     "output_type": "stream",
     "text": [
      "             precision    recall  f1-score   support\n",
      "\n",
      "   negative       1.00      0.00      0.00      4387\n",
      "   positive       0.85      1.00      0.92     25613\n",
      "\n",
      "avg / total       0.88      0.85      0.79     30000\n",
      "\n"
     ]
    }
   ],
   "source": [
    "# Classification report\n",
    "print(classification_report(y_test, y_pred))"
   ]
  },
  {
   "cell_type": "code",
   "execution_count": 59,
   "metadata": {},
   "outputs": [
    {
     "data": {
      "image/png": "[encoded data removed]",
      "text/plain": [
       "<matplotlib.figure.Figure at 0x20707a269e8>"
      ]
     },
     "metadata": {},
     "output_type": "display_data"
    }
   ],
   "source": [
    "confusion_matrix_np(cm)\n"
   ]
  },
  {
   "cell_type": "code",
   "execution_count": 60,
   "metadata": {},
   "outputs": [
    {
     "name": "stdout",
     "output_type": "stream",
     "text": [
      "\t\t\tNegative\t\t\t\t\t\tPositive\n",
      "________________________________________________________________________________________________\n",
      "\t-0.9202\tdisappoint     \t\t\t\t0.6574\tgreat          \n",
      "\t-0.8656\twast           \t\t\t\t0.5416\tlove           \n",
      "\t-0.8566\treturn         \t\t\t\t0.5242\tbest           \n",
      "\t-0.7496\tterribl        \t\t\t\t0.4050\tdelici         \n",
      "\t-0.7302\tworst          \t\t\t\t0.3871\tgood           \n",
      "\t-0.7041\thorribl        \t\t\t\t0.3616\texcel          \n",
      "\t-0.6999\taw             \t\t\t\t0.3368\tperfect        \n",
      "\t-0.6824\tthrew          \t\t\t\t0.3166\tnice           \n",
      "\t-0.6722\tmoney          \t\t\t\t0.2890\tfind           \n",
      "\t-0.6370\trefund         \t\t\t\t0.2808\tamaz           \n",
      "\t-0.5306\tstale          \t\t\t\t0.2447\twonder         \n",
      "\t-0.4265\tdisgust        \t\t\t\t0.2382\tfavorit        \n",
      "\t-0.3701\tbad            \t\t\t\t0.2355\thappi          \n",
      "\t-0.3568\tbland          \t\t\t\t0.2333\tsatisfi        \n",
      "\t-0.3539\tgross          \t\t\t\t0.2332\tawesom         \n",
      "\t-0.3453\twors           \t\t\t\t0.2318\teasi           \n",
      "\t-0.3446\taway           \t\t\t\t0.2286\ttasti          \n",
      "\t-0.3443\tpoor           \t\t\t\t0.2264\twell           \n",
      "\t-0.3285\tunfortun       \t\t\t\t0.2239\tkeep           \n",
      "\t-0.3094\texpir          \t\t\t\t0.2167\tthank          \n",
      "\t-0.3061\ttast           \t\t\t\t0.2148\talway          \n",
      "\t-0.3022\tthrow          \t\t\t\t0.2139\taddict         \n",
      "\t-0.2970\tchina          \t\t\t\t0.2081\tyummi          \n",
      "\t-0.2892\ttasteless      \t\t\t\t0.2071\tfresh          \n",
      "\t-0.2824\tyuck           \t\t\t\t0.2048\tquick          \n"
     ]
    }
   ],
   "source": [
    "show_most_informative_features(tf_idf_vect,svm)"
   ]
  },
  {
   "cell_type": "markdown",
   "metadata": {},
   "source": [
    "# [7.2.6] Word2Vec"
   ]
  },
  {
   "cell_type": "code",
   "execution_count": 105,
   "metadata": {
    "collapsed": true
   },
   "outputs": [],
   "source": [
    "from gensim.models import Word2Vec"
   ]
  },
  {
   "cell_type": "code",
   "execution_count": 106,
   "metadata": {},
   "outputs": [
    {
     "name": "stdout",
     "output_type": "stream",
     "text": [
      "shape of X: (100000,)\n"
     ]
    }
   ],
   "source": [
    "# Train Label\n",
    "X = final_np[\"CleanedText\"]\n",
    "print(\"shape of X:\", X.shape)\n"
   ]
  },
  {
   "cell_type": "code",
   "execution_count": 107,
   "metadata": {
    "scrolled": true
   },
   "outputs": [
    {
     "name": "stdout",
     "output_type": "stream",
     "text": [
      "shape of y: (100000,)\n"
     ]
    }
   ],
   "source": [
    "# Class label\n",
    "y = final_np[\"Score\"]\n",
    "print(\"shape of y:\", y.shape)"
   ]
  },
  {
   "cell_type": "code",
   "execution_count": 108,
   "metadata": {},
   "outputs": [
    {
     "name": "stdout",
     "output_type": "stream",
     "text": [
      "(70000,) (70000,) (30000,)\n"
     ]
    }
   ],
   "source": [
    "from sklearn.model_selection import train_test_split\n",
    "X_train, X_test, y_train, y_test = train_test_split(X, y, test_size = 0.3, random_state = 42)\n",
    "print(X_train.shape, y_train.shape, X_test.shape)"
   ]
  },
  {
   "cell_type": "markdown",
   "metadata": {},
   "source": [
    "# [7.2.7] Avg W2V"
   ]
  },
  {
   "cell_type": "code",
   "execution_count": 109,
   "metadata": {},
   "outputs": [],
   "source": [
    "# List of sentence in X_train text\n",
    "sent_of_train=[]\n",
    "for sent in X_train:\n",
    "    sent_of_train.append(sent.split())\n",
    "\n",
    "# List of sentence in X_est text\n",
    "sent_of_test=[]\n",
    "for sent in X_test:\n",
    "    sent_of_test.append(sent.split())   \n",
    "    \n",
    "w2v_dim=300    \n",
    "# Train your own Word2Vec model using your own train text corpus \n",
    "# min_count = 5 considers only words that occured atleast 5 times\n",
    "w2v_model=Word2Vec(sent_of_train,min_count=5,size=w2v_dim, workers=4)\n",
    "\n",
    "w2v_words = list(w2v_model.wv.vocab)"
   ]
  },
  {
   "cell_type": "code",
   "execution_count": 110,
   "metadata": {
    "collapsed": true
   },
   "outputs": [],
   "source": [
    "# compute average word2vec for each review for X_train .\n",
    "train_vectors = []; \n",
    "for sent in sent_of_train:\n",
    "    sent_vec = np.zeros(w2v_dim) \n",
    "    cnt_words =0; \n",
    "    for word in sent: \n",
    "        if word in w2v_words:\n",
    "            vec = w2v_model.wv[word]\n",
    "            sent_vec += vec\n",
    "            cnt_words += 1\n",
    "    if cnt_words != 0:\n",
    "        sent_vec /= cnt_words\n",
    "    train_vectors.append(sent_vec)\n",
    "    \n",
    "# compute average word2vec for each review for X_test .\n",
    "test_vectors = []; \n",
    "for sent in sent_of_test:\n",
    "    sent_vec = np.zeros(w2v_dim) \n",
    "    cnt_words =0; \n",
    "    for word in sent: # \n",
    "        if word in w2v_words:\n",
    "            vec = w2v_model.wv[word]\n",
    "            sent_vec += vec\n",
    "            cnt_words += 1\n",
    "    if cnt_words != 0:\n",
    "        sent_vec /= cnt_words\n",
    "    test_vectors.append(sent_vec) \n",
    "\n",
    "X_train = train_vectors\n",
    "X_test = test_vectors"
   ]
  },
  {
   "cell_type": "code",
   "execution_count": 111,
   "metadata": {},
   "outputs": [
    {
     "name": "stdout",
     "output_type": "stream",
     "text": [
      "Fitting 10 folds for each of 9 candidates, totalling 90 fits\n"
     ]
    },
    {
     "name": "stderr",
     "output_type": "stream",
     "text": [
      "[Parallel(n_jobs=-1)]: Done  42 tasks      | elapsed:  2.3min\n",
      "[Parallel(n_jobs=-1)]: Done  90 out of  90 | elapsed:  4.8min finished\n"
     ]
    },
    {
     "data": {
      "image/png": "[encoded data removed]",
      "text/plain": [
       "<matplotlib.figure.Figure at 0x20787c00710>"
      ]
     },
     "metadata": {},
     "output_type": "display_data"
    },
    {
     "name": "stdout",
     "output_type": "stream",
     "text": [
      "   mean_fit_time  std_fit_time  mean_score_time  std_score_time param_alpha  \\\n",
      "8       0.393174      0.176942         0.085850        0.019688       0.001   \n",
      "7       0.470331      0.192709         0.103741        0.029223       0.005   \n",
      "6       0.447643      0.220580         0.102142        0.020651        0.01   \n",
      "5       0.421859      0.230758         0.085751        0.012742        0.05   \n",
      "0       0.514805      0.251580         0.221873        0.334200          10   \n",
      "\n",
      "             params  split0_test_score  split1_test_score  split2_test_score  \\\n",
      "8  {'alpha': 0.001}           0.883545           0.891089           0.893289   \n",
      "7  {'alpha': 0.005}           0.886689           0.888103           0.893446   \n",
      "6   {'alpha': 0.01}           0.887474           0.878045           0.881817   \n",
      "5   {'alpha': 0.05}           0.847871           0.845670           0.845985   \n",
      "0     {'alpha': 10}           0.847399           0.845513           0.845670   \n",
      "\n",
      "   split3_test_score       ...         split2_train_score  split3_train_score  \\\n",
      "8           0.898004       ...                   0.895004            0.890844   \n",
      "7           0.901147       ...                   0.892438            0.893240   \n",
      "6           0.891403       ...                   0.882855            0.884952   \n",
      "5           0.857457       ...                   0.848345            0.847716   \n",
      "0           0.857457       ...                   0.847926            0.847362   \n",
      "\n",
      "   split4_train_score  split5_train_score  split6_train_score  \\\n",
      "8            0.898435            0.894095            0.899187   \n",
      "7            0.893501            0.893126            0.890523   \n",
      "6            0.884702            0.882991            0.884103   \n",
      "5            0.849475            0.848370            0.849960   \n",
      "0            0.849381            0.848239            0.849780   \n",
      "\n",
      "   split7_train_score  split8_train_score  split9_train_score  \\\n",
      "8            0.899845            0.902556            0.903154   \n",
      "7            0.893284            0.895572            0.894040   \n",
      "6            0.883817            0.882512            0.885318   \n",
      "5            0.850307            0.851486            0.851769   \n",
      "0            0.850190            0.851399            0.851643   \n",
      "\n",
      "   mean_train_score  std_train_score  \n",
      "8          0.897985         0.004068  \n",
      "7          0.893240         0.001205  \n",
      "6          0.884756         0.003138  \n",
      "5          0.849939         0.001399  \n",
      "0          0.849592         0.001390  \n",
      "\n",
      "[5 rows x 31 columns]\n",
      "Best alpha(1/C): 0.001\n",
      "Best Accuracy: 89.73%\n"
     ]
    }
   ],
   "source": [
    "#SVMGrid\n",
    "svm_avgw2v= svm_grid(X_train, y_train)\n",
    "svm_avgw2v"
   ]
  },
  {
   "cell_type": "code",
   "execution_count": 112,
   "metadata": {
    "collapsed": true
   },
   "outputs": [],
   "source": [
    "svm = SGDClassifier(loss='hinge',alpha=0.001,class_weight='balanced')\n",
    "svm.fit(X_train,y_train)\n",
    "y_pred = svm.predict(X_test)"
   ]
  },
  {
   "cell_type": "code",
   "execution_count": 113,
   "metadata": {},
   "outputs": [
    {
     "name": "stdout",
     "output_type": "stream",
     "text": [
      "Train Accuracy 89.75857142857143\n"
     ]
    }
   ],
   "source": [
    "# Accuracy on train data\n",
    "train_acc_avgw2v = svm.score(X_train, y_train)\n",
    "print(\"Train Accuracy\", train_acc_avgw2v*100)\n"
   ]
  },
  {
   "cell_type": "code",
   "execution_count": 114,
   "metadata": {},
   "outputs": [
    {
     "name": "stdout",
     "output_type": "stream",
     "text": [
      "Test Accuracy  89.74333333333333\n"
     ]
    }
   ],
   "source": [
    "# Accuracy on test data\n",
    "test_acc_avgw2v = accuracy_score(y_test,y_pred) * 100\n",
    "print(\"Test Accuracy \",test_acc_avgw2v)"
   ]
  },
  {
   "cell_type": "code",
   "execution_count": 115,
   "metadata": {},
   "outputs": [
    {
     "data": {
      "text/plain": [
       "array([[ 1732,  2655],\n",
       "       [  422, 25191]], dtype=int64)"
      ]
     },
     "execution_count": 115,
     "metadata": {},
     "output_type": "execute_result"
    }
   ],
   "source": [
    "# Confusion Matrix\n",
    "cm = confusion_matrix(y_test, y_pred)\n",
    "cm"
   ]
  },
  {
   "cell_type": "code",
   "execution_count": 116,
   "metadata": {
    "scrolled": true
   },
   "outputs": [
    {
     "name": "stdout",
     "output_type": "stream",
     "text": [
      "             precision    recall  f1-score   support\n",
      "\n",
      "   negative       0.80      0.39      0.53      4387\n",
      "   positive       0.90      0.98      0.94     25613\n",
      "\n",
      "avg / total       0.89      0.90      0.88     30000\n",
      "\n"
     ]
    }
   ],
   "source": [
    "# Classification report\n",
    "print(classification_report(y_test, y_pred))"
   ]
  },
  {
   "cell_type": "code",
   "execution_count": 117,
   "metadata": {},
   "outputs": [
    {
     "data": {
      "image/png": "[encoded data removed]",
      "text/plain": [
       "<matplotlib.figure.Figure at 0x2071c01f048>"
      ]
     },
     "metadata": {},
     "output_type": "display_data"
    }
   ],
   "source": [
    "confusion_matrix_np(cm)\n"
   ]
  },
  {
   "cell_type": "markdown",
   "metadata": {},
   "source": [
    "# TFIDF-W2V"
   ]
  },
  {
   "cell_type": "code",
   "execution_count": 118,
   "metadata": {},
   "outputs": [
    {
     "name": "stdout",
     "output_type": "stream",
     "text": [
      "shape of X: (100000,)\n"
     ]
    }
   ],
   "source": [
    "# Train Label\n",
    "X = final_np[\"CleanedText\"]\n",
    "print(\"shape of X:\", X.shape)"
   ]
  },
  {
   "cell_type": "code",
   "execution_count": 119,
   "metadata": {},
   "outputs": [
    {
     "name": "stdout",
     "output_type": "stream",
     "text": [
      "shape of y: (100000,)\n"
     ]
    }
   ],
   "source": [
    "# Class label\n",
    "y = final_np[\"Score\"]\n",
    "print(\"shape of y:\", y.shape)"
   ]
  },
  {
   "cell_type": "code",
   "execution_count": 120,
   "metadata": {},
   "outputs": [
    {
     "name": "stdout",
     "output_type": "stream",
     "text": [
      "(70000,) (70000,) (30000,)\n"
     ]
    }
   ],
   "source": [
    "from sklearn.model_selection import train_test_split\n",
    "X_train, X_test, y_train, y_test = train_test_split(X, y, test_size = 0.3, random_state = 42)\n",
    "print(X_train.shape, y_train.shape, X_test.shape)"
   ]
  },
  {
   "cell_type": "code",
   "execution_count": 121,
   "metadata": {
    "collapsed": true
   },
   "outputs": [],
   "source": [
    "# S = [\"abc def pqr\", \"def def def abc\", \"pqr pqr def\"]\n",
    "model = TfidfVectorizer()\n",
    "tf_idf_matrix = model.fit_transform(final['CleanedText'].values)\n",
    "# we are converting a dictionary with word as a key, and the idf as a value\n",
    "dictionary = dict(zip(model.get_feature_names(), list(model.idf_)))"
   ]
  },
  {
   "cell_type": "code",
   "execution_count": 123,
   "metadata": {
    "scrolled": true
   },
   "outputs": [],
   "source": [
    "# TF-IDF weighted Word2Vec\n",
    "tfidf_feat = model.get_feature_names() # tfidf words/col-names\n",
    "# final_tf_idf is the sparse matrix with row= sentence, col=word and cell_val = tfidf\n",
    "\n",
    "tfidf_sent_vectors = []; # the tfidf-w2v for each sentence/review is stored in this list\n",
    "row=0;\n",
    "for sent in sent_of_train: # for each review/sentence \n",
    "    sent_vec = np.zeros(w2v_dim) # as word vectors are of zero length\n",
    "    weight_sum =0; # num of words with a valid vector in the sentence/review\n",
    "    for word in sent: # for each word in a review/sentence\n",
    "            if word in w2v_words:\n",
    "                vec = w2v_model.wv[word]\n",
    "                #tf_idf = tf_idf_matrix[row, tfidf_feat.index(word)]\n",
    "                # to reduce the computation we are \n",
    "                # dictionary[word] = idf value of word in whole courpus\n",
    "                # sent.count(word) = tf valeus of word in this review\n",
    "                tf_idf = dictionary[word]*sent.count(word)\n",
    "                sent_vec += (vec * tf_idf)\n",
    "                weight_sum += tf_idf\n",
    "    if weight_sum != 0:\n",
    "        sent_vec /= weight_sum\n",
    "    tfidf_sent_vectors.append(sent_vec)\n",
    "    row += 1"
   ]
  },
  {
   "cell_type": "code",
   "execution_count": 124,
   "metadata": {
    "collapsed": true
   },
   "outputs": [],
   "source": [
    "# TF-IDF weighted Word2Vec\n",
    "tfidf_feat = model.get_feature_names() # tfidf words/col-names\n",
    "# final_tf_idf is the sparse matrix with row= sentence, col=word and cell_val = tfidf\n",
    "\n",
    "tfidf_sent_vectors_test = []; # the tfidf-w2v for each sentence/review is stored in this list\n",
    "row=0;\n",
    "for sent in sent_of_test: # for each review/sentence \n",
    "    sent_vec = np.zeros(w2v_dim) # as word vectors are of zero length\n",
    "    weight_sum =0; # num of words with a valid vector in the sentence/review\n",
    "    for word in sent: # for each word in a review/sentence\n",
    "            if word in w2v_words:\n",
    "                vec = w2v_model.wv[word]\n",
    "                # tf_idf = tf_idf_matrix[row, tfidf_feat.index(word)]\n",
    "                # to reduce the computation we are \n",
    "                # dictionary[word] = idf value of word in whole courpus\n",
    "                # sent.count(word) = tf valeus of word in this review\n",
    "                tf_idf = dictionary[word]*sent.count(word)\n",
    "                sent_vec += (vec * tf_idf)\n",
    "                weight_sum += tf_idf\n",
    "    if weight_sum != 0:\n",
    "        sent_vec /= weight_sum\n",
    "    tfidf_sent_vectors_test.append(sent_vec)\n",
    "    row += 1\n",
    "\n",
    "X_train = tfidf_sent_vectors\n",
    "X_test = tfidf_sent_vectors_test"
   ]
  },
  {
   "cell_type": "markdown",
   "metadata": {},
   "source": [
    "# GridSearchCV"
   ]
  },
  {
   "cell_type": "code",
   "execution_count": 125,
   "metadata": {},
   "outputs": [
    {
     "name": "stdout",
     "output_type": "stream",
     "text": [
      "Fitting 10 folds for each of 9 candidates, totalling 90 fits\n"
     ]
    },
    {
     "name": "stderr",
     "output_type": "stream",
     "text": [
      "[Parallel(n_jobs=-1)]: Done  42 tasks      | elapsed:  3.5min\n",
      "[Parallel(n_jobs=-1)]: Done  90 out of  90 | elapsed:  6.6min finished\n"
     ]
    },
    {
     "data": {
      "image/png": "[encoded data removed]",
      "text/plain": [
       "<matplotlib.figure.Figure at 0x20788c00da0>"
      ]
     },
     "metadata": {},
     "output_type": "display_data"
    },
    {
     "name": "stdout",
     "output_type": "stream",
     "text": [
      "   mean_fit_time  std_fit_time  mean_score_time  std_score_time param_alpha  \\\n",
      "8       0.446744      0.222717         0.108039        0.032300       0.001   \n",
      "7       0.730181      0.567746         0.133624        0.054957       0.005   \n",
      "6       0.526298      0.239623         0.110938        0.022640        0.01   \n",
      "5       0.505810      0.269625         0.104341        0.020860        0.05   \n",
      "0       1.022849      0.822721         0.376504        0.580079          10   \n",
      "\n",
      "             params  split0_test_score  split1_test_score  split2_test_score  \\\n",
      "8  {'alpha': 0.001}           0.871601           0.878202           0.883074   \n",
      "7  {'alpha': 0.005}           0.877573           0.875530           0.873645   \n",
      "6   {'alpha': 0.01}           0.864529           0.865787           0.864215   \n",
      "5   {'alpha': 0.05}           0.847399           0.845670           0.845670   \n",
      "0     {'alpha': 10}           0.847399           0.845513           0.845670   \n",
      "\n",
      "   split3_test_score       ...         split2_train_score  split3_train_score  \\\n",
      "8           0.886374       ...                   0.886783            0.884677   \n",
      "7           0.881188       ...                   0.876100            0.874622   \n",
      "6           0.874116       ...                   0.865783            0.867552   \n",
      "5           0.857457       ...                   0.847926            0.847362   \n",
      "0           0.857457       ...                   0.847926            0.847362   \n",
      "\n",
      "   split4_train_score  split5_train_score  split6_train_score  \\\n",
      "8            0.885897            0.888674            0.888974   \n",
      "7            0.873767            0.877334            0.876650   \n",
      "6            0.866885            0.867985            0.868636   \n",
      "5            0.849381            0.848239            0.849780   \n",
      "0            0.849381            0.848239            0.849780   \n",
      "\n",
      "   split7_train_score  split8_train_score  split9_train_score  \\\n",
      "8            0.890181            0.886877            0.885318   \n",
      "7            0.877355            0.876907            0.876911   \n",
      "6            0.865884            0.868666            0.868536   \n",
      "5            0.850190            0.851399            0.851643   \n",
      "0            0.850190            0.851399            0.851643   \n",
      "\n",
      "   mean_train_score  std_train_score  \n",
      "8          0.885305         0.004821  \n",
      "7          0.877402         0.002879  \n",
      "6          0.867659         0.001315  \n",
      "5          0.849631         0.001419  \n",
      "0          0.849592         0.001390  \n",
      "\n",
      "[5 rows x 31 columns]\n",
      "Best alpha(1/C): 0.001\n",
      "Best Accuracy: 88.59%\n"
     ]
    }
   ],
   "source": [
    "#SVMGrid\n",
    "lrg_tfidfw2v= svm_grid(X_train, y_train)\n",
    "lrg_tfidfw2v\n"
   ]
  },
  {
   "cell_type": "code",
   "execution_count": 126,
   "metadata": {
    "collapsed": true
   },
   "outputs": [],
   "source": [
    "svm = SGDClassifier(loss='hinge',alpha=0.001)\n",
    "svm.fit(X_train,y_train)\n",
    "y_pred = svm.predict(X_test)"
   ]
  },
  {
   "cell_type": "code",
   "execution_count": 127,
   "metadata": {},
   "outputs": [
    {
     "name": "stdout",
     "output_type": "stream",
     "text": [
      "Train Accuracy 88.50142857142858\n"
     ]
    }
   ],
   "source": [
    "# Accuracy on train data\n",
    "train_acc_tfidfw2v = svm.score(X_train, y_train)\n",
    "print(\"Train Accuracy\", train_acc_tfidfw2v*100)"
   ]
  },
  {
   "cell_type": "code",
   "execution_count": 128,
   "metadata": {},
   "outputs": [
    {
     "name": "stdout",
     "output_type": "stream",
     "text": [
      "Test Accuracy  88.61666666666666\n"
     ]
    }
   ],
   "source": [
    "# Accuracy on test data\n",
    "test_acc_tfidfw2v = accuracy_score(y_test,y_pred) * 100\n",
    "print(\"Test Accuracy \",test_acc_tfidfw2v)"
   ]
  },
  {
   "cell_type": "code",
   "execution_count": 129,
   "metadata": {},
   "outputs": [
    {
     "data": {
      "text/plain": [
       "array([[ 1368,  3019],\n",
       "       [  396, 25217]], dtype=int64)"
      ]
     },
     "execution_count": 129,
     "metadata": {},
     "output_type": "execute_result"
    }
   ],
   "source": [
    "# Confusion Matrix\n",
    "cm = confusion_matrix(y_test, y_pred)\n",
    "cm\n"
   ]
  },
  {
   "cell_type": "code",
   "execution_count": 130,
   "metadata": {},
   "outputs": [
    {
     "name": "stdout",
     "output_type": "stream",
     "text": [
      "             precision    recall  f1-score   support\n",
      "\n",
      "   negative       0.78      0.31      0.44      4387\n",
      "   positive       0.89      0.98      0.94     25613\n",
      "\n",
      "avg / total       0.88      0.89      0.86     30000\n",
      "\n"
     ]
    }
   ],
   "source": [
    "# Classification report\n",
    "print(classification_report(y_test, y_pred))"
   ]
  },
  {
   "cell_type": "code",
   "execution_count": 131,
   "metadata": {},
   "outputs": [
    {
     "data": {
      "image/png": "[encoded data removed]",
      "text/plain": [
       "<matplotlib.figure.Figure at 0x20788cc2518>"
      ]
     },
     "metadata": {},
     "output_type": "display_data"
    }
   ],
   "source": [
    "confusion_matrix_np(cm)"
   ]
  },
  {
   "cell_type": "markdown",
   "metadata": {},
   "source": [
    "# Conclusion\n",
    "* Bigram Vectorizer performs well with test accuracy equal to 92.35% and f1-score 0.92."
   ]
  },
  {
   "cell_type": "code",
   "execution_count": 133,
   "metadata": {},
   "outputs": [
    {
     "name": "stdout",
     "output_type": "stream",
     "text": [
      "Performance Table\n",
      "+-------------+--------------+------------+----------------+---------------+-----------+\n",
      "|  Vectorizer |      CV      | Alpha(1/C) | Train Accuracy | Test Accuracy | F-1 Score |\n",
      "+-------------+--------------+------------+----------------+---------------+-----------+\n",
      "| Unigram BOW | GridSearchCV |   0.001    |     92.57      |     91.59     |    0.91   |\n",
      "|  Bigram BOW | GridSearchCV |   0.001    |     95.72      |     92.35     |    0.92   |\n",
      "|    TF-IDF   | GridSearchCV |   0.001    |     85.13      |     85.38     |    0.79   |\n",
      "|   AVG-W2V   | GridSearchCV |   0.001    |     89.75      |     89.74     |    0.88   |\n",
      "|  TFIDF-W2V  | GridSearchCV |   0.001    |      88.5      |     88.41     |    0.86   |\n",
      "+-------------+--------------+------------+----------------+---------------+-----------+\n"
     ]
    }
   ],
   "source": [
    "from prettytable import PrettyTable\n",
    "x = PrettyTable()\n",
    "\n",
    "x.field_names = [\"Vectorizer\",\"CV\",\"Alpha(1/C)\",\"Train Accuracy\",\"Test Accuracy\",\"F-1 Score\"]\n",
    "\n",
    "x.add_row([\"Unigram BOW\", \"GridSearchCV\",0.001,92.57,91.59,0.91])\n",
    "x.add_row([\"Bigram BOW\", \"GridSearchCV\",0.001,95.72,92.35,0.92])\n",
    "x.add_row([\"TF-IDF\", \"GridSearchCV\",0.001,85.13,85.38,0.79])\n",
    "x.add_row([\"AVG-W2V\", \"GridSearchCV\",0.001,89.75,89.74,0.88])\n",
    "x.add_row([\"TFIDF-W2V\", \"GridSearchCV\",0.001,88.5,88.41,0.86])          \n",
    "\n",
    "print(\"Performance Table\")\n",
    "print(x)"
   ]
  },
  {
   "cell_type": "code",
   "execution_count": null,
   "metadata": {
    "collapsed": true
   },
   "outputs": [],
   "source": []
  }
 ],
 "metadata": {
  "kernelspec": {
   "display_name": "Python 3",
   "language": "python",
   "name": "python3"
  },
  "language_info": {
   "codemirror_mode": {
    "name": "ipython",
    "version": 3
   },
   "file_extension": ".py",
   "mimetype": "text/x-python",
   "name": "python",
   "nbconvert_exporter": "python",
   "pygments_lexer": "ipython3",
   "version": "3.6.3"
  }
 },
 "nbformat": 4,
 "nbformat_minor": 2
}
